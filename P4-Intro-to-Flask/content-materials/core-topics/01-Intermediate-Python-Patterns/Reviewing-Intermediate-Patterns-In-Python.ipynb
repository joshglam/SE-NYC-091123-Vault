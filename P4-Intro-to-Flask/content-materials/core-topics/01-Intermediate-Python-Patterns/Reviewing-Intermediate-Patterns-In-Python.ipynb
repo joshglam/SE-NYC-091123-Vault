{
 "cells": [
  {
   "cell_type": "markdown",
   "id": "bfc92c1b-5215-40c6-8ddb-3bfcaf16d1d4",
   "metadata": {},
   "source": [
    "---\n",
    "---\n",
    "---"
   ]
  },
  {
   "cell_type": "markdown",
   "id": "49d8c871-9648-404f-b71d-6abe55c657a7",
   "metadata": {},
   "source": [
    "# Reviewing Intermediate Patterns in Python"
   ]
  },
  {
   "cell_type": "markdown",
   "id": "cb7d6903-b9be-435b-becf-74634a1f0634",
   "metadata": {},
   "source": [
    "---\n",
    "---"
   ]
  },
  {
   "cell_type": "markdown",
   "id": "08d4a7ed-60f2-47b7-8cf9-c112aedd429e",
   "metadata": {},
   "source": [
    "## Data Structures and Algorithms"
   ]
  },
  {
   "cell_type": "markdown",
   "id": "d06d1d85-e2f4-4a53-9ef4-56b46cb35160",
   "metadata": {},
   "source": [
    "|Term                           | Definition\n",
    "|-------------------------------|-----------------------------|\n",
    "|**Iterable**                   | An **object which can be looped over** or iterated over in a loop. Examples of iterables include lists, sets, tuples, dictionaries, strings, etc. |\n",
    "|**Iterator**                   | An **object that can be iterated over**. Not exactly the same thing as an iterable – iterators can be used to assist with iterating over an iterable. |\n",
    "|**Generator**                  | A special type of function which does not return a single value: it **returns an iterator object** with a sequence of values. |\n",
    "|**Lazy Evaluation**            | An evaluation strategy whereby **certain objects are only produced when required**. (Sometimes referred to as \"call-by-need\" evaluation.) |\n",
    "|**`iter()`**                   | A built-in function used to **convert an iterable to an iterator**. |\n",
    "|**`next()`**                   | A built-in function used to **return the next item in an iterator**. |\n",
    "|**`yield()`**                  | A built-in function similar to the `return` keyword, except `yield` **returns a generator object** instead of a value. |"
   ]
  },
  {
   "cell_type": "markdown",
   "id": "d4032dee-d468-483b-83a0-368dfa9afdfb",
   "metadata": {},
   "source": [
    "### Iterators"
   ]
  },
  {
   "cell_type": "code",
   "execution_count": null,
   "id": "fd56f508-f8dd-46e1-8a7d-19b67a953906",
   "metadata": {},
   "outputs": [],
   "source": [
    "iter?"
   ]
  },
  {
   "cell_type": "code",
   "execution_count": null,
   "id": "3e52eaaf-4fb7-4ad9-bafd-ce7913d12a7a",
   "metadata": {},
   "outputs": [],
   "source": [
    "list_of_nums = [1, 2, 3, 4]\n",
    "\n",
    "print(iter(list_of_nums))"
   ]
  },
  {
   "cell_type": "code",
   "execution_count": null,
   "id": "e2be2a13-f073-4d39-9e2b-0c3745957cfc",
   "metadata": {},
   "outputs": [],
   "source": [
    "next?"
   ]
  },
  {
   "cell_type": "code",
   "execution_count": null,
   "id": "341cf3b5-51de-4880-9f90-ece915bd5c6a",
   "metadata": {},
   "outputs": [],
   "source": [
    "print(next(list_of_nums))"
   ]
  },
  {
   "cell_type": "code",
   "execution_count": null,
   "id": "87736c22-f14a-449f-aad9-148c326112ec",
   "metadata": {},
   "outputs": [],
   "source": [
    "iterator = iter(list_of_nums)\n",
    "\n",
    "# print(next(iterator))"
   ]
  },
  {
   "cell_type": "code",
   "execution_count": null,
   "id": "547e53f7-0e0d-4ec5-84f6-4bfd439fc8c8",
   "metadata": {},
   "outputs": [],
   "source": [
    "next(iterator)"
   ]
  },
  {
   "cell_type": "code",
   "execution_count": null,
   "id": "cdcdf0c0-ffb5-4ba7-aff2-7e3a0868e5dc",
   "metadata": {},
   "outputs": [],
   "source": [
    "for iterator in list_of_nums:\n",
    "    print(iterator)"
   ]
  },
  {
   "cell_type": "code",
   "execution_count": null,
   "id": "a684dfb4-9643-42d5-ad1d-2834d9a80ab6",
   "metadata": {},
   "outputs": [],
   "source": [
    "first_iterator, second_iterator = iter(list_of_nums), iter(list_of_nums)\n",
    "\n",
    "print(\"First Iterator's Consumption\")\n",
    "print(next(first_iterator))\n",
    "print(next(first_iterator))\n",
    "print(next(first_iterator))\n",
    "print(next(first_iterator))\n",
    "\n",
    "print(\"Calling Second Iterator\")\n",
    "print(next(second_iterator))"
   ]
  },
  {
   "cell_type": "markdown",
   "id": "5b54fb0d-8846-45de-8b16-33034eec5ab7",
   "metadata": {},
   "source": [
    "### Generators"
   ]
  },
  {
   "cell_type": "code",
   "execution_count": null,
   "id": "dc59f8df-5808-4223-afff-110458e6abc5",
   "metadata": {},
   "outputs": [],
   "source": [
    "def get_all_factors(n):\n",
    "    factors = []\n",
    "    for value in range(1, n + 1):\n",
    "        if n % value == 0:\n",
    "            factors.append(value)\n",
    "    return factors"
   ]
  },
  {
   "cell_type": "code",
   "execution_count": null,
   "id": "3bd88b65-7d66-4cda-a9e6-706485c4ff10",
   "metadata": {},
   "outputs": [],
   "source": [
    "get_all_factors(n=20)"
   ]
  },
  {
   "cell_type": "code",
   "execution_count": null,
   "id": "37f227a6-d84c-49d6-a766-d1252b5cc1ee",
   "metadata": {},
   "outputs": [],
   "source": [
    "def generate_factors(n):\n",
    "    for value in range(1, n + 1):\n",
    "        if n % value == 0:\n",
    "            yield value"
   ]
  },
  {
   "cell_type": "code",
   "execution_count": null,
   "id": "e1f04159-6607-40be-9708-df645cf914c7",
   "metadata": {},
   "outputs": [],
   "source": [
    "generate_factors(n=20)"
   ]
  },
  {
   "cell_type": "code",
   "execution_count": null,
   "id": "4df65a3d-8033-455b-ab15-b02b08367910",
   "metadata": {},
   "outputs": [],
   "source": [
    "generator = generate_factors(n=200000000000)\n",
    "\n",
    "print(next(generator))\n",
    "print(next(generator))\n",
    "print(next(generator))\n",
    "print(next(generator))\n",
    "print(next(generator))\n",
    "print(next(generator))"
   ]
  },
  {
   "cell_type": "code",
   "execution_count": null,
   "id": "b46360fa-fe4d-440a-8289-8db1813d4d93",
   "metadata": {},
   "outputs": [],
   "source": [
    "all_factors_for_large_number"
   ]
  },
  {
   "cell_type": "code",
   "execution_count": null,
   "id": "01a603d6-aaa1-4f7c-a11b-cabed2b275d3",
   "metadata": {},
   "outputs": [],
   "source": [
    "all_factors_for_large_number.append(next(generator))"
   ]
  },
  {
   "cell_type": "code",
   "execution_count": null,
   "id": "a0d1da59-67d4-4c42-aa17-c4ca44fdda3d",
   "metadata": {},
   "outputs": [],
   "source": [
    "list_comprehension = [num**2 for num in range(10)]\n",
    "\n",
    "list_comprehension"
   ]
  },
  {
   "cell_type": "code",
   "execution_count": null,
   "id": "efc7c8ac-0511-472a-ae60-7b41df967a13",
   "metadata": {},
   "outputs": [],
   "source": [
    "generator_comprehension = (num**2 for num in range(10))\n",
    "\n",
    "generator_comprehension"
   ]
  },
  {
   "cell_type": "code",
   "execution_count": null,
   "id": "61cce194-a147-4f25-a779-5012c59fc0d7",
   "metadata": {},
   "outputs": [],
   "source": [
    "list_of_nums = [1, 2, 3, 4]"
   ]
  },
  {
   "cell_type": "code",
   "execution_count": null,
   "id": "784cece2-e659-4166-acaf-fe4ffade4685",
   "metadata": {},
   "outputs": [],
   "source": [
    "sum(list_of_nums)"
   ]
  },
  {
   "cell_type": "code",
   "execution_count": null,
   "id": "a7fe91da-6c5a-4a8d-88b0-bbc0d3548602",
   "metadata": {},
   "outputs": [],
   "source": [
    "sum(generator_comprehension)"
   ]
  },
  {
   "cell_type": "markdown",
   "id": "538cf570-d6b8-41a7-af83-a34890e974d7",
   "metadata": {},
   "source": [
    "## Built-In Methods and Native Techniques"
   ]
  },
  {
   "cell_type": "markdown",
   "id": "00f8b0b5-f18d-4dfb-bed5-d47ca3c999ad",
   "metadata": {},
   "source": [
    "|Term                           | Definition\n",
    "|-------------------------------|-----------------------------|\n",
    "|**`input()`**                  | A built-in function that enables **user input** that can be saved to a variable. |\n",
    "|**`eval()`**                   | A built-in function that evaluates **arbitrary Python expressions** from a string-based or compiled-code-based input. |\n",
    "|**`open()`**                   | A built-in function that creates and/or **opens a file** and returns it as a programmatically-handleable object. |\n",
    "|**`try`**                      | A syntactic clause in Python paired with `except` that **attempts to execute some code** without resulting in any exceptions; exception detection will trigger logic stored within the `except` block. |\n",
    "|**`except`**                   | A syntactic clause in Python paired with `try` that executes some code upon **detection of an exception** within a `try` block. |\n",
    "|**`finally`**                  | A syntactic clause in Python that executes **final code** before the `try`-`except` block's execution is closed; this sometimes appears after `try`-`except` blocks. |\n",
    "|**`with`**                     | A syntactic keyword in Python used for **context management** that ensures a resource that is opened in the current clause's scope is subsequently closed before leaving the context manager. |\n",
    "|**`lambda`**                   | A special keyword reserved for defining **anonymous functions** in Python. |"
   ]
  },
  {
   "cell_type": "markdown",
   "id": "3c6f4a0b-8581-4f2e-a5d1-072fec476449",
   "metadata": {},
   "source": [
    "### File Manipulation"
   ]
  },
  {
   "cell_type": "markdown",
   "id": "34b82509-327e-4518-9c03-10d614a22fac",
   "metadata": {},
   "source": [
    "**Handling user input.**"
   ]
  },
  {
   "cell_type": "markdown",
   "id": "bd1d568f-1484-45af-99d2-6e0365d6b5ff",
   "metadata": {},
   "source": [
    "Inputting data as strings with `input()`."
   ]
  },
  {
   "cell_type": "code",
   "execution_count": null,
   "id": "2e8dcb87-cdcf-4ddd-b55b-23ffa33d42ce",
   "metadata": {},
   "outputs": [],
   "source": [
    "username = input(\"Hi there! What's your name?\\n  >> \")\n",
    "\n",
    "print(f\"\\nIt's a pleasure to meet you, {username}!\")"
   ]
  },
  {
   "cell_type": "markdown",
   "id": "a51df1b9-c958-43ca-9785-427f417f2933",
   "metadata": {},
   "source": [
    "Evaluating user-inputted Python expressions with `eval()`."
   ]
  },
  {
   "cell_type": "code",
   "execution_count": null,
   "id": "91c88590-15dd-4de8-acf4-a09c2fa0f160",
   "metadata": {},
   "outputs": [],
   "source": [
    "expression = input(\"What Python operation would you like to evaluate?\\n  >> \")\n",
    "\n",
    "print(f\"\\nThe output of your expression is as follows:\\n{eval(expression)}!\")"
   ]
  },
  {
   "cell_type": "markdown",
   "id": "33a01f99-47c3-42c1-b2d6-52e19a2178e7",
   "metadata": {},
   "source": [
    "**Opening and closing files.**"
   ]
  },
  {
   "cell_type": "markdown",
   "id": "62e3bfc0-dfd5-4e8c-91c3-90e3141cbefb",
   "metadata": {},
   "source": [
    "Opening and reading a file."
   ]
  },
  {
   "cell_type": "code",
   "execution_count": null,
   "id": "7eabf7cf-227f-4824-983e-9be1080eecf1",
   "metadata": {},
   "outputs": [],
   "source": [
    "sample = open(\"sample.txt\", \"r\")"
   ]
  },
  {
   "cell_type": "code",
   "execution_count": null,
   "id": "40648094-e478-4b97-8204-d0e3df4d2089",
   "metadata": {},
   "outputs": [],
   "source": [
    "sample.read()"
   ]
  },
  {
   "cell_type": "markdown",
   "id": "550a71ba-7063-4441-8a00-7af287347c4e",
   "metadata": {},
   "source": [
    "Writing to a file."
   ]
  },
  {
   "cell_type": "code",
   "execution_count": null,
   "id": "8d4c0c5b-4114-40af-ae1f-25e470ea6c40",
   "metadata": {},
   "outputs": [],
   "source": [
    "sample = open(\"sample.txt\", \"w\")"
   ]
  },
  {
   "cell_type": "code",
   "execution_count": null,
   "id": "de7bde00-7d1e-4a81-9fc8-df83599864b9",
   "metadata": {},
   "outputs": [],
   "source": [
    "for i in range(3):\n",
    "    sample.write(\"Hello, friend!\\n\")"
   ]
  },
  {
   "cell_type": "markdown",
   "id": "b8003051-757c-4895-86d2-9ef0311413ec",
   "metadata": {},
   "source": [
    "Closing a file."
   ]
  },
  {
   "cell_type": "code",
   "execution_count": null,
   "id": "89f1e7e0-4ca7-4c26-8f7d-e134313c846c",
   "metadata": {},
   "outputs": [],
   "source": [
    "sample.close()"
   ]
  },
  {
   "cell_type": "markdown",
   "id": "996a6c5c-5cce-4e8a-8941-79aec00e7df1",
   "metadata": {},
   "source": [
    "### Resource Management"
   ]
  },
  {
   "cell_type": "markdown",
   "id": "06f16b77-7a88-46fb-84e2-de346eb7b827",
   "metadata": {},
   "source": [
    "Operational management with `try`, `except`, and `finally`."
   ]
  },
  {
   "cell_type": "code",
   "execution_count": null,
   "id": "5cd722db-83bb-4ba5-963d-2ec317aa3693",
   "metadata": {},
   "outputs": [],
   "source": [
    "try:\n",
    "    sample = open(\"sample2.txt\", \"r\")\n",
    "    print(\"Opening preexisting file...\")\n",
    "    print(f\"\\n >> FILE CONTENT: `{sample.read()}`\\n\")\n",
    "except FileNotFoundError as FNFError:\n",
    "    print(\"FileNotFoundError detected. Creating file...\")\n",
    "    sample = open(\"sample2.txt\", \"w\")\n",
    "    sample.write(\"Wow, what a cool file!\")\n",
    "    print(\"File successfully created and written to.\")\n",
    "finally:\n",
    "    print(\"Closing file...\")\n",
    "    sample.close()\n",
    "    print(\"File closed.\")"
   ]
  },
  {
   "cell_type": "markdown",
   "id": "c9b686a2-3553-4c76-84b7-6405744626d8",
   "metadata": {},
   "source": [
    "Context management with `with`."
   ]
  },
  {
   "cell_type": "code",
   "execution_count": null,
   "id": "44a3337b-4525-41e9-872d-f8a01c9233c7",
   "metadata": {},
   "outputs": [],
   "source": [
    "with open(\"sample3.txt\", \"w\") as fw:\n",
    "    fw.write(\"Hi there! Hello! Good morning! Merry day! Hooray!\")\n",
    "\n",
    "with open(\"sample3.txt\", \"r\") as fr:\n",
    "    print(fr.read())"
   ]
  },
  {
   "cell_type": "markdown",
   "id": "6f77d099-009f-497b-9499-fb614349823b",
   "metadata": {},
   "source": [
    "### Lambda (Anonymous) Functions"
   ]
  },
  {
   "cell_type": "markdown",
   "id": "236eb509-11ac-424e-ba9d-be0c27ebc6ed",
   "metadata": {},
   "source": [
    "Basic lambda expressions."
   ]
  },
  {
   "cell_type": "code",
   "execution_count": null,
   "id": "bb302c5a-e024-4a6e-ba03-30c99530e04b",
   "metadata": {},
   "outputs": [],
   "source": [
    "def add_two_numbers(a, b):\n",
    "    return a + b"
   ]
  },
  {
   "cell_type": "code",
   "execution_count": null,
   "id": "d900627e-147a-4e83-8af9-492ad9a73c9f",
   "metadata": {},
   "outputs": [],
   "source": [
    "lambda a, b: a + b"
   ]
  },
  {
   "cell_type": "code",
   "execution_count": null,
   "id": "0409fdd4-1c02-4b11-ad7e-11a063f8d010",
   "metadata": {},
   "outputs": [],
   "source": [
    "add_two_numbers = lambda a, b: a + b\n",
    "\n",
    "add_two_numbers(1, 2)"
   ]
  },
  {
   "cell_type": "markdown",
   "id": "90854b27-1a9e-455a-8d14-a4c24fac6512",
   "metadata": {},
   "source": [
    "Immediately invoked function expressions."
   ]
  },
  {
   "cell_type": "code",
   "execution_count": null,
   "id": "65c1518b-72bc-4c0e-87db-75fa9b73a0f5",
   "metadata": {},
   "outputs": [],
   "source": [
    "(lambda number: number ** 3)(4)"
   ]
  },
  {
   "cell_type": "markdown",
   "id": "62c0c11c-415d-4c47-8f93-561963235cbd",
   "metadata": {},
   "source": [
    "Higher-order functions."
   ]
  },
  {
   "cell_type": "code",
   "execution_count": null,
   "id": "ccb542f5-266c-4308-b2b2-a1f2dc06474d",
   "metadata": {},
   "outputs": [],
   "source": [
    "higher_order = lambda number, modifier: number + modifier(number)\n",
    "\n",
    "higher_order(10, lambda number: number / 2)"
   ]
  },
  {
   "cell_type": "markdown",
   "id": "8c3531c1-0628-4fe3-a1b8-a30695efa1b1",
   "metadata": {},
   "source": [
    "Common functional applications: lambdas with `map()`. "
   ]
  },
  {
   "cell_type": "code",
   "execution_count": null,
   "id": "059823d9-ea0f-4eee-a0de-808b99687ecf",
   "metadata": {},
   "outputs": [],
   "source": [
    "list(map(\n",
    "    lambda number: number ** 2, \n",
    "    [1, 2, 3, 4]\n",
    "))"
   ]
  },
  {
   "cell_type": "markdown",
   "id": "d5bec1c0-36ba-4c9b-9a8d-6fbc87280a85",
   "metadata": {},
   "source": [
    "Common functional applications: lambdas with `filter()`."
   ]
  },
  {
   "cell_type": "code",
   "execution_count": null,
   "id": "9a84f78e-e458-470d-b074-5b9e002a768e",
   "metadata": {},
   "outputs": [],
   "source": [
    "list(filter(lambda item: len(item) <= 3, [\"cat\", \"dog\", \"cow\", \"hen\", \"hippopotamus\"]))"
   ]
  },
  {
   "cell_type": "markdown",
   "id": "cff04002-63bd-44a2-a225-d11bdad39682",
   "metadata": {},
   "source": [
    "Common functional applications: lambdas with `sorted()`."
   ]
  },
  {
   "cell_type": "code",
   "execution_count": null,
   "id": "17ccf27b-bf60-4a26-a2bd-ac2f8dcdcd94",
   "metadata": {},
   "outputs": [],
   "source": [
    "user_ids = [\"AS100\", \"DG472\", \"SR887\", \"CG5555\", \"CT1\"]\n",
    "\n",
    "sorted(user_ids)"
   ]
  },
  {
   "cell_type": "code",
   "execution_count": null,
   "id": "12d63963-c720-45ad-94c4-04ce60ee1423",
   "metadata": {},
   "outputs": [],
   "source": [
    "def say_hi():\n",
    "    print(\"hi\")"
   ]
  },
  {
   "cell_type": "code",
   "execution_count": null,
   "id": "49477d41-95e5-47cf-9355-56a2cb4dc549",
   "metadata": {},
   "outputs": [],
   "source": [
    "say_hi"
   ]
  },
  {
   "cell_type": "code",
   "execution_count": null,
   "id": "43515f43-fdb6-4044-9cf3-dc051792f229",
   "metadata": {},
   "outputs": [],
   "source": [
    "lambda a, b: a + b"
   ]
  },
  {
   "cell_type": "code",
   "execution_count": null,
   "id": "800cc30f-0193-4878-9c9b-03e8755034d3",
   "metadata": {},
   "outputs": [],
   "source": [
    "user_ids = [\"AS100\", \"DG472\", \"SR887\", \"CG5555\", \"CT1\"]\n",
    "\n",
    "def get_number_from_id(id):\n",
    "    return int(id[2:])\n",
    "\n",
    "sorted(user_ids, key=lambda id: int(id[2:]))"
   ]
  },
  {
   "cell_type": "markdown",
   "id": "bb4602a6-861f-46d0-a203-3ad886b12658",
   "metadata": {},
   "source": [
    "## Quality Assurance"
   ]
  },
  {
   "cell_type": "markdown",
   "id": "7840a679-235b-48f6-bd72-9d37c21154da",
   "metadata": {},
   "source": [
    "|Term                           | Definition\n",
    "|-------------------------------|-----------------------------|\n",
    "|**Unit Test**                  | A segment of code designed to **test the functionality, reliability, and validity** of another (generally small(er)) segment of code usually referred to as a \"unit\". |\n",
    "|**`assert`**                   | A reserved keyword in Python for creating a logical-evaluation-based expression useful for testing small scripts and functions. |"
   ]
  },
  {
   "cell_type": "markdown",
   "id": "a34f6c39-8513-40f4-a9d7-31b8b0724545",
   "metadata": {},
   "source": [
    "### Test Driven Development"
   ]
  },
  {
   "cell_type": "markdown",
   "id": "2cf0e39d-ded5-4997-b09a-1a88dcedb868",
   "metadata": {},
   "source": [
    "**Basic Testing in Vanilla Python.**"
   ]
  },
  {
   "cell_type": "markdown",
   "id": "a5821420-0d52-4a49-93e2-4c788d4e567a",
   "metadata": {},
   "source": [
    "Using the `assert` keyword to test code."
   ]
  },
  {
   "cell_type": "code",
   "execution_count": null,
   "id": "590efabc-ce7f-4cea-a390-ea968a2e18a2",
   "metadata": {},
   "outputs": [],
   "source": [
    "def exponent_a_to_b(a, b):\n",
    "    return a * b\n",
    "\n",
    "try:\n",
    "    assert exponent_a_to_b(2, 2) == 4\n",
    "    assert exponent_a_to_b(3, 3) == 27\n",
    "    assert exponent_a_to_b(2) == 4\n",
    "    assert exponent_a_to_b(bool(\"Kash\")) == 4\n",
    "except AssertionError:\n",
    "    print(f\"WE BROKE IT! Expected: {2 ** 2}, Got: {exponent_a_to_b(3, 3)}\")"
   ]
  },
  {
   "cell_type": "code",
   "execution_count": null,
   "id": "2781b54c-aa09-4b73-9b1e-f57bb83accbd",
   "metadata": {},
   "outputs": [],
   "source": []
  },
  {
   "cell_type": "code",
   "execution_count": null,
   "id": "08a8266f-f335-496e-bd78-5605d62e4c78",
   "metadata": {},
   "outputs": [],
   "source": []
  },
  {
   "cell_type": "code",
   "execution_count": null,
   "id": "1b5abb0c-f1d3-4442-9bea-8b0a0a551154",
   "metadata": {},
   "outputs": [],
   "source": []
  },
  {
   "cell_type": "code",
   "execution_count": null,
   "id": "0324c121-4c26-41c0-af37-8791eba22430",
   "metadata": {},
   "outputs": [],
   "source": [
    "assert 1 == 1, \"This will run without a problem since 1 = 1!\""
   ]
  },
  {
   "cell_type": "code",
   "execution_count": null,
   "id": "6c988f22-e2b2-4c78-9bca-d55b6341f448",
   "metadata": {},
   "outputs": [],
   "source": [
    "value = 1\n",
    "\n",
    "assert value == 2, f\"Test failed | Expected: 2, Got: {value}\""
   ]
  },
  {
   "cell_type": "code",
   "execution_count": null,
   "id": "fc34b80d-36e9-43d9-93c7-d116f98046fc",
   "metadata": {},
   "outputs": [],
   "source": [
    "def apply_discount(item, discount=0):\n",
    "    \"\"\" Applies a discount to a store item. \"\"\"\n",
    "    discount_price = int(item[\"price\"] * (1.0 - discount))\n",
    "    DISCOUNT_ASSERTION_INVALID_MSG = f\"Discount is invalid! Expected discount rate between 0% and 100%, actually received rate of {int(discount * 100)}%.\"\n",
    "    assert 0 <= discount_price <= item[\"price\"], DISCOUNT_ASSERTION_INVALID_MSG\n",
    "    return discount_price"
   ]
  },
  {
   "cell_type": "code",
   "execution_count": null,
   "id": "5ed4c279-d59f-4cfb-8cb3-53375c62103d",
   "metadata": {},
   "outputs": [],
   "source": [
    "store_item = {\"name\": \"PS5 Spider-Man 2 Bundle\", \"price\": 600}"
   ]
  },
  {
   "cell_type": "code",
   "execution_count": null,
   "id": "67ac77cb-12e9-48a7-8f6e-3d473e6ec582",
   "metadata": {},
   "outputs": [],
   "source": [
    "apply_discount(item=store_item, discount=0.25)"
   ]
  },
  {
   "cell_type": "code",
   "execution_count": null,
   "id": "7e84c996-2049-4b12-93d7-35624b403d27",
   "metadata": {},
   "outputs": [],
   "source": [
    "apply_discount(item=store_item)"
   ]
  },
  {
   "cell_type": "code",
   "execution_count": null,
   "id": "a6fe5d2d-4679-4fa6-b6f3-12a75f22368c",
   "metadata": {},
   "outputs": [],
   "source": [
    "apply_discount(item=store_item, discount=1)"
   ]
  },
  {
   "cell_type": "code",
   "execution_count": null,
   "id": "61ed3cd9-8fb5-4a80-9f1f-c101b7879240",
   "metadata": {},
   "outputs": [],
   "source": [
    "apply_discount(item=store_item, discount=1.25)"
   ]
  },
  {
   "cell_type": "code",
   "execution_count": null,
   "id": "77703599-9843-4317-89db-76f55e0fc454",
   "metadata": {},
   "outputs": [],
   "source": [
    "apply_discount(item=store_item, discount=-0.4)"
   ]
  },
  {
   "cell_type": "code",
   "execution_count": null,
   "id": "4e93dd06-4af8-462d-9523-1047f9153ca6",
   "metadata": {},
   "outputs": [],
   "source": [
    "def apply_discount(item: dict, discount: float = 0.0) -> int:\n",
    "    \"\"\" Applies a discount to a store item. \"\"\"\n",
    "    return int(item[\"price\"] * (1.0 - discount))"
   ]
  },
  {
   "cell_type": "code",
   "execution_count": null,
   "id": "20337239-c425-4477-9ffe-f49cfe5829a8",
   "metadata": {},
   "outputs": [],
   "source": [
    "def test_apply_discount(func, test_items, test_discounts):\n",
    "    \"\"\" Testing function for validating `apply_discount` function. \"\"\"\n",
    "    # Initialize test execution counter\n",
    "    outer_test_counter = 0\n",
    "    # \"Grid search\" through all testable argument permutations\n",
    "    for test_item in test_items:\n",
    "        # Increment testing counter for item parameter iteration\n",
    "        outer_test_counter += 1\n",
    "        inner_test_counter = 0\n",
    "        for test_discount in test_discounts:\n",
    "            # Increment testing counter for discount parameter iteration\n",
    "            inner_test_counter += 1\n",
    "            TEST_FAILURE_PREFIX_MSG = f\"\\nTEST #{outer_test_counter}.{inner_test_counter}.\"\n",
    "            CURRENT_PARAMETER_SEARCH_MSG = f\"\\nCURRENT PARAMETERS:\\n\\t>> `test_item = {test_item}`.\\n\\t>> `test_discount = {test_discount}`.\"\n",
    "            \n",
    "            # Define and test assertion case with custom error message for store item type validation\n",
    "            STORE_ITEM_IS_VALID_TYPE = isinstance(test_item, dict)\n",
    "            STORE_ITEM_INVALID_TYPE_MSG = f\"1 FAILED: Expected `test_item` to be of type `dict`, but got `type(test_item) = {type(test_item)}`.\"\n",
    "            assert STORE_ITEM_IS_VALID_TYPE, TEST_FAILURE_PREFIX_MSG + STORE_ITEM_INVALID_TYPE_MSG + CURRENT_PARAMETER_SEARCH_MSG\n",
    "\n",
    "            # Define and test assertion case with custom error message for store item attribute access validation\n",
    "            STORE_ITEM_HAS_RELEVANT_ATTR = (\"price\" in test_item)\n",
    "            STORE_ITEM_IRRELEVANT_ATTR_MSG = f\"2 FAILED: 'price' does not exist in `test_item`.\"\n",
    "            assert STORE_ITEM_HAS_RELEVANT_ATTR, TEST_FAILURE_PREFIX_MSG + STORE_ITEM_IRRELEVANT_ATTR_MSG + CURRENT_PARAMETER_SEARCH_MSG\n",
    "\n",
    "            # Define and test assertion case with custom error message for store item key type validation\n",
    "            STORE_ITEM_KEY_IS_VALID_TYPE = isinstance(test_item[\"price\"], (float, int)) and not isinstance(test_item[\"price\"], bool)\n",
    "            STORE_ITEM_INVALID_KEY_TYPE = f\"3 FAILED: Expected `test_item['price']` to be of type `float` or `int`, but got `type(test_item['price']) = {type(test_item['price'])}`.\"\n",
    "            assert STORE_ITEM_KEY_IS_VALID_TYPE, TEST_FAILURE_PREFIX_MSG + STORE_ITEM_INVALID_KEY_TYPE + CURRENT_PARAMETER_SEARCH_MSG\n",
    "\n",
    "            # Define and test assertion case with custom error message for discount price type validation\n",
    "            DISCOUNT_RATE_IS_VALID_TYPE = isinstance(test_discount, (float, int))\n",
    "            DISCOUNT_RATE_INVALID_TYPE_MSG = f\"4 FAILED: Expected `test_discount` to be of type `float` or `int`, but got `type(test_discount) = {type(test_discount)}`.\"\n",
    "            assert DISCOUNT_RATE_IS_VALID_TYPE, TEST_FAILURE_PREFIX_MSG + DISCOUNT_RATE_INVALID_TYPE_MSG + CURRENT_PARAMETER_SEARCH_MSG\n",
    "            \n",
    "            # Define and test assertion case with custom error message for function output type validation\n",
    "            DISCOUNTED_PRICE_IS_VALID_TYPE = isinstance(func(test_item, test_discount), int)\n",
    "            DISCOUNTED_PRICE_INVALID_TYPE_MSG = f\"5 FAILED: Expected `{func.__name__}` invocation to return output of type `int`, but got `type({func.__name__})(test_item, test_discount) = {type(func(test_item, test_discount))}`.\"\n",
    "            assert DISCOUNTED_PRICE_IS_VALID_TYPE, TEST_FAILURE_PREFIX_MSG + DISCOUNTED_PRICE_INVALID_TYPE_MSG + CURRENT_PARAMETER_SEARCH_MSG\n",
    "\n",
    "            # Define and test assertion case with custom error message for function output value range validation\n",
    "            DISCOUNTED_PRICE_IS_IN_VALID_RANGE = (0 <= func(test_item, test_discount) <= test_item[\"price\"])\n",
    "            DISCOUNTED_PRICE_INVALID_RANGE_MSG = f\"6 FAILED: Expected `{func.__name__}` invocation to return output within range [0, {test_item['price']}], but got `{func.__name__}(test_item, test_discount) = {func(test_item, test_discount)}`.\"\n",
    "            assert DISCOUNTED_PRICE_IS_IN_VALID_RANGE, TEST_FAILURE_PREFIX_MSG + DISCOUNTED_PRICE_INVALID_RANGE_MSG + CURRENT_PARAMETER_SEARCH_MSG\n",
    "    return \"ALL TESTS PASSED.\""
   ]
  },
  {
   "cell_type": "code",
   "execution_count": null,
   "id": "4aadafe4-e4c9-4090-a278-aa89cff2d90b",
   "metadata": {},
   "outputs": [],
   "source": [
    "grid_search = {\n",
    "    \"test_items\": [\n",
    "        {\"name\": \"PS5 Spider-Man 2 Bundle\", \"price\": 600},\n",
    "        {\"name\": \"Sakib's Glasses\", \"price\": True},\n",
    "        {\"name\": \"Chett's Favorite Cat Sticker\"},\n",
    "        \"Kash was here!\"\n",
    "    ],\n",
    "    \"test_discounts\": [0, 0.25, 0.5, 1, 3, -0.1]\n",
    "}\n",
    "\n",
    "test_apply_discount(func=apply_discount, \n",
    "                    test_items=grid_search[\"test_items\"], \n",
    "                    test_discounts=grid_search[\"test_discounts\"])"
   ]
  },
  {
   "cell_type": "markdown",
   "id": "49e1235e-d28b-42d6-b1d4-89204a04ed2e",
   "metadata": {},
   "source": [
    "---\n",
    "---\n",
    "---"
   ]
  }
 ],
 "metadata": {
  "kernelspec": {
   "display_name": "Python 3 (ipykernel)",
   "language": "python",
   "name": "python3"
  },
  "language_info": {
   "codemirror_mode": {
    "name": "ipython",
    "version": 3
   },
   "file_extension": ".py",
   "mimetype": "text/x-python",
   "name": "python",
   "nbconvert_exporter": "python",
   "pygments_lexer": "ipython3",
   "version": "3.11.3"
  }
 },
 "nbformat": 4,
 "nbformat_minor": 5
}

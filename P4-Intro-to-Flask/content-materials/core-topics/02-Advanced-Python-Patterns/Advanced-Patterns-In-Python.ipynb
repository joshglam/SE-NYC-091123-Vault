{
 "cells": [
  {
   "cell_type": "markdown",
   "id": "7552e23e-7ed6-46a3-80db-2947c72e78b8",
   "metadata": {},
   "source": [
    "---\n",
    "---\n",
    "---"
   ]
  },
  {
   "cell_type": "markdown",
   "id": "3a2321f0-b0ae-40d6-9add-4eec56a700cc",
   "metadata": {},
   "source": [
    "# Advanced Patterns in Python"
   ]
  },
  {
   "cell_type": "markdown",
   "id": "038e0664-1bf8-4482-9c21-281fdb550c13",
   "metadata": {},
   "source": [
    "## Data Structures and Algorithms"
   ]
  },
  {
   "cell_type": "markdown",
   "id": "cbab2bbe-141f-4ecd-a25b-46520e3d809e",
   "metadata": {},
   "source": [
    "|Term                           | Definition\n",
    "|-------------------------------|-----------------------------|\n",
    "|**First-Class Object**         | An object that is dynamically created at runtime – these are usually designed to be **passed to a function and/or returned as a scripted value**. |\n",
    "|**Inner Function**             | A function that is **defined inside another function**. |\n",
    "|**Closure**                    | A special type of inner function that allows **access to variables of the outer function even after the outer function is closed**. |\n",
    "|**Decorator**                  | A powerful syntax that allows dynamic extensibility of one function's logic by **\"decorating it\" in the scope of another function**. |"
   ]
  },
  {
   "cell_type": "markdown",
   "id": "78f73131-738e-4d73-a935-9080a3ce4f6d",
   "metadata": {},
   "source": [
    "### First-Class Objects"
   ]
  },
  {
   "cell_type": "code",
   "execution_count": null,
   "id": "3975550b-65c4-4513-99ac-3d2f1663b405",
   "metadata": {},
   "outputs": [],
   "source": [
    "def speak(method, statement):\n",
    "    return print(method(statement))"
   ]
  },
  {
   "cell_type": "code",
   "execution_count": null,
   "id": "47a79a3f-519d-46f0-9d4e-a425a9c68841",
   "metadata": {},
   "outputs": [],
   "source": [
    "def yell(statement):\n",
    "    return f\"{statement.upper()}!\""
   ]
  },
  {
   "cell_type": "code",
   "execution_count": null,
   "id": "7838d89c-cf1f-4ad8-8a98-853981ae7574",
   "metadata": {},
   "outputs": [],
   "source": [
    "def whisper(statement):\n",
    "    return f\"{statement.lower()}...\""
   ]
  },
  {
   "cell_type": "code",
   "execution_count": null,
   "id": "7299348e-3fbf-461d-9a2f-6932f3f1574b",
   "metadata": {},
   "outputs": [],
   "source": [
    "speak(yell, \"Good morning everyone\")"
   ]
  },
  {
   "cell_type": "code",
   "execution_count": null,
   "id": "b4a65341-4e17-48cf-8b73-4e229a78f8b7",
   "metadata": {},
   "outputs": [],
   "source": [
    "speak(whisper, \"Hey PSST how do I do this code challenge\")"
   ]
  },
  {
   "cell_type": "markdown",
   "id": "59bb9b13-2124-478f-9f5f-d82136ecbd11",
   "metadata": {},
   "source": [
    "### Inner Functions"
   ]
  },
  {
   "cell_type": "code",
   "execution_count": null,
   "id": "788ae9d0-31cc-40f1-9c1c-b15de2f388d0",
   "metadata": {},
   "outputs": [],
   "source": [
    "def greet(name):\n",
    "    # Inner function definition\n",
    "    def say_hi_to():\n",
    "        print(f\"Hi, {name}!\")\n",
    "\n",
    "    # Inner function invocation\n",
    "    say_hi_to()"
   ]
  },
  {
   "cell_type": "code",
   "execution_count": null,
   "id": "06753cc1-e70e-491c-ac9f-8db2e34c559b",
   "metadata": {},
   "outputs": [],
   "source": [
    "# Outer function invocation\n",
    "greet(\"Kash\")"
   ]
  },
  {
   "cell_type": "markdown",
   "id": "cb976e29-7add-4b23-a772-39d192bee44d",
   "metadata": {},
   "source": [
    "### Closures"
   ]
  },
  {
   "cell_type": "code",
   "execution_count": null,
   "id": "468f5d00-34a1-4591-9394-098b3e7109ce",
   "metadata": {},
   "outputs": [],
   "source": [
    "def prototype_multiplier(x):\n",
    "    def multiply(y):\n",
    "        return x * y\n",
    "    return multiply"
   ]
  },
  {
   "cell_type": "code",
   "execution_count": null,
   "id": "dcb22f5e-b4be-4202-aaab-a86903fd340a",
   "metadata": {},
   "outputs": [],
   "source": [
    "multiply_by_five = prototype_multiplier(x=5)\n",
    "multiply_by_nine = prototype_multiplier(x=9)"
   ]
  },
  {
   "cell_type": "code",
   "execution_count": null,
   "id": "2c5c5b9c-7ba8-40e1-907b-6f472457442d",
   "metadata": {},
   "outputs": [],
   "source": [
    "multiply_by_five(y=6)"
   ]
  },
  {
   "cell_type": "code",
   "execution_count": null,
   "id": "d0768d25-ae4b-4dc2-ad44-858942bc14e5",
   "metadata": {},
   "outputs": [],
   "source": [
    "multiply_by_nine(y=5)"
   ]
  },
  {
   "cell_type": "markdown",
   "id": "362a94f6-8513-48bc-9f50-fde5949ba2e3",
   "metadata": {},
   "source": [
    "### Decorators"
   ]
  },
  {
   "cell_type": "markdown",
   "id": "acf57d05-dcdd-44fd-b7df-2a18909b85f8",
   "metadata": {},
   "source": [
    "**Custom Decorators.**"
   ]
  },
  {
   "cell_type": "markdown",
   "id": "213c6bad-3126-476a-8a5c-be6cf7dfa7c2",
   "metadata": {},
   "source": [
    "Writing our own decorator using inner functions, closures, and advanced scope."
   ]
  },
  {
   "cell_type": "code",
   "execution_count": null,
   "id": "36d34227-be87-489f-8dfd-912e980c4afb",
   "metadata": {},
   "outputs": [],
   "source": [
    "def multicheer(func):\n",
    "    def wrapper_multicheer():\n",
    "        print(\"3 cheers for Python!\")\n",
    "        func()\n",
    "        func()\n",
    "        func()\n",
    "    return wrapper_multicheer"
   ]
  },
  {
   "cell_type": "markdown",
   "id": "3672b8a2-98f8-4c84-bd25-9e7001aef45f",
   "metadata": {},
   "source": [
    "Defining our function-to-decorate."
   ]
  },
  {
   "cell_type": "code",
   "execution_count": null,
   "id": "3f0a13fb-585a-46d1-a8c8-6b36b023d5e8",
   "metadata": {},
   "outputs": [],
   "source": [
    "def cheer():\n",
    "    print(\" >> Hip hip hooray!\")"
   ]
  },
  {
   "cell_type": "markdown",
   "id": "c8737070-2e98-4a03-b268-61e4611ce9be",
   "metadata": {},
   "source": [
    "Invoking our custom decorator manually."
   ]
  },
  {
   "cell_type": "code",
   "execution_count": null,
   "id": "4c0e5e54-5dc9-49a6-9717-b98a76ee33de",
   "metadata": {},
   "outputs": [],
   "source": [
    "cheer = multicheer(cheer)"
   ]
  },
  {
   "cell_type": "code",
   "execution_count": null,
   "id": "034cc73b-5f0c-4737-ba51-187feedde661",
   "metadata": {},
   "outputs": [],
   "source": [
    "cheer()"
   ]
  },
  {
   "cell_type": "markdown",
   "id": "e3ee51f7-b0c1-4c71-a8a5-df7fef0e5ff4",
   "metadata": {},
   "source": [
    "Defining and invoking our custom decorator Pythonically using _\"pie\" syntax_ a.k.a. the `@` symbol."
   ]
  },
  {
   "cell_type": "code",
   "execution_count": null,
   "id": "3018d6a7-daa2-4a92-94ff-a3c017593975",
   "metadata": {},
   "outputs": [],
   "source": [
    "@multicheer\n",
    "def cheer():\n",
    "    print(\" >> Hip hip hooray!\")"
   ]
  },
  {
   "cell_type": "code",
   "execution_count": null,
   "id": "fb4126b8-be7a-474e-94c2-3b1ab991ed15",
   "metadata": {},
   "outputs": [],
   "source": [
    "cheer()"
   ]
  },
  {
   "cell_type": "markdown",
   "id": "f1ffd590-3448-4b27-8756-06bb51cd8ad4",
   "metadata": {},
   "source": [
    "**Custom Decorators with Parametrization.**"
   ]
  },
  {
   "cell_type": "markdown",
   "id": "223fd41d-cb72-4151-a524-1b12fc051634",
   "metadata": {},
   "source": [
    "Attempting to permit parameters for decorated function."
   ]
  },
  {
   "cell_type": "code",
   "execution_count": null,
   "id": "0e791e35-043e-4d1d-80e5-ac83be5507c6",
   "metadata": {},
   "outputs": [],
   "source": [
    "@multicheer\n",
    "def cheer(very_excited):\n",
    "    if very_excited is True:\n",
    "        print(\" >> HIP HIP HOORAY!!!\")\n",
    "    else:\n",
    "        print(\" >> Hip hip hooray!\")"
   ]
  },
  {
   "cell_type": "code",
   "execution_count": null,
   "id": "8bea75bb-9790-4ce3-a8d4-7b8f2af1c3d2",
   "metadata": {},
   "outputs": [],
   "source": [
    "cheer(very_excited=True)"
   ]
  },
  {
   "cell_type": "markdown",
   "id": "d3a991d1-c2bb-4169-a09f-4e46c1d76d63",
   "metadata": {},
   "source": [
    "Trying to hack around parametrization of decorated function."
   ]
  },
  {
   "cell_type": "code",
   "execution_count": null,
   "id": "d4ac148b-ae84-4e14-bca5-a1a43493290c",
   "metadata": {},
   "outputs": [],
   "source": [
    "@multicheer\n",
    "def cheer(very_excited = False):\n",
    "    if very_excited is True:\n",
    "        print(\" >> HIP HIP HOORAY!!!\")\n",
    "    else:\n",
    "        print(\" >> Hip hip hooray!\")"
   ]
  },
  {
   "cell_type": "code",
   "execution_count": null,
   "id": "170f2421-0209-4f11-94e0-d65ea869a0be",
   "metadata": {},
   "outputs": [],
   "source": [
    "cheer()"
   ]
  },
  {
   "cell_type": "code",
   "execution_count": null,
   "id": "48bb8a9a-0128-4eef-b4af-7d0e9b549f8f",
   "metadata": {},
   "outputs": [],
   "source": [
    "cheer(False)"
   ]
  },
  {
   "cell_type": "markdown",
   "id": "e1404947-4092-4a31-ac79-ea5f64698fcb",
   "metadata": {},
   "source": [
    "Resolving parametrization issue with arbitrary positional (`*args`) and keyword (`**kwargs`) argument syntaxes."
   ]
  },
  {
   "cell_type": "code",
   "execution_count": null,
   "id": "9eed0c2a-ddfb-44b9-9f27-7c31cf503a19",
   "metadata": {},
   "outputs": [],
   "source": [
    "def multicheer(func):\n",
    "    def wrapper_multicheer(*args, **kwargs):\n",
    "        print(\"3 cheers for Python!\")\n",
    "        func(*args, **kwargs)\n",
    "        func(*args, **kwargs)\n",
    "        func(*args, **kwargs)\n",
    "    return wrapper_multicheer"
   ]
  },
  {
   "cell_type": "code",
   "execution_count": null,
   "id": "58f6210e-f432-4cd9-8abe-0aa85efce33b",
   "metadata": {},
   "outputs": [],
   "source": [
    "@multicheer\n",
    "def cheer(very_excited = False):\n",
    "    if very_excited is True:\n",
    "        print(\" >> HIP HIP HOORAY!!!\")\n",
    "    else:\n",
    "        print(\" >> Hip hip hooray!\")"
   ]
  },
  {
   "cell_type": "code",
   "execution_count": null,
   "id": "7602738f-f2fb-4ba9-b4ac-793b833acc24",
   "metadata": {},
   "outputs": [],
   "source": [
    "cheer()"
   ]
  },
  {
   "cell_type": "code",
   "execution_count": null,
   "id": "2665eace-ec80-4d61-ba1f-cc627cb84ab1",
   "metadata": {},
   "outputs": [],
   "source": [
    "cheer(True)"
   ]
  },
  {
   "cell_type": "markdown",
   "id": "7d8af53f-1ac6-4885-a335-d9252da0a895",
   "metadata": {},
   "source": [
    "Returning and manipulating values to and from decorated functions."
   ]
  },
  {
   "cell_type": "code",
   "execution_count": null,
   "id": "9a52234c-0b1a-45c9-8438-1c11b68572f2",
   "metadata": {},
   "outputs": [],
   "source": [
    "def multicheer(func):\n",
    "    def wrapper_multicheer(*args, **kwargs):\n",
    "        print(f\"{args[0]} cheers for Python!\")\n",
    "        for _ in range(args[0]):\n",
    "            func(*args, **kwargs)\n",
    "    return wrapper_multicheer"
   ]
  },
  {
   "cell_type": "code",
   "execution_count": null,
   "id": "f80d51ff-2fa6-43fe-9cb8-75922e42273f",
   "metadata": {},
   "outputs": [],
   "source": [
    "@multicheer\n",
    "def cheer(num_cheers, very_excited = False):\n",
    "    if very_excited is True:\n",
    "        print(\" >> HIP HIP HOORAY!!!\")\n",
    "    else:\n",
    "        print(\" >> Hip hip hooray!\")"
   ]
  },
  {
   "cell_type": "code",
   "execution_count": null,
   "id": "bf7d0851-617a-41a2-8575-a803d75d2e2b",
   "metadata": {},
   "outputs": [],
   "source": [
    "cheer(5)"
   ]
  },
  {
   "cell_type": "markdown",
   "id": "309950b3-a1e3-408e-933d-bae43b37bf01",
   "metadata": {},
   "source": [
    "A common example – timing a function/script."
   ]
  },
  {
   "cell_type": "code",
   "execution_count": null,
   "id": "f98c22e3-17ff-4bab-b56e-c937a1bdc52a",
   "metadata": {},
   "outputs": [],
   "source": [
    "import time\n",
    "def timer(func):\n",
    "    def wrapper_timer(*args, **kwargs):\n",
    "        t0 = time.perf_counter()\n",
    "        value = func(*args, **kwargs)\n",
    "        t1 = time.perf_counter()\n",
    "        elapsed_time = t1 - t0\n",
    "        print(f\"Executed `{func.__name__}` in {elapsed_time:4f} seconds.\")\n",
    "        return value\n",
    "    return wrapper_timer"
   ]
  },
  {
   "cell_type": "code",
   "execution_count": null,
   "id": "a2718e71-ec4f-493e-8180-b82724b0e8d1",
   "metadata": {},
   "outputs": [],
   "source": [
    "@timer\n",
    "def calculate_sum_of_squares(repetitions, limit):\n",
    "    for _ in range(repetitions):\n",
    "        sum([number ** 2 for number in range(limit)])"
   ]
  },
  {
   "cell_type": "code",
   "execution_count": null,
   "id": "dcb70892-ccf2-41cd-9ff3-24bbe94d8bd6",
   "metadata": {},
   "outputs": [],
   "source": [
    "calculate_sum_of_squares(1, 100000)"
   ]
  },
  {
   "cell_type": "code",
   "execution_count": null,
   "id": "4fbc6a4c-7046-4707-854f-0da8b319170c",
   "metadata": {},
   "outputs": [],
   "source": [
    "calculate_sum_of_squares(1000, 100000)"
   ]
  },
  {
   "cell_type": "markdown",
   "id": "fbd4a473-6605-4c56-b907-e18143de7c58",
   "metadata": {},
   "source": [
    "**Decorators with Arguments.**"
   ]
  },
  {
   "cell_type": "code",
   "execution_count": null,
   "id": "6001ef74-c13b-49d0-af27-8d29e393c7d0",
   "metadata": {},
   "outputs": [],
   "source": [
    "def multicheer(num_times):\n",
    "    def decorator_multicheer(func):\n",
    "        def wrapper_multicheer(*args, **kwargs):\n",
    "            print(f\"{num_times} cheers for Python!\")\n",
    "            for _ in range(num_times):\n",
    "                func(*args, **kwargs)\n",
    "        return wrapper_multicheer\n",
    "    return decorator_multicheer"
   ]
  },
  {
   "cell_type": "code",
   "execution_count": null,
   "id": "3692c5fd-3d0c-4d2f-8189-c705c7a43b01",
   "metadata": {},
   "outputs": [],
   "source": [
    "@multicheer(num_times=10)\n",
    "def cheer(very_excited = False):\n",
    "    if very_excited is True:\n",
    "        print(\" >> HIP HIP HOORAY!!!\")\n",
    "    else:\n",
    "        print(\" >> Hip hip hooray!\")"
   ]
  },
  {
   "cell_type": "code",
   "execution_count": null,
   "id": "0cc3c890-ac5d-4c1b-ba84-466009704bfa",
   "metadata": {},
   "outputs": [],
   "source": [
    "cheer()"
   ]
  },
  {
   "cell_type": "code",
   "execution_count": null,
   "id": "c2362736-9f24-4c87-8669-64cc69cfc072",
   "metadata": {},
   "outputs": [],
   "source": [
    "def fibonacci(num):\n",
    "    print(f\"Calculating `fibonacci({num})`.\")\n",
    "    if num < 2:\n",
    "        return num\n",
    "    return fibonacci(num - 1) + fibonacci(num - 2)\n",
    "\n",
    "fibonacci(10)"
   ]
  },
  {
   "cell_type": "code",
   "execution_count": null,
   "id": "93ba3695-33cb-4665-9238-d8043765e5ac",
   "metadata": {},
   "outputs": [],
   "source": [
    "def cache(func):\n",
    "    def wrapper_cache(*args, **kwargs):\n",
    "        cache_key = args + tuple(kwargs.items())\n",
    "        if cache_key not in wrapper_cache.cache:\n",
    "            wrapper_cache.cache[cache_key] = func(*args, **kwargs)\n",
    "        return wrapper_cache.cache[cache_key]\n",
    "    wrapper_cache.cache = dict()\n",
    "    return wrapper_cache\n",
    "\n",
    "@cache\n",
    "def fibonacci(num):\n",
    "    print(f\"Calculating `fibonacci({num})`.\")\n",
    "    if num < 2:\n",
    "        return num\n",
    "    return fibonacci(num - 1) + fibonacci(num - 2)\n",
    "\n",
    "fibonacci(100)"
   ]
  },
  {
   "cell_type": "markdown",
   "id": "e6a6da2a-5bdd-49bb-bc91-3187ce4c174d",
   "metadata": {},
   "source": [
    "## Built-In Methods and Native Techniques"
   ]
  },
  {
   "cell_type": "markdown",
   "id": "4ce83ff9-b97b-433e-ba9f-748d4695e568",
   "metadata": {},
   "source": [
    "|Term                           | Definition\n",
    "|-------------------------------|-----------------------------|\n",
    "|**Named Argument**             | A classic Python parameter defined on a function to enable a variable to be passed into them as an argument. |\n",
    "|**Positional Argument**        | A unique Python parameter defined on a function that allows any number of variables to be passed into the function, **so long as those variables are passed in the correct order/position**. |\n",
    "|**Keyword Argument**           | A unique Python parameter defined on a function that allows any number of variables to be passed into the function, **so long as those variables are passed to the right keys**. |\n",
    "|**`*args`**                    | A Python syntax that refers to a **variable number of positional arguments** to be passed to a specific function. |\n",
    "|**`**kwargs`**                 | A Python syntax that refers to a **variable number of keyword arguments** to be passed to a specific function. |"
   ]
  },
  {
   "cell_type": "markdown",
   "id": "c3de41a9-5d3e-4502-a93f-86af88da9ee1",
   "metadata": {},
   "source": [
    "### Positional and Keyword Arguments"
   ]
  },
  {
   "cell_type": "markdown",
   "id": "ba48aad8-e6d0-4da0-97f8-8c86b5d33feb",
   "metadata": {},
   "source": [
    "**Defining Different Types of Variable-Length Argument Lists using `*args` and `**kwargs`.**"
   ]
  },
  {
   "cell_type": "markdown",
   "id": "2f92121e-9851-4c7c-a8cc-7266b98388c2",
   "metadata": {},
   "source": [
    "Hardcoding our parameter list for a basic function."
   ]
  },
  {
   "cell_type": "code",
   "execution_count": null,
   "id": "faed7b77-b5b6-407f-9e62-46b39be7dc06",
   "metadata": {},
   "outputs": [],
   "source": [
    "def calculate_sum_of_two_numbers(a, b):\n",
    "    return a + b"
   ]
  },
  {
   "cell_type": "code",
   "execution_count": null,
   "id": "7ef59350-6c70-4076-9eb2-10a4a7ff3817",
   "metadata": {},
   "outputs": [],
   "source": [
    "calculate_sum_of_two_numbers(1, 2)"
   ]
  },
  {
   "cell_type": "markdown",
   "id": "59340596-32ed-4e3c-bf23-d754c58462de",
   "metadata": {},
   "source": [
    "Extending our function's scalability with type-strict objects."
   ]
  },
  {
   "cell_type": "code",
   "execution_count": null,
   "id": "c0c03ead-e15c-4065-9bbd-e1a2a8e7b5cc",
   "metadata": {},
   "outputs": [],
   "source": [
    "def calculate_sum_of_list_of_numbers(numbers):\n",
    "    sum_of_list = 0\n",
    "    for number in numbers:\n",
    "        sum_of_list += number\n",
    "    return sum_of_list"
   ]
  },
  {
   "cell_type": "code",
   "execution_count": null,
   "id": "e67db441-4e8c-4e9f-a7c8-8e06a847e08d",
   "metadata": {},
   "outputs": [],
   "source": [
    "calculate_sum_of_list_of_numbers([1, 2, 3, 4, 5, 6])\n",
    "\n",
    "# sum([1, 2, 3, 4, 5, 6])"
   ]
  },
  {
   "cell_type": "markdown",
   "id": "e767d1e6-b9ec-4bc9-8dd4-a1674af32bed",
   "metadata": {},
   "source": [
    "Extending our function's scalability with variable-length argument lists using the positional unpacking operator (`*`)."
   ]
  },
  {
   "cell_type": "code",
   "execution_count": null,
   "id": "6edfd33c-d89c-477e-a71c-02fb079bf1b2",
   "metadata": {},
   "outputs": [],
   "source": [
    "def calculate_sum_of_sequence(*args):\n",
    "    sum_of_sequence = 0\n",
    "    for number in args:\n",
    "        sum_of_sequence += number\n",
    "    return sum_of_sequence"
   ]
  },
  {
   "cell_type": "code",
   "execution_count": null,
   "id": "3fc7fef4-0a56-49cc-8d4a-cce055c7e3df",
   "metadata": {},
   "outputs": [],
   "source": [
    "calculate_sum_of_sequence(1, 2, 3, 4, 5, 6, 7, 8, 9, 10)"
   ]
  },
  {
   "cell_type": "markdown",
   "id": "75cbc77c-2f27-4a3a-ac8e-0647a558af52",
   "metadata": {},
   "source": [
    "Using keyword arguments to handle variable-length argument lists using the keyword unpacking operator (`**`)."
   ]
  },
  {
   "cell_type": "code",
   "execution_count": null,
   "id": "e2af2096-dce7-4bfe-ad41-a416163b7eb1",
   "metadata": {},
   "outputs": [],
   "source": [
    "def logger(**kwargs):\n",
    "    log = str()\n",
    "    for kwarg in kwargs.values():\n",
    "        log += kwarg\n",
    "    return log"
   ]
  },
  {
   "cell_type": "code",
   "execution_count": null,
   "id": "9bb22d82-6646-4e9d-ae80-0d00f4a351f2",
   "metadata": {},
   "outputs": [],
   "source": [
    "print(logger(prefix=\"Log #1234\\n\", \n",
    "             report1=\"\\n >> Operation completed successfully.\", \n",
    "             report2=\"\\n >> No bugs or confounding errors to report.\", \n",
    "             report3=\"\\n >> Database server is still running optimally.\",\n",
    "             report4=\"\\n >> Client-side app is still serving optimally.\",\n",
    "             suffix=\"\\n\\nAutomatic log file output.\"))"
   ]
  },
  {
   "cell_type": "markdown",
   "id": "e223c189-1028-488e-a395-d98f0ba51ea1",
   "metadata": {},
   "source": [
    "**Combining and Ordering Named, Positional, and Keyword Arguments.**"
   ]
  },
  {
   "cell_type": "code",
   "execution_count": null,
   "id": "125a2f4e-e427-4fd0-b7c3-799895e3bc9c",
   "metadata": {},
   "outputs": [],
   "source": [
    "def send_email(recipient, subject, message, *cc_list, **additional_info):\n",
    "    new_email = {\n",
    "        \"recipient\": recipient,\n",
    "        \"subject\": subject,\n",
    "        \"message\": message\n",
    "    }\n",
    "    print(f\"Sending email to `{recipient}`.\\n\")\n",
    "    print(f\"\\t>> Subject: \\n\\n\\t\\t{subject}\")\n",
    "    print(f\"\\t>> Message: \\n\\n\\t\\t{message}\")\n",
    "    if cc_list:\n",
    "        new_email[\"cc_list\"] = cc_list\n",
    "        print(f\"\\t>> List of CCs:\\n\")\n",
    "        for index, cc in enumerate(cc_list):\n",
    "            print(f\"\\t\\t{index + 1}. {cc}\")\n",
    "        # print(f\"\\t>> List of CCs: \\n\\t\\t{'\\'.join(cc_list)}\")\n",
    "    if additional_info:\n",
    "        new_email[\"additional_info\"] = additional_info\n",
    "        print(f\"\\n\\t>> Additional Info:\\n\")\n",
    "        for key, value in additional_info.items():\n",
    "            print(f\"\\t\\t• {key}: {value}\")\n",
    "        print(\"\\n\")\n",
    "    return new_email"
   ]
  },
  {
   "cell_type": "code",
   "execution_count": null,
   "id": "d427f3f3-132c-43e5-8b47-45326845047a",
   "metadata": {},
   "outputs": [],
   "source": [
    "email = send_email(\n",
    "    # Named Arguments\n",
    "    \"sakib.rasul@flatironschool.com\",\n",
    "    \"It's SE-NYC-091123. We miss React!\\n\",\n",
    "    \"\"\"Hey Sakib, \n",
    "    \n",
    "    \\t\\tKash is teaching us a bunch of weird Python stuff. \n",
    "    \\t\\tWe miss the days of JavaScript and React when we could actually see changes on the DOM. \n",
    "    \\t\\tPlease bring us more muffins or some cookies or something to alleviate our pain.\n",
    "    \n",
    "    \\t\\tPls come back,\n",
    "    \\t\\tSE-NYC-091123\n",
    "    \n",
    "    \\t\\tP.S. What the hell's a Pipfile?!\\n\"\"\",\n",
    "    \n",
    "    # Variable Number of Positional Arguments\n",
    "    \"alina.pisarenko@flatironschool.com\",\n",
    "    \"charlie.kozey@flatironschool.com\",\n",
    "    \"chett.tiller@flatironschool.com\",\n",
    "    \n",
    "    # Variable Number of Keyword Arguments\n",
    "    priority = \"High\",\n",
    "    attachments = [\"code_challenge_answers.docx\", \"pizza_party_plans.pdf\", \"ICANTREAD.md\"],\n",
    "    send_copy_to_myself = True\n",
    ")"
   ]
  },
  {
   "cell_type": "markdown",
   "id": "3731bab3-eca2-4026-8db9-0c41d27aa078",
   "metadata": {},
   "source": [
    "## Object-Oriented Programming Design"
   ]
  },
  {
   "cell_type": "markdown",
   "id": "0024e688-05ae-4be4-ab7c-23479397a512",
   "metadata": {},
   "source": [
    "|Term                           | Definition\n",
    "|-------------------------------|-----------------------------|\n",
    "|**Instance Method**            | A function belonging to an object where the method has access to data belonging to the object's instance(s) through the use of the `self` keyword. (It technically also has access to object's class data too.) |\n",
    "|**Class Method**               | A function belonging to an object where the method has access to data belonging only to the object's class through the use of the `cls` keyword. |\n",
    "|**Static Method**              | A function belonging to an object where the method has access to neither object instance data nor object class data. |"
   ]
  },
  {
   "cell_type": "markdown",
   "id": "d4cccfd6-c9a0-43b9-9bef-9031015b895f",
   "metadata": {},
   "source": [
    "### Static and Class Methods"
   ]
  },
  {
   "cell_type": "code",
   "execution_count": null,
   "id": "4bcca855-75cf-43be-8275-39d945e24335",
   "metadata": {},
   "outputs": [],
   "source": [
    "class MyTestObject:\n",
    "    def my_instance_method(self):\n",
    "        print(\">> CALLED: Instance Method.\")\n",
    "        return self\n",
    "\n",
    "    @classmethod\n",
    "    def my_class_method(cls):\n",
    "        print(\">> CALLED: Class Method.\")\n",
    "        return cls\n",
    "\n",
    "    @staticmethod\n",
    "    def my_static_method():\n",
    "        print(\">> CALLED: Static Method.\")\n",
    "        return"
   ]
  },
  {
   "cell_type": "code",
   "execution_count": null,
   "id": "23a01399",
   "metadata": {},
   "outputs": [],
   "source": [
    "MyTestObject.my_instance_method()\n",
    "MyTestObject.my_class_method()\n",
    "MyTestObject.my_static_method()"
   ]
  },
  {
   "cell_type": "code",
   "execution_count": null,
   "id": "44c1e9fc",
   "metadata": {},
   "outputs": [],
   "source": [
    "my_test_instance = MyTestObject()"
   ]
  },
  {
   "cell_type": "code",
   "execution_count": null,
   "id": "15afccb9",
   "metadata": {},
   "outputs": [],
   "source": [
    "my_test_instance.my_instance_method()\n",
    "my_test_instance.my_class_method()\n",
    "my_test_instance.my_static_method()"
   ]
  },
  {
   "cell_type": "code",
   "execution_count": null,
   "id": "7df79719",
   "metadata": {},
   "outputs": [],
   "source": [
    "class HotBeverage:\n",
    "    def __init__(self, size, ingredients):\n",
    "        self.size = size\n",
    "        self.ingredients = ingredients\n",
    "\n",
    "    def __repr__(self):\n",
    "        return f\"<HotBeverage:({self.size})[{self.ingredients}]>\"\n",
    "    \n",
    "    @classmethod\n",
    "    def coffee(cls, size):\n",
    "        return cls(size, [\"milk\", \"coffee beans\", \"sugar\"])\n",
    "    \n",
    "    @classmethod\n",
    "    def tea(cls, size):\n",
    "        return cls(size, [\"water\", \"tea leaves\", \"honey\"])\n",
    "    \n",
    "    @classmethod\n",
    "    def cocoa(cls, size):\n",
    "        return cls(size, [\"water\", \"milk\", \"chocolate\", \"marshmallows\"])\n",
    "    \n",
    "    def get_number_of_fluid_ounces(self):\n",
    "        return self.convert_size_to_oz(self.size)\n",
    "    \n",
    "    @staticmethod\n",
    "    def convert_size_to_oz(size):\n",
    "        QUANTITIES = {\"small\": 8,\"medium\": 12,\"large\": 16,\"kashs water bucket\": 12}\n",
    "        if size in QUANTITIES:\n",
    "            return QUANTITIES[size]"
   ]
  },
  {
   "cell_type": "code",
   "execution_count": null,
   "id": "cd007150",
   "metadata": {},
   "outputs": [],
   "source": [
    "caramel_macchiatto = HotBeverage.coffee(\"medium\")\n",
    "caramel_macchiatto.ingredients.append(\"caramel\")\n",
    "\n",
    "caramel_macchiatto"
   ]
  },
  {
   "cell_type": "code",
   "execution_count": null,
   "id": "b36d89b1",
   "metadata": {},
   "outputs": [],
   "source": [
    "caramel_macchiatto.get_number_of_fluid_ounces()"
   ]
  },
  {
   "cell_type": "code",
   "execution_count": null,
   "id": "c0ad871a",
   "metadata": {},
   "outputs": [],
   "source": [
    "HotBeverage.convert_size_to_oz(\"large\")"
   ]
  },
  {
   "cell_type": "markdown",
   "id": "60e3433d-96ab-4244-99de-41479c1cb81d",
   "metadata": {},
   "source": [
    "---\n",
    "---\n",
    "---"
   ]
  }
 ],
 "metadata": {
  "kernelspec": {
   "display_name": "Python 3 (ipykernel)",
   "language": "python",
   "name": "python3"
  },
  "language_info": {
   "codemirror_mode": {
    "name": "ipython",
    "version": 3
   },
   "file_extension": ".py",
   "mimetype": "text/x-python",
   "name": "python",
   "nbconvert_exporter": "python",
   "pygments_lexer": "ipython3",
   "version": "3.11.3"
  }
 },
 "nbformat": 4,
 "nbformat_minor": 5
}

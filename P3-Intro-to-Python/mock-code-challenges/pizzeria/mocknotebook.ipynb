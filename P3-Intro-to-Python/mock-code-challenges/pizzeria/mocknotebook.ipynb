{
 "cells": [
  {
   "cell_type": "code",
   "execution_count": 12,
   "id": "38ee9699-1fd5-4ba1-8083-f5e5a3db4368",
   "metadata": {},
   "outputs": [],
   "source": [
    "class Customer:\n",
    "    def __init__(self, name):\n",
    "        self._name = name\n",
    "\n",
    "    @property\n",
    "    def name(self):\n",
    "        return self._name\n",
    "\n",
    "    @name.setter\n",
    "    def name(self, name):\n",
    "        NAME_IS_STR = isinstance(name, str)\n",
    "        NAME_WITHIN_LEN = (1 <= len(name) <= 15)\n",
    "        if NAME_IS_STR and NAME_WITHIN_LEN:\n",
    "            self._name = name\n",
    "        else:\n",
    "            raise Exception(\"womp\")\n",
    "\n",
    "    def access_current_orders(self, new_order=None):\n",
    "        # from classes.order import Order\n",
    "        pass\n",
    "\n",
    "    def access_current_pizzas(self, new_pizza=None):\n",
    "        # from classes.pizza import Pizza\n",
    "        pass"
   ]
  },
  {
   "cell_type": "code",
   "execution_count": 13,
   "id": "c5be55ea-1ada-46eb-a55a-cc9cd2a4d9b2",
   "metadata": {},
   "outputs": [],
   "source": [
    "josh = Customer(\"josh\")"
   ]
  },
  {
   "cell_type": "code",
   "execution_count": 27,
   "id": "c671dd07-defb-453b-9d8a-13418aa7fbc4",
   "metadata": {},
   "outputs": [
    {
     "data": {
      "text/plain": [
       "'tim'"
      ]
     },
     "execution_count": 27,
     "metadata": {},
     "output_type": "execute_result"
    }
   ],
   "source": [
    "josh.name"
   ]
  },
  {
   "cell_type": "code",
   "execution_count": null,
   "id": "e565c1af-faf5-47e4-8b69-eefcc2fcb55c",
   "metadata": {},
   "outputs": [],
   "source": [
    "class Order:\n",
    "    catalog = []\n",
    "\n",
    "    def __init__(self, customer, pizza, price):\n",
    "        self._customer = customer\n",
    "        self.pizza = pizza\n",
    "        self._price = price\n",
    "\n",
    "        Order.catalog.append(self)\n",
    "\n",
    "    def __repr__(self):\n",
    "        return f\"{self.customer.name} ordered a {self.pizza.name} for ${self.price}.\"\n",
    "\n",
    "\n",
    "    @property\n",
    "    def price(self):\n",
    "        return self._price\n",
    "\n",
    "    @price.setter\n",
    "    def price(self, price)\n",
    "        PRICE_IS_INT_FLO = isinstance(price, (int, float))\n",
    "        PRICE_BETWEEN = 1 <= price <= 10\n",
    "        if PRICE_IS_INT_FLO and PRICE_BETWEEN:\n",
    "            self._price = price\n",
    "        else:\n",
    "            raise Exception(\"nope\")\n",
    "            \n",
    "\n",
    "    @property\n",
    "    def customer(self):\n",
    "        return self._customer\n",
    "\n",
    "    @customer.setter\n",
    "    def customer(self, customer)\n",
    "        # from classes.customer import Customer\n",
    "        if isinstance(customer, Customer)\n",
    "            self._customer = customer\n",
    "        \n",
    "        "
   ]
  },
  {
   "cell_type": "code",
   "execution_count": 20,
   "id": "19765d7b-dea8-4112-ac55-b353e6836827",
   "metadata": {},
   "outputs": [
    {
     "ename": "SyntaxError",
     "evalue": "invalid syntax (244775009.py, line 14)",
     "output_type": "error",
     "traceback": [
      "\u001b[0;36m  Cell \u001b[0;32mIn[20], line 14\u001b[0;36m\u001b[0m\n\u001b[0;31m    if NAME_IS_STR and NAME_DOESNT_EXIST:\u001b[0m\n\u001b[0m                                        ^\u001b[0m\n\u001b[0;31mSyntaxError\u001b[0m\u001b[0;31m:\u001b[0m invalid syntax\n"
     ]
    }
   ],
   "source": [
    "class Pizza:\n",
    "    def __init__(self, name):\n",
    "        self._name = name\n",
    "\n",
    "    @property\n",
    "    def name(self):\n",
    "        return self._name\n",
    "\n",
    "    @name.setter\n",
    "    def name(self, name):\n",
    "        NAME_IS_STR = isinstance(name, str)\n",
    "        NAME_DOESNT_EXIST = (not hasattr(self, \"name\")\n",
    "       \n",
    "        if NAME_IS_STR and NAME_DOESNT_EXIST:\n",
    "            self._name = name\n",
    "        else:\n",
    "            raise Exception(\"nah nah nah\")\n",
    "\n",
    "    def access_current_orders(self, new_order=None):\n",
    "        from classes.order import Order\n",
    "        pass\n",
    "\n",
    "    def access_current_customers(self, new_customer=None):\n",
    "        from classes.customer import Customer\n",
    "        pass\n",
    "\n",
    "    def calculate_total_number_of_orders(self):\n",
    "        pass\n",
    "    \n",
    "    def calculate_average_price_across_all_orders(self):\n",
    "        pass"
   ]
  },
  {
   "cell_type": "code",
   "execution_count": null,
   "id": "df0ab3e8-bf4b-42a9-81ab-d0701382b457",
   "metadata": {},
   "outputs": [],
   "source": []
  }
 ],
 "metadata": {
  "kernelspec": {
   "display_name": "Python 3 (ipykernel)",
   "language": "python",
   "name": "python3"
  },
  "language_info": {
   "codemirror_mode": {
    "name": "ipython",
    "version": 3
   },
   "file_extension": ".py",
   "mimetype": "text/x-python",
   "name": "python",
   "nbconvert_exporter": "python",
   "pygments_lexer": "ipython3",
   "version": "3.8.13"
  }
 },
 "nbformat": 4,
 "nbformat_minor": 5
}

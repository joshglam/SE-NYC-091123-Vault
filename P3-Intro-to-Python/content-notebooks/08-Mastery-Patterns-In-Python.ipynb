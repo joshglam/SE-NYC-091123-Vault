{
 "cells": [
  {
   "cell_type": "markdown",
   "id": "74710caf-bf8d-47f3-afbd-896a5c7db8ef",
   "metadata": {},
   "source": [
    "---\n",
    "---\n",
    "---"
   ]
  },
  {
   "cell_type": "markdown",
   "id": "e69bab59-32e3-4646-89cb-5765e10ffb5e",
   "metadata": {},
   "source": [
    "# Mastery Patterns in Python"
   ]
  },
  {
   "cell_type": "markdown",
   "id": "ec39e640-346f-4d0d-80c4-c0032dc2bd64",
   "metadata": {},
   "source": [
    "## Data Structures and Algorithms"
   ]
  },
  {
   "cell_type": "markdown",
   "id": "df806ddc-1ad2-4d52-9f6c-bff6157f92ab",
   "metadata": {},
   "source": [
    "|Term                           | Definition\n",
    "|-------------------------------|-----------------------------|\n",
    "|**Builtin Scope**              | ... |\n",
    "|**Global Scope**               | ... |\n",
    "|**Nonlocal Scope**             | ... |\n",
    "|**Local Scope**                | ... |"
   ]
  },
  {
   "cell_type": "markdown",
   "id": "c647b127-0355-4fd9-b53b-d471149847f8",
   "metadata": {},
   "source": [
    "### High-Level Scoping Control"
   ]
  },
  {
   "cell_type": "markdown",
   "id": "b980cb3c-7f57-4472-997a-84f32c7ac9a4",
   "metadata": {},
   "source": [
    "![](https://favtutor.com/resources/images/uploads/mceu_14589579711675226532035.jpg)"
   ]
  },
  {
   "cell_type": "markdown",
   "id": "f9d2fdd1-89b8-46e0-92e8-4eab0bfcb7f7",
   "metadata": {},
   "source": [
    "**Builtin Variables & Scope.**"
   ]
  },
  {
   "cell_type": "code",
   "execution_count": 1,
   "id": "d8222841-d5d1-4f1f-9c4d-73fe2b8c9a04",
   "metadata": {},
   "outputs": [],
   "source": [
    "def add_two_numbers(a, b):\n",
    "    return a + b, type(a + b)\n",
    "\n",
    "_, type_of_sum = add_two_numbers(1, 2)"
   ]
  },
  {
   "cell_type": "code",
   "execution_count": 2,
   "id": "cf117395-d0c9-4a45-9f06-79731f2c9a2b",
   "metadata": {},
   "outputs": [
    {
     "data": {
      "text/plain": [
       "int"
      ]
     },
     "execution_count": 2,
     "metadata": {},
     "output_type": "execute_result"
    }
   ],
   "source": [
    "type_of_sum"
   ]
  },
  {
   "cell_type": "code",
   "execution_count": 3,
   "id": "29d315ca-1424-4217-9895-4ce54c2258dc",
   "metadata": {},
   "outputs": [
    {
     "data": {
      "text/plain": [
       "function"
      ]
     },
     "execution_count": 3,
     "metadata": {},
     "output_type": "execute_result"
    }
   ],
   "source": [
    "type(add_two_numbers)"
   ]
  },
  {
   "cell_type": "markdown",
   "id": "c292dd23-179c-439a-b2d5-c32b66e3a992",
   "metadata": {},
   "source": [
    "**Global Variables & Scope.**"
   ]
  },
  {
   "cell_type": "markdown",
   "id": "440e5cea-9ebe-425b-a598-84077a619e31",
   "metadata": {},
   "source": [
    "Accessing a variable defined as implicitly global."
   ]
  },
  {
   "cell_type": "code",
   "execution_count": 4,
   "id": "6e8ba656-0dd2-4a09-9f30-254fe2941d40",
   "metadata": {},
   "outputs": [],
   "source": [
    "radius, height = 3, 8\n",
    "\n",
    "def calculate_area_of_circle():\n",
    "    return round(3.14159 * (radius ** 2), 1)\n",
    "\n",
    "def calculate_volume_of_cylinder():\n",
    "    return round(calculate_area_of_circle() * height, 1)"
   ]
  },
  {
   "cell_type": "code",
   "execution_count": 5,
   "id": "a0cf608b-5f6c-4eda-9711-fadc35628f17",
   "metadata": {},
   "outputs": [
    {
     "data": {
      "text/plain": [
       "28.3"
      ]
     },
     "execution_count": 5,
     "metadata": {},
     "output_type": "execute_result"
    }
   ],
   "source": [
    "calculate_area_of_circle()"
   ]
  },
  {
   "cell_type": "code",
   "execution_count": 6,
   "id": "60ac536e-3a29-4427-8fe5-3166211f0ab9",
   "metadata": {},
   "outputs": [
    {
     "data": {
      "text/plain": [
       "226.4"
      ]
     },
     "execution_count": 6,
     "metadata": {},
     "output_type": "execute_result"
    }
   ],
   "source": [
    "calculate_volume_of_cylinder()"
   ]
  },
  {
   "cell_type": "markdown",
   "id": "d7a0f89f-bce6-4771-8050-7536db1696e6",
   "metadata": {},
   "source": [
    "Manipulating a variable defined as implicitly global."
   ]
  },
  {
   "cell_type": "code",
   "execution_count": 7,
   "id": "bf44f96c-d975-4878-b75d-92a9df51cd09",
   "metadata": {},
   "outputs": [],
   "source": [
    "elapsed_time_per_cycle = 300\n",
    "\n",
    "def calculate_total_elapsed_time(cycles):\n",
    "    elapsed_time_per_cycle *= cycles"
   ]
  },
  {
   "cell_type": "code",
   "execution_count": 8,
   "id": "feac468b-971e-4346-948b-d908d2e40652",
   "metadata": {},
   "outputs": [
    {
     "ename": "UnboundLocalError",
     "evalue": "cannot access local variable 'elapsed_time_per_cycle' where it is not associated with a value",
     "output_type": "error",
     "traceback": [
      "\u001b[0;31m---------------------------------------------------------------------------\u001b[0m",
      "\u001b[0;31mUnboundLocalError\u001b[0m                         Traceback (most recent call last)",
      "Cell \u001b[0;32mIn[8], line 1\u001b[0m\n\u001b[0;32m----> 1\u001b[0m \u001b[43mcalculate_total_elapsed_time\u001b[49m\u001b[43m(\u001b[49m\u001b[43mcycles\u001b[49m\u001b[38;5;241;43m=\u001b[39;49m\u001b[38;5;241;43m3\u001b[39;49m\u001b[43m)\u001b[49m\n",
      "Cell \u001b[0;32mIn[7], line 4\u001b[0m, in \u001b[0;36mcalculate_total_elapsed_time\u001b[0;34m(cycles)\u001b[0m\n\u001b[1;32m      3\u001b[0m \u001b[38;5;28;01mdef\u001b[39;00m \u001b[38;5;21mcalculate_total_elapsed_time\u001b[39m(cycles):\n\u001b[0;32m----> 4\u001b[0m     \u001b[43melapsed_time_per_cycle\u001b[49m \u001b[38;5;241m*\u001b[39m\u001b[38;5;241m=\u001b[39m cycles\n",
      "\u001b[0;31mUnboundLocalError\u001b[0m: cannot access local variable 'elapsed_time_per_cycle' where it is not associated with a value"
     ]
    }
   ],
   "source": [
    "calculate_total_elapsed_time(cycles=3)"
   ]
  },
  {
   "cell_type": "code",
   "execution_count": 9,
   "id": "52d9be7c-6c57-4d38-bdd5-a270f7e5a2aa",
   "metadata": {},
   "outputs": [
    {
     "data": {
      "text/plain": [
       "300"
      ]
     },
     "execution_count": 9,
     "metadata": {},
     "output_type": "execute_result"
    }
   ],
   "source": [
    "elapsed_time_per_cycle"
   ]
  },
  {
   "cell_type": "markdown",
   "id": "23488dfa-0726-4671-b4a4-450767a831fc",
   "metadata": {},
   "source": [
    "Manipulating a variable defined as explicitly global using the `global` keyword."
   ]
  },
  {
   "cell_type": "code",
   "execution_count": 10,
   "id": "eedca903-8242-4feb-aba7-d1256123295c",
   "metadata": {},
   "outputs": [],
   "source": [
    "elapsed_time_per_cycle = 300\n",
    "\n",
    "def calculate_total_elapsed_time(cycles):\n",
    "    global elapsed_time_per_cycle\n",
    "    elapsed_time_per_cycle *= cycles"
   ]
  },
  {
   "cell_type": "code",
   "execution_count": 11,
   "id": "5a4fe53f-9de4-4176-a7b3-2ef945671aa0",
   "metadata": {},
   "outputs": [],
   "source": [
    "calculate_total_elapsed_time(cycles=3)"
   ]
  },
  {
   "cell_type": "code",
   "execution_count": 12,
   "id": "99605519-0444-497c-8522-db7efdfcdb5a",
   "metadata": {},
   "outputs": [
    {
     "data": {
      "text/plain": [
       "900"
      ]
     },
     "execution_count": 12,
     "metadata": {},
     "output_type": "execute_result"
    }
   ],
   "source": [
    "elapsed_time_per_cycle"
   ]
  },
  {
   "cell_type": "markdown",
   "id": "a6919547-3ef7-4836-bce0-26956c38f91d",
   "metadata": {},
   "source": [
    "**Local Variables & Scope.**"
   ]
  },
  {
   "cell_type": "markdown",
   "id": "d4d889c9-ac0c-435f-81ba-18f8e096c7fe",
   "metadata": {},
   "source": [
    "Attempting to access a local variable outside of scope."
   ]
  },
  {
   "cell_type": "code",
   "execution_count": 13,
   "id": "825aa6b8-4a5a-4cdc-9fd3-95c5d02d754b",
   "metadata": {},
   "outputs": [],
   "source": [
    "number = 10\n",
    "\n",
    "def calculate_square(number):\n",
    "    squared_number = number * number"
   ]
  },
  {
   "cell_type": "code",
   "execution_count": 14,
   "id": "b0ea8971-eadd-46bf-abd9-deb7c369f7ff",
   "metadata": {},
   "outputs": [
    {
     "data": {
      "text/plain": [
       "10"
      ]
     },
     "execution_count": 14,
     "metadata": {},
     "output_type": "execute_result"
    }
   ],
   "source": [
    "number"
   ]
  },
  {
   "cell_type": "code",
   "execution_count": 15,
   "id": "be07bf45-111e-4846-bd5d-21ef5237f8d1",
   "metadata": {},
   "outputs": [
    {
     "ename": "NameError",
     "evalue": "name 'squared_number' is not defined",
     "output_type": "error",
     "traceback": [
      "\u001b[0;31m---------------------------------------------------------------------------\u001b[0m",
      "\u001b[0;31mNameError\u001b[0m                                 Traceback (most recent call last)",
      "Cell \u001b[0;32mIn[15], line 1\u001b[0m\n\u001b[0;32m----> 1\u001b[0m \u001b[43msquared_number\u001b[49m\n",
      "\u001b[0;31mNameError\u001b[0m: name 'squared_number' is not defined"
     ]
    }
   ],
   "source": [
    "squared_number"
   ]
  },
  {
   "cell_type": "markdown",
   "id": "3004c923-64c0-4713-b8cd-03f01ce72c35",
   "metadata": {},
   "source": [
    "**Nonlocal Variables & Scope.**"
   ]
  },
  {
   "cell_type": "markdown",
   "id": "a8d5b454-7eb6-4145-9ba7-19b5b7bb6b8f",
   "metadata": {},
   "source": [
    "Attempting to access a local variable outside of scope (even with \"prior definition\"). "
   ]
  },
  {
   "cell_type": "code",
   "execution_count": 16,
   "id": "bf57d763-cbf6-4830-b1a2-4691609dece6",
   "metadata": {},
   "outputs": [],
   "source": [
    "radius = 3\n",
    "\n",
    "def calculate_volume_of_cylinder():\n",
    "    measurement = round(radius * 3.14159, 1)\n",
    "    def scale_area_to_volume():\n",
    "        measurement *= 8\n",
    "    scale_area_to_volume()\n",
    "    return measurement"
   ]
  },
  {
   "cell_type": "code",
   "execution_count": 17,
   "id": "496f4f65-76e6-4c79-983a-0ecebbb740cb",
   "metadata": {},
   "outputs": [
    {
     "ename": "UnboundLocalError",
     "evalue": "cannot access local variable 'measurement' where it is not associated with a value",
     "output_type": "error",
     "traceback": [
      "\u001b[0;31m---------------------------------------------------------------------------\u001b[0m",
      "\u001b[0;31mUnboundLocalError\u001b[0m                         Traceback (most recent call last)",
      "Cell \u001b[0;32mIn[17], line 1\u001b[0m\n\u001b[0;32m----> 1\u001b[0m \u001b[43mcalculate_volume_of_cylinder\u001b[49m\u001b[43m(\u001b[49m\u001b[43m)\u001b[49m\n",
      "Cell \u001b[0;32mIn[16], line 7\u001b[0m, in \u001b[0;36mcalculate_volume_of_cylinder\u001b[0;34m()\u001b[0m\n\u001b[1;32m      5\u001b[0m \u001b[38;5;28;01mdef\u001b[39;00m \u001b[38;5;21mscale_area_to_volume\u001b[39m():\n\u001b[1;32m      6\u001b[0m     measurement \u001b[38;5;241m*\u001b[39m\u001b[38;5;241m=\u001b[39m \u001b[38;5;241m8\u001b[39m\n\u001b[0;32m----> 7\u001b[0m \u001b[43mscale_area_to_volume\u001b[49m\u001b[43m(\u001b[49m\u001b[43m)\u001b[49m\n\u001b[1;32m      8\u001b[0m \u001b[38;5;28;01mreturn\u001b[39;00m measurement\n",
      "Cell \u001b[0;32mIn[16], line 6\u001b[0m, in \u001b[0;36mcalculate_volume_of_cylinder.<locals>.scale_area_to_volume\u001b[0;34m()\u001b[0m\n\u001b[1;32m      5\u001b[0m \u001b[38;5;28;01mdef\u001b[39;00m \u001b[38;5;21mscale_area_to_volume\u001b[39m():\n\u001b[0;32m----> 6\u001b[0m     \u001b[43mmeasurement\u001b[49m \u001b[38;5;241m*\u001b[39m\u001b[38;5;241m=\u001b[39m \u001b[38;5;241m8\u001b[39m\n",
      "\u001b[0;31mUnboundLocalError\u001b[0m: cannot access local variable 'measurement' where it is not associated with a value"
     ]
    }
   ],
   "source": [
    "calculate_volume_of_cylinder()"
   ]
  },
  {
   "cell_type": "markdown",
   "id": "acedf614-4a2a-4396-8709-34cb2804f171",
   "metadata": {},
   "source": [
    "Accessing a nonlocal variable (local variable made accessible to parent scope) using `nonlocal` keyword."
   ]
  },
  {
   "cell_type": "code",
   "execution_count": 18,
   "id": "7b105bc6-9081-422f-ac1f-a4cf64c30d17",
   "metadata": {},
   "outputs": [],
   "source": [
    "radius = 3\n",
    "\n",
    "def calculate_volume_of_cylinder():\n",
    "    measurement = round(radius * 3.14159, 1)\n",
    "    def scale_area_to_volume():\n",
    "        nonlocal measurement\n",
    "        measurement *= 8\n",
    "    scale_area_to_volume()\n",
    "    return measurement"
   ]
  },
  {
   "cell_type": "code",
   "execution_count": 19,
   "id": "a261768e-74d7-48ac-8b1b-bacaf4fdc5c2",
   "metadata": {},
   "outputs": [
    {
     "data": {
      "text/plain": [
       "75.2"
      ]
     },
     "execution_count": 19,
     "metadata": {},
     "output_type": "execute_result"
    }
   ],
   "source": [
    "calculate_volume_of_cylinder()"
   ]
  },
  {
   "cell_type": "markdown",
   "id": "55015980-9f6c-44b5-bd18-16ef99bdf56e",
   "metadata": {},
   "source": [
    "## Built-In Methods and Native Techniques"
   ]
  },
  {
   "cell_type": "markdown",
   "id": "22460ae6-d63d-4de0-8d6b-cde116db931d",
   "metadata": {},
   "source": [
    "### Custom Context Management"
   ]
  },
  {
   "cell_type": "markdown",
   "id": "6248c2ef-0e02-4c9f-9bb6-63b31adea003",
   "metadata": {},
   "source": [
    "**A refresher on built-in context management.**"
   ]
  },
  {
   "cell_type": "code",
   "execution_count": 20,
   "id": "de425af9-e333-4b7c-a7b5-95301619b6ea",
   "metadata": {},
   "outputs": [],
   "source": [
    "with open(\"hello.txt\", \"w\") as fw:\n",
    "    fw.write(\"Hello there! 👋🏽\")"
   ]
  },
  {
   "cell_type": "markdown",
   "id": "4327a91d-7952-42f4-a910-0a11c98fbf9a",
   "metadata": {},
   "source": [
    "**Creating custom class-based context managers.**"
   ]
  },
  {
   "cell_type": "markdown",
   "id": "4b4f7527-1cc5-41f0-aea4-652c258936b3",
   "metadata": {},
   "source": [
    "Writing the `.__enter__()` and `.__exit__()` methods for custom context manager classes."
   ]
  },
  {
   "cell_type": "code",
   "execution_count": 21,
   "id": "dedf32c4-6b73-43d8-853a-ecc7ed2242de",
   "metadata": {},
   "outputs": [],
   "source": [
    "import time\n",
    "class Timer(object):\n",
    "    def __enter__(self):\n",
    "        self.t0, self.t1 = time.perf_counter(), float()\n",
    "        return lambda: self.t1 - self.t0\n",
    "    def __exit__(self, *args):\n",
    "        self.t1 = time.perf_counter()"
   ]
  },
  {
   "cell_type": "code",
   "execution_count": 22,
   "id": "b4205bfd-02ae-4e50-93c7-e8d5e4ddaa2c",
   "metadata": {},
   "outputs": [],
   "source": [
    "def calculate_sum_of_squares(repetitions, limit):\n",
    "    for _ in range(repetitions):\n",
    "        sum([number ** 2 for number in range(limit)])"
   ]
  },
  {
   "cell_type": "markdown",
   "id": "be563545-86d5-4af8-8d67-e7623d42397e",
   "metadata": {},
   "source": [
    "Invoking our class-based context manager on time-variable operations."
   ]
  },
  {
   "cell_type": "code",
   "execution_count": 23,
   "id": "f5af6b51-dfca-48f0-beec-41ce43db67fc",
   "metadata": {},
   "outputs": [],
   "source": [
    "with Timer() as timer:\n",
    "    calculate_sum_of_squares(10, 100)"
   ]
  },
  {
   "cell_type": "code",
   "execution_count": 24,
   "id": "251f5987-febd-4807-97ed-c23f7b895656",
   "metadata": {},
   "outputs": [
    {
     "data": {
      "text/plain": [
       "9.600003249943256e-05"
      ]
     },
     "execution_count": 24,
     "metadata": {},
     "output_type": "execute_result"
    }
   ],
   "source": [
    "timer()"
   ]
  },
  {
   "cell_type": "code",
   "execution_count": 25,
   "id": "357e5399-cfd9-4a8b-a7a1-812f3c47e6fd",
   "metadata": {},
   "outputs": [],
   "source": [
    "with Timer() as timer:\n",
    "    calculate_sum_of_squares(1000, 100000)"
   ]
  },
  {
   "cell_type": "code",
   "execution_count": 26,
   "id": "6c70bef4-9a3e-4f28-8f7a-98b65f1a7674",
   "metadata": {},
   "outputs": [
    {
     "data": {
      "text/plain": [
       "7.035457291989587"
      ]
     },
     "execution_count": 26,
     "metadata": {},
     "output_type": "execute_result"
    }
   ],
   "source": [
    "timer()"
   ]
  },
  {
   "cell_type": "markdown",
   "id": "73374908-898f-46f4-b11f-1ff5c93991cf",
   "metadata": {},
   "source": [
    "### Concurrency and Parallelism"
   ]
  },
  {
   "cell_type": "code",
   "execution_count": null,
   "id": "9413eca7-c06c-4938-90f3-118d5dd3e551",
   "metadata": {},
   "outputs": [],
   "source": []
  },
  {
   "cell_type": "markdown",
   "id": "351daf47-4ff0-4018-8623-c380cf1ec6a7",
   "metadata": {},
   "source": [
    "## Object-Oriented Programming Design"
   ]
  },
  {
   "cell_type": "markdown",
   "id": "ba6799d8-c8af-478a-9f05-fa856637a403",
   "metadata": {},
   "source": [
    "|Term                           | Definition\n",
    "|-------------------------------|-----------------------------|\n",
    "|**Metaclass**                  | ... |\n",
    "|**Abstract Base Class**        | ... |"
   ]
  },
  {
   "cell_type": "markdown",
   "id": "fc44e7c6-eba6-4bb5-8d51-d02d902d9f35",
   "metadata": {},
   "source": [
    "### Metaclasses"
   ]
  },
  {
   "cell_type": "code",
   "execution_count": null,
   "id": "7a9e0cf3-ba94-422b-bba4-ab7f37fd27a5",
   "metadata": {},
   "outputs": [],
   "source": []
  },
  {
   "cell_type": "markdown",
   "id": "0312d017-e3b6-4194-af26-39514cb68466",
   "metadata": {},
   "source": [
    "### Abstract Base Classes"
   ]
  },
  {
   "cell_type": "code",
   "execution_count": null,
   "id": "3aaa203d-c304-430f-9c0b-eabdbb0ad9ef",
   "metadata": {},
   "outputs": [],
   "source": []
  },
  {
   "cell_type": "markdown",
   "id": "ec30efa7-33a3-451e-9957-67f635342ef2",
   "metadata": {},
   "source": [
    "---\n",
    "---\n",
    "---"
   ]
  }
 ],
 "metadata": {
  "kernelspec": {
   "display_name": "Python 3 (ipykernel)",
   "language": "python",
   "name": "python3"
  },
  "language_info": {
   "codemirror_mode": {
    "name": "ipython",
    "version": 3
   },
   "file_extension": ".py",
   "mimetype": "text/x-python",
   "name": "python",
   "nbconvert_exporter": "python",
   "pygments_lexer": "ipython3",
   "version": "3.11.3"
  }
 },
 "nbformat": 4,
 "nbformat_minor": 5
}

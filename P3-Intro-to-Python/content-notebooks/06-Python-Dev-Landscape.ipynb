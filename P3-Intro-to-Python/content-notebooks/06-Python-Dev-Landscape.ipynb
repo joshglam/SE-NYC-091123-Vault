{
 "cells": [
  {
   "cell_type": "markdown",
   "id": "d3797387-828b-4890-a546-f6f332b228b3",
   "metadata": {},
   "source": [
    "---\n",
    "---\n",
    "---"
   ]
  },
  {
   "cell_type": "markdown",
   "id": "dd0aed0b-014d-4db3-8db0-e2ace8c676e4",
   "metadata": {},
   "source": [
    "# The Python Development Landscape"
   ]
  },
  {
   "cell_type": "markdown",
   "id": "2ab1846c-d81f-4ca0-903b-c5c74e4d3486",
   "metadata": {},
   "source": [
    "|Term                           | Definition\n",
    "|-------------------------------|-----------------------------|\n",
    "|**Module**                     | ... |\n",
    "|**Library**                    | ... |\n",
    "|**Framework**                  | ... |\n",
    "|**Dependency**                 | ... |\n",
    "|**`pip`/`pip3`**               | ... |\n",
    "|**`pipenv`**                   | ... |\n",
    "|**`Pipfile`**                  | ... |"
   ]
  },
  {
   "cell_type": "markdown",
   "id": "4ae94256-66f4-44a8-a8bf-992d12566099",
   "metadata": {},
   "source": [
    "## Built-In Modules"
   ]
  },
  {
   "cell_type": "code",
   "execution_count": 5,
   "id": "ee120056-c0ad-4154-aef5-6d6a5e8244d9",
   "metadata": {},
   "outputs": [],
   "source": [
    "import os"
   ]
  },
  {
   "cell_type": "code",
   "execution_count": 6,
   "id": "b2b7ba8f-6c2d-4c09-b681-d3a17ce03787",
   "metadata": {},
   "outputs": [],
   "source": [
    "import sys"
   ]
  },
  {
   "cell_type": "code",
   "execution_count": 7,
   "id": "635eda6a-c40d-4f92-a2cf-1c8c57edb618",
   "metadata": {},
   "outputs": [],
   "source": [
    "import math"
   ]
  },
  {
   "cell_type": "code",
   "execution_count": 8,
   "id": "8c9b33f9-aa82-4969-9642-9d982f7de435",
   "metadata": {},
   "outputs": [],
   "source": [
    "import statistics"
   ]
  },
  {
   "cell_type": "code",
   "execution_count": 2,
   "id": "27e7af30-ecfb-4f04-bd41-bb8e578143c2",
   "metadata": {},
   "outputs": [],
   "source": [
    "import collections"
   ]
  },
  {
   "cell_type": "code",
   "execution_count": 1,
   "id": "1a86418e-a0b2-4053-9217-e2eb9082532c",
   "metadata": {},
   "outputs": [],
   "source": [
    "import itertools"
   ]
  },
  {
   "cell_type": "code",
   "execution_count": 9,
   "id": "180b521e-1dc9-4bef-8b8b-1abbaab1b17e",
   "metadata": {},
   "outputs": [],
   "source": [
    "import functools"
   ]
  },
  {
   "cell_type": "code",
   "execution_count": 3,
   "id": "47872349-f0cf-41a5-9674-954ad8c4423b",
   "metadata": {},
   "outputs": [],
   "source": [
    "import random"
   ]
  },
  {
   "cell_type": "code",
   "execution_count": 4,
   "id": "face7491-abb9-45e9-a7cf-7a2bf8a9723c",
   "metadata": {},
   "outputs": [],
   "source": [
    "import time"
   ]
  },
  {
   "cell_type": "code",
   "execution_count": null,
   "id": "0ff9e4f2-81f3-4435-92db-d6cb585434d8",
   "metadata": {},
   "outputs": [],
   "source": [
    "import re"
   ]
  },
  {
   "cell_type": "markdown",
   "id": "7fed641f-935f-4f53-96da-33a7ecbd8c7e",
   "metadata": {},
   "source": [
    "---\n",
    "---"
   ]
  },
  {
   "cell_type": "code",
   "execution_count": 10,
   "id": "da61c7d5-c6f2-4675-b1e1-68f9cbf1b2ff",
   "metadata": {},
   "outputs": [],
   "source": [
    "import requests"
   ]
  },
  {
   "cell_type": "code",
   "execution_count": 11,
   "id": "04ad35ee-5f7e-41d9-9e14-13f4f5f1fa25",
   "metadata": {},
   "outputs": [],
   "source": [
    "import json"
   ]
  },
  {
   "cell_type": "code",
   "execution_count": 1,
   "id": "a541dd4c-8f63-42df-ae20-f854f53b7231",
   "metadata": {},
   "outputs": [],
   "source": [
    "import unittest"
   ]
  },
  {
   "cell_type": "code",
   "execution_count": 2,
   "id": "e1a241b6-5f65-4541-b7e0-51d67a82f4da",
   "metadata": {},
   "outputs": [],
   "source": [
    "import pytest"
   ]
  },
  {
   "cell_type": "code",
   "execution_count": 3,
   "id": "211b3b6d-caa3-4197-86b6-f0ba0e0449d8",
   "metadata": {},
   "outputs": [],
   "source": [
    "import doctest"
   ]
  },
  {
   "cell_type": "markdown",
   "id": "bf679032-73b1-47b1-9eca-db61716b16f2",
   "metadata": {},
   "source": [
    "---\n",
    "---"
   ]
  },
  {
   "cell_type": "code",
   "execution_count": null,
   "id": "d14038ac-b64b-4a0c-8935-78bd0095a5fa",
   "metadata": {},
   "outputs": [],
   "source": [
    "import pandas"
   ]
  },
  {
   "cell_type": "code",
   "execution_count": null,
   "id": "2ba30694-7744-41d0-8408-93e18c412c91",
   "metadata": {},
   "outputs": [],
   "source": [
    "import pygame"
   ]
  },
  {
   "cell_type": "code",
   "execution_count": null,
   "id": "1846e6d3-76ff-4d88-a8f6-05e71dc9a205",
   "metadata": {},
   "outputs": [],
   "source": [
    "import tensorflow"
   ]
  },
  {
   "cell_type": "markdown",
   "id": "e5b16d36-61cc-4330-bd50-3916246fe6e6",
   "metadata": {},
   "source": [
    "---\n",
    "---\n",
    "---"
   ]
  }
 ],
 "metadata": {
  "kernelspec": {
   "display_name": "Python 3 (ipykernel)",
   "language": "python",
   "name": "python3"
  },
  "language_info": {
   "codemirror_mode": {
    "name": "ipython",
    "version": 3
   },
   "file_extension": ".py",
   "mimetype": "text/x-python",
   "name": "python",
   "nbconvert_exporter": "python",
   "pygments_lexer": "ipython3",
   "version": "3.11.3"
  }
 },
 "nbformat": 4,
 "nbformat_minor": 5
}

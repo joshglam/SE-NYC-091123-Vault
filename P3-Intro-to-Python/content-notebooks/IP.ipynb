{
 "cells": [
  {
   "cell_type": "markdown",
   "id": "ff24ebbd-399e-4493-8fdd-cd528d524006",
   "metadata": {},
   "source": [
    "-I want to create 3 classes. Sales, Leads, and Businesses\n",
    "-sales class will have 3 subclasses SDR AE and VP\n",
    "-each subclass will add their billing info\n",
    "-Leads will have name contact information url phone number and email\n",
    "-biz will have name 5 video urls and invoicing"
   ]
  },
  {
   "cell_type": "code",
   "execution_count": 19,
   "id": "d41c69bb-83f3-4669-bb33-4e47b6dba44a",
   "metadata": {},
   "outputs": [],
   "source": [
    "class BizUser:\n",
    "    total_biz_users = 0\n",
    "    current_biz_ids = []\n",
    "    \n",
    "    def __init__(self, user_id, password, v1, v2, v3, v4):\n",
    "        for current_biz_id in BizUser.current_biz_ids:\n",
    "            if user_id == current_biz_id:\n",
    "                raise ValueError(\"Username taken\")\n",
    "        self.user_id = user_id\n",
    "        self.password = password\n",
    "        self.v1 = v1\n",
    "        self.v2 = v2\n",
    "        self.v3 = v3\n",
    "        self.v4 = v4\n",
    "        \n",
    "        BizUser.total_biz_users +=1\n",
    "        BizUser.current_biz_ids.append(self.user_id)\n",
    "\n",
    "        self.notes = []\n",
    "        self.sales = []\n",
    "        self.lead = []\n",
    "\n",
    "    def __repr__(self):\n",
    "        return f\"{self.user_id} {self.password} {self.v1} {self.v2} {self.v3} {self.v4}\""
   ]
  },
  {
   "cell_type": "code",
   "execution_count": 20,
   "id": "a5c1e598-8499-4fa0-b732-50787d425a72",
   "metadata": {},
   "outputs": [],
   "source": [
    "class Lead:\n",
    "    \n",
    "    total_leads = 0\n",
    "\n",
    "    def __init__(self, name, phone, email, fb, ig, web):\n",
    "        self.name = name\n",
    "        self.phone = phone\n",
    "        self.email = email\n",
    "        self.fb = fb\n",
    "        self.ig = ig\n",
    "        self.web = web\n",
    "        self.contacts = [Contact(self,\n",
    "                                 name_of_contact,\n",
    "                                 role_of_contact,\n",
    "                                 phone_of_contact,\n",
    "                                 email_of_contact)]\n",
    "\n",
    "        self.notes = []\n",
    "        self.sales = []\n",
    "        self.biz = []\n",
    "\n",
    "    def __repr__(self):\n",
    "        return f\"Hi I'm {self.name} a lead that wants to signup contact me on my cell at {self.phone} {self.email} {self.fb} {self.ig} {self.web}\"\n",
    "        "
   ]
  },
  {
   "cell_type": "code",
   "execution_count": null,
   "id": "b8deac02-1c5e-4fc5-bc31-310330d7caf7",
   "metadata": {},
   "outputs": [],
   "source": [
    "class Contact:\n",
    "\n",
    "    contacts = []\n",
    "\n",
    "    def __init__(self, name, role, phone, email)\n",
    "        self.name = name\n",
    "        self.role = role\n",
    "        self.phone = phone\n",
    "        self.email = email\n",
    "\n"
   ]
  },
  {
   "cell_type": "code",
   "execution_count": null,
   "id": "ee626313-1dae-44db-acc5-1f3354f21a1f",
   "metadata": {},
   "outputs": [],
   "source": [
    "class Notes:\n",
    "    def __init__(self, sales, biz, lead, note)\n",
    "        self._sales = sales\n",
    "        self._biz = biz\n",
    "        self._lead = lead\n",
    "        self.note = note\n",
    "\n",
    "        self._sales.\n",
    "    "
   ]
  },
  {
   "cell_type": "code",
   "execution_count": 21,
   "id": "e64a602e-479f-474c-9f0b-a400371a0ceb",
   "metadata": {},
   "outputs": [],
   "source": [
    "class SalesUser:\n",
    "    \n",
    "    total_sales_users = 0\n",
    "    current_user_ids = []\n",
    "\n",
    "    def __init__(self, user_id, password, yrs_of_exp, industry, routing, checking):\n",
    "        for current_user_id in SalesUser.current_user_ids:\n",
    "            if user_id == current_user_id:\n",
    "                raise ValueError(\"Username taken\")\n",
    "        self.user_id = user_id\n",
    "        self._password = password\n",
    "        self.yrs_of_exp = yrs_of_exp\n",
    "        self.industry = industry\n",
    "        self.routing = routing\n",
    "        self._checking = checking\n",
    "        SalesUser.total_sales_users += 1\n",
    "        SalesUser.current_user_ids.append(self.user_id)\n",
    "\n",
    "        self.notes = []\n",
    "        self.lead = []\n",
    "        self.biz = []\n",
    "\n",
    "    def __repr__(self):\n",
    "        return f\"Hi my user id is {self.user_id} can you guess my password?\"\n",
    "        "
   ]
  },
  {
   "cell_type": "code",
   "execution_count": 22,
   "id": "4f3eea3d-9cae-492b-9ad2-694728a39832",
   "metadata": {},
   "outputs": [],
   "source": [
    "class BDR(SalesUser):\n",
    "    role = \"BDR\"\n",
    "\n",
    "    def __init__(self, user_id, password, yrs_of_exp, industry, routing, checking):\n",
    "        super().__init__(user_id, password, yrs_of_exp, industry, routing, checking)\n",
    "    \n",
    "    @property\n",
    "    def password(self):\n",
    "        return self._password\n",
    "\n",
    "    @property\n",
    "    def checking(self):\n",
    "        return self._checking\n",
    "        \n",
    "    @password.setter\n",
    "    def password(self, new_password):\n",
    "        if 1 < len(new_password) <=15:\n",
    "            _password = new_password\n",
    "        else:\n",
    "            raise ValueError(\"password must be between 1-15 characters long\")        \n",
    "\n",
    "    @checking.deleter\n",
    "    def checking(self):\n",
    "        del self._checking\n",
    "        print(\"User `checking` has been deleted.\")\n",
    "\n",
    "    def __repr__(self):\n",
    "        return f\"{BDR.role} {josh.user_id} {josh._password} {josh.yrs_of_exp} {josh.industry} {josh.routing} {josh._checking}\"\n",
    "        "
   ]
  },
  {
   "cell_type": "code",
   "execution_count": 23,
   "id": "94cad865-ae44-417d-a5bd-457026710572",
   "metadata": {},
   "outputs": [],
   "source": [
    "class VP(SalesUser):\n",
    "    role = \"AE\"\n",
    "\n",
    "    def __init__(self, user_id, password, yrs_of_exp, industry, routing, checking):\n",
    "        super().__init__(user_id, password, yrs_of_exp, industry, routing, checking)\n",
    "\n",
    "    @property\n",
    "    def password(self):\n",
    "        return self._password\n",
    "\n",
    "    @property\n",
    "    def checking(self):\n",
    "        return self._checking\n",
    "        \n",
    "    @password.setter\n",
    "    def password(self, new_password):\n",
    "        if 1 < len(new_password) <=15:\n",
    "            _password = new_password\n",
    "        else:\n",
    "            raise ValueError(\"password must be between 1-15 characters long\")        \n",
    "\n",
    "    @checking.deleter\n",
    "    def checking(self):\n",
    "        del self._checking\n",
    "        print(\"User `checking` has been deleted.\")\n",
    "\n",
    "    def __repr__(self):\n",
    "        return f\"{VP.role} {self.user_id} {self._password} {self.yrs_of_exp} {self.industry} {self.routing} {self._checking}\"\n",
    "        "
   ]
  },
  {
   "cell_type": "code",
   "execution_count": 24,
   "id": "c3ca29cb-2e9b-4d7d-8146-936ec536d2d2",
   "metadata": {},
   "outputs": [],
   "source": [
    "class AE(SalesUser):\n",
    "    role = \"AE\"\n",
    "\n",
    "    def __init__(self, user_id, password, yrs_of_exp, industry, routing, checking):\n",
    "        super().__init__(user_id, password, yrs_of_exp, industry, routing, checking)\n",
    "\n",
    "    @property\n",
    "    def password(self):\n",
    "        return self._password\n",
    "\n",
    "    @property\n",
    "    def checking(self):\n",
    "        return self._checking\n",
    "        \n",
    "    @password.setter\n",
    "    def password(self, new_password):\n",
    "        if 1 < len(new_password) <=15:\n",
    "            _password = new_password\n",
    "        else:\n",
    "            raise ValueError(\"password must be between 1-15 characters long\")        \n",
    "\n",
    "    @checking.deleter\n",
    "    def checking(self):\n",
    "        del self._checking\n",
    "        print(\"User `checking` has been deleted.\")\n",
    "\n",
    "    def __repr__(self):\n",
    "        return f\"{VP.role} {self.user_id} {self._password} {self.yrs_of_exp} {self.industry} {self.routing} {self._checking}\"\n",
    "        "
   ]
  },
  {
   "cell_type": "code",
   "execution_count": 7,
   "id": "a713f5f2-8df3-46a8-a44b-5f1a7268fa9b",
   "metadata": {},
   "outputs": [],
   "source": [
    "josh = BDR(user_id=\"jglam\", password=\"notpassword\", yrs_of_exp = 0, industry = \"payroll\", routing = 12345, checking = 67891)"
   ]
  },
  {
   "cell_type": "code",
   "execution_count": 8,
   "id": "203634a9-ae76-47bd-99b2-1a17148f9e0f",
   "metadata": {},
   "outputs": [],
   "source": [
    "andy = AE(user_id=\"akim\", password=\"notpassword\", yrs_of_exp = 0, industry = \"payroll\", routing = 12345, checking = 67891)"
   ]
  },
  {
   "cell_type": "code",
   "execution_count": 9,
   "id": "dfd572f1-b2db-4e48-8e43-bd9ac0d762b0",
   "metadata": {},
   "outputs": [],
   "source": [
    "mark = VP(user_id=\"mscho\", password=\"notpassword\", yrs_of_exp = 0, industry = \"payroll\", routing = 12345, checking = 67891)"
   ]
  },
  {
   "cell_type": "code",
   "execution_count": 10,
   "id": "9ac49bc6-e9b0-4cac-adb5-efd8c615f2cd",
   "metadata": {},
   "outputs": [],
   "source": [
    "quinn = Lead(name = \"quin\", phone = 5203241234, email = \"quinn@gmail.com\", fb = \"www.facebook.com\", ig = \"www.insta.com\", web = \"www.quin.com\")"
   ]
  },
  {
   "cell_type": "code",
   "execution_count": 26,
   "id": "2a366f28-9eed-4810-a126-9ae386754da7",
   "metadata": {},
   "outputs": [
    {
     "ename": "ValueError",
     "evalue": "Username taken",
     "output_type": "error",
     "traceback": [
      "\u001b[0;31m---------------------------------------------------------------------------\u001b[0m",
      "\u001b[0;31mValueError\u001b[0m                                Traceback (most recent call last)",
      "Cell \u001b[0;32mIn[26], line 1\u001b[0m\n\u001b[0;32m----> 1\u001b[0m poorab \u001b[38;5;241m=\u001b[39m \u001b[43mBizUser\u001b[49m\u001b[43m(\u001b[49m\u001b[43muser_id\u001b[49m\u001b[38;5;241;43m=\u001b[39;49m\u001b[38;5;124;43m\"\u001b[39;49m\u001b[38;5;124;43mpoor\u001b[39;49m\u001b[38;5;124;43m\"\u001b[39;49m\u001b[43m,\u001b[49m\u001b[43m \u001b[49m\u001b[43mpassword\u001b[49m\u001b[38;5;241;43m=\u001b[39;49m\u001b[38;5;124;43m\"\u001b[39;49m\u001b[38;5;124;43mpass\u001b[39;49m\u001b[38;5;124;43m\"\u001b[39;49m\u001b[43m,\u001b[49m\u001b[43m \u001b[49m\u001b[43mv1\u001b[49m\u001b[38;5;241;43m=\u001b[39;49m\u001b[38;5;124;43m\"\u001b[39;49m\u001b[38;5;124;43mwww.a.com\u001b[39;49m\u001b[38;5;124;43m\"\u001b[39;49m\u001b[43m,\u001b[49m\u001b[43m \u001b[49m\u001b[43mv2\u001b[49m\u001b[38;5;241;43m=\u001b[39;49m\u001b[38;5;124;43m\"\u001b[39;49m\u001b[38;5;124;43mwww.b.com\u001b[39;49m\u001b[38;5;124;43m\"\u001b[39;49m\u001b[43m,\u001b[49m\u001b[43m \u001b[49m\u001b[43mv3\u001b[49m\u001b[38;5;241;43m=\u001b[39;49m\u001b[38;5;124;43m\"\u001b[39;49m\u001b[38;5;124;43mwww.c.com\u001b[39;49m\u001b[38;5;124;43m\"\u001b[39;49m\u001b[43m,\u001b[49m\u001b[43m \u001b[49m\u001b[43mv4\u001b[49m\u001b[38;5;241;43m=\u001b[39;49m\u001b[38;5;124;43m\"\u001b[39;49m\u001b[38;5;124;43mwww.d.com\u001b[39;49m\u001b[38;5;124;43m\"\u001b[39;49m\u001b[43m)\u001b[49m\n",
      "Cell \u001b[0;32mIn[19], line 8\u001b[0m, in \u001b[0;36mBizUser.__init__\u001b[0;34m(self, user_id, password, v1, v2, v3, v4)\u001b[0m\n\u001b[1;32m      6\u001b[0m \u001b[38;5;28;01mfor\u001b[39;00m current_biz_id \u001b[38;5;129;01min\u001b[39;00m BizUser\u001b[38;5;241m.\u001b[39mcurrent_biz_ids:\n\u001b[1;32m      7\u001b[0m     \u001b[38;5;28;01mif\u001b[39;00m user_id \u001b[38;5;241m==\u001b[39m current_biz_id:\n\u001b[0;32m----> 8\u001b[0m         \u001b[38;5;28;01mraise\u001b[39;00m \u001b[38;5;167;01mValueError\u001b[39;00m(\u001b[38;5;124m\"\u001b[39m\u001b[38;5;124mUsername taken\u001b[39m\u001b[38;5;124m\"\u001b[39m)\n\u001b[1;32m      9\u001b[0m \u001b[38;5;28mself\u001b[39m\u001b[38;5;241m.\u001b[39muser_id \u001b[38;5;241m=\u001b[39m user_id\n\u001b[1;32m     10\u001b[0m \u001b[38;5;28mself\u001b[39m\u001b[38;5;241m.\u001b[39mpassword \u001b[38;5;241m=\u001b[39m password\n",
      "\u001b[0;31mValueError\u001b[0m: Username taken"
     ]
    }
   ],
   "source": [
    "poorab = BizUser(user_id=\"poor\", password=\"pass\", v1=\"www.a.com\", v2=\"www.b.com\", v3=\"www.c.com\", v4=\"www.d.com\")"
   ]
  },
  {
   "cell_type": "code",
   "execution_count": 12,
   "id": "69f6c775-25dc-4a2b-8e42-36137f3ed85e",
   "metadata": {},
   "outputs": [
    {
     "data": {
      "text/plain": [
       "BDR jglam notpassword 0 payroll 12345 67891"
      ]
     },
     "execution_count": 12,
     "metadata": {},
     "output_type": "execute_result"
    }
   ],
   "source": [
    "josh"
   ]
  },
  {
   "cell_type": "code",
   "execution_count": 13,
   "id": "efc0cb40-f4c3-40f0-9133-fad00b2e18ea",
   "metadata": {},
   "outputs": [
    {
     "data": {
      "text/plain": [
       "AE akim notpassword 0 payroll 12345 67891"
      ]
     },
     "execution_count": 13,
     "metadata": {},
     "output_type": "execute_result"
    }
   ],
   "source": [
    "andy"
   ]
  },
  {
   "cell_type": "code",
   "execution_count": 14,
   "id": "004a3ec2-c824-47c4-9994-24951d903dc5",
   "metadata": {},
   "outputs": [
    {
     "data": {
      "text/plain": [
       "AE mscho notpassword 0 payroll 12345 67891"
      ]
     },
     "execution_count": 14,
     "metadata": {},
     "output_type": "execute_result"
    }
   ],
   "source": [
    "mark"
   ]
  },
  {
   "cell_type": "code",
   "execution_count": 15,
   "id": "3f6d9702-c55e-4397-9648-fda592aa3939",
   "metadata": {},
   "outputs": [
    {
     "data": {
      "text/plain": [
       "Hi I'm quin a lead that wants to signup contact me on my cell at 5203241234 quinn@gmail.com www.facebook.com www.insta.com www.quin.com"
      ]
     },
     "execution_count": 15,
     "metadata": {},
     "output_type": "execute_result"
    }
   ],
   "source": [
    "quinn"
   ]
  },
  {
   "cell_type": "code",
   "execution_count": 16,
   "id": "53939f9b-6f94-40e8-bb46-e2417af5a965",
   "metadata": {},
   "outputs": [
    {
     "data": {
      "text/plain": [
       "poor pass www.a.com www.b.com www.c.com www.d.com"
      ]
     },
     "execution_count": 16,
     "metadata": {},
     "output_type": "execute_result"
    }
   ],
   "source": [
    "poorab"
   ]
  },
  {
   "cell_type": "code",
   "execution_count": 17,
   "id": "a87b57aa-8805-42e8-951d-8489935a32df",
   "metadata": {},
   "outputs": [
    {
     "data": {
      "text/plain": [
       "1"
      ]
     },
     "execution_count": 17,
     "metadata": {},
     "output_type": "execute_result"
    }
   ],
   "source": [
    "BizUser.total_biz_users"
   ]
  },
  {
   "cell_type": "code",
   "execution_count": 18,
   "id": "e5cdad3d-5ed5-435f-8e32-96950dec6322",
   "metadata": {},
   "outputs": [
    {
     "data": {
      "text/plain": [
       "poor pass www.a.com www.b.com www.c.com www.d.com"
      ]
     },
     "execution_count": 18,
     "metadata": {},
     "output_type": "execute_result"
    }
   ],
   "source": [
    "poorab"
   ]
  },
  {
   "cell_type": "code",
   "execution_count": null,
   "id": "ae583d32-66d5-46ad-b4ef-1b1e842df29e",
   "metadata": {},
   "outputs": [],
   "source": []
  },
  {
   "cell_type": "code",
   "execution_count": null,
   "id": "4d31ff90-199f-4d0e-b409-efc15022c4af",
   "metadata": {},
   "outputs": [],
   "source": []
  }
 ],
 "metadata": {
  "kernelspec": {
   "display_name": "Python 3 (ipykernel)",
   "language": "python",
   "name": "python3"
  },
  "language_info": {
   "codemirror_mode": {
    "name": "ipython",
    "version": 3
   },
   "file_extension": ".py",
   "mimetype": "text/x-python",
   "name": "python",
   "nbconvert_exporter": "python",
   "pygments_lexer": "ipython3",
   "version": "3.8.13"
  }
 },
 "nbformat": 4,
 "nbformat_minor": 5
}

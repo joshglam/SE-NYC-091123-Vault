{
 "cells": [
  {
   "cell_type": "markdown",
   "id": "d0cc3b09-e597-4544-bd45-5c247016d853",
   "metadata": {},
   "source": [
    "---\n",
    "---\n",
    "---"
   ]
  },
  {
   "cell_type": "markdown",
   "id": "74de651b-f708-4f51-9f1b-9628a3c2f88b",
   "metadata": {},
   "source": [
    "# Design Thinking for Programmers"
   ]
  },
  {
   "cell_type": "markdown",
   "id": "b1c82afe-b5d2-443b-9536-5ae535dda399",
   "metadata": {},
   "source": [
    "## The Design Thinking Process"
   ]
  },
  {
   "cell_type": "markdown",
   "id": "01815767-4f6e-4721-85c5-dddf568d8903",
   "metadata": {},
   "source": [
    "![Design Thinking Process](https://images.squarespace-cdn.com/content/v1/56ba4348b09f95db7f71a726/1559845475419-CBPUMBETRSCSYSV6KSZX/ke17ZwdGBToddI8pDm48kA1-zCrYIam77dTWnEjT6nUUqsxRUqqbr1mOJYKfIPR7LoDQ9mXPOjoJoqy81S2I8N_N4V1vUb5AoIIIbLZhVYwL8IeDg6_3B-BRuF4nNrNcQkVuAT7tdErd0wQFEGFSnIqNvfaisK4NjJHQa73_ohpz0bjrMmMHfzK0xbcXh8Toi4dwPdUlhHodDg5gWSeuHg/FreshWorks_Design_Thinking_Process?format=original)"
   ]
  },
  {
   "cell_type": "markdown",
   "id": "78287f3a-f530-446c-abf1-880b7d248b8c",
   "metadata": {},
   "source": [
    "## The Zen of Python"
   ]
  },
  {
   "cell_type": "markdown",
   "id": "b02263d0-fa6c-49ef-80f2-30fcc5ae74eb",
   "metadata": {},
   "source": [
    "**You can always refresh yourself on the Zen of Python via the `this` library in Python.**"
   ]
  },
  {
   "cell_type": "code",
   "execution_count": 1,
   "id": "6f64fa94-8ce1-4787-b6a0-e9f804eef82c",
   "metadata": {},
   "outputs": [
    {
     "name": "stdout",
     "output_type": "stream",
     "text": [
      "The Zen of Python, by Tim Peters\n",
      "\n",
      "Beautiful is better than ugly.\n",
      "Explicit is better than implicit.\n",
      "Simple is better than complex.\n",
      "Complex is better than complicated.\n",
      "Flat is better than nested.\n",
      "Sparse is better than dense.\n",
      "Readability counts.\n",
      "Special cases aren't special enough to break the rules.\n",
      "Although practicality beats purity.\n",
      "Errors should never pass silently.\n",
      "Unless explicitly silenced.\n",
      "In the face of ambiguity, refuse the temptation to guess.\n",
      "There should be one-- and preferably only one --obvious way to do it.\n",
      "Although that way may not be obvious at first unless you're Dutch.\n",
      "Now is better than never.\n",
      "Although never is often better than *right* now.\n",
      "If the implementation is hard to explain, it's a bad idea.\n",
      "If the implementation is easy to explain, it may be a good idea.\n",
      "Namespaces are one honking great idea -- let's do more of those!\n"
     ]
    }
   ],
   "source": [
    "import this"
   ]
  },
  {
   "cell_type": "markdown",
   "id": "1a55b9db-97b6-4b18-92c1-ad5d03fbdc89",
   "metadata": {},
   "source": [
    "### Code should be readable."
   ]
  },
  {
   "cell_type": "markdown",
   "id": "2f6a37a7-0cb6-47f7-96ae-ca12033e23a1",
   "metadata": {},
   "source": [
    "**Beautiful is better than ugly.**\n",
    "\n",
    "**Sparse is better than dense.**\n",
    "\n",
    "**Explicit is better than implicit.**"
   ]
  },
  {
   "cell_type": "markdown",
   "id": "9b71bc8e-c870-4f13-844c-207c84555673",
   "metadata": {},
   "source": [
    "A violation of the guideline(s)."
   ]
  },
  {
   "cell_type": "code",
   "execution_count": 2,
   "id": "b8ada36a-5a6f-46d1-8be0-5fc6bf0b0eee",
   "metadata": {},
   "outputs": [
    {
     "data": {
      "text/plain": [
       "[1, 2, 3, 4]"
      ]
     },
     "execution_count": 2,
     "metadata": {},
     "output_type": "execute_result"
    }
   ],
   "source": [
    "list((lambda x: map(lambda i: int(i/2), filter(lambda i: not i%2, x)))(range(1, 9)))"
   ]
  },
  {
   "cell_type": "markdown",
   "id": "60c38ea2-2ee7-44ff-8f4a-1437a50b2f3e",
   "metadata": {},
   "source": [
    "A fulfillment of the guideline(s)."
   ]
  },
  {
   "cell_type": "code",
   "execution_count": null,
   "id": "2de9530e-dd81-43e0-9e5e-6669321cee43",
   "metadata": {},
   "outputs": [],
   "source": [
    "def get_even_numbers_divided_by_two(list_of_numbers: list):\n",
    "    \"\"\" \n",
    "    Function that takes in a list of integers and returns \n",
    "    a list of even numbers from the original list, divided by two. \n",
    "    \"\"\"\n",
    "    evens_divided_by_two = []\n",
    "    for number in list_of_numbers:\n",
    "        if number % 2 == 0:\n",
    "            evens_divided_by_two.append(int(number / 2))\n",
    "    return evens_divided_by_two"
   ]
  },
  {
   "cell_type": "code",
   "execution_count": null,
   "id": "70145e43-2472-4668-aeac-914f77289544",
   "metadata": {},
   "outputs": [],
   "source": [
    "list_of_numbers = [1, 2, 3, 4, 5, 6, 7, 8]\n",
    "\n",
    "get_even_numbers_divided_by_two(list_of_numbers=list_of_numbers)"
   ]
  },
  {
   "cell_type": "markdown",
   "id": "184f3dcc-a712-48e3-870c-8c0159d92d7e",
   "metadata": {},
   "source": [
    "### Code should be simple."
   ]
  },
  {
   "cell_type": "markdown",
   "id": "6829bbd6-4122-4109-862c-b6deba77ef7a",
   "metadata": {},
   "source": [
    "**Simple is better than complex.**\n",
    "\n",
    "**Complex is better than complicated.**"
   ]
  },
  {
   "cell_type": "markdown",
   "id": "127985b9-427c-4eb4-89fe-2290f13591e2",
   "metadata": {},
   "source": [
    "A violation of the guideline(s)."
   ]
  },
  {
   "cell_type": "code",
   "execution_count": null,
   "id": "01930390-d878-4277-a913-5ac05758771b",
   "metadata": {},
   "outputs": [],
   "source": [
    "list_of_numbers = [100, 252, 829, 111, 399, 401]\n",
    "counter = 1\n",
    "\n",
    "while counter <= len(list_of_numbers):\n",
    "    number = list_of_numbers[counter - 1]\n",
    "    print(\"#\" + str(counter) + \": \" + str(number))\n",
    "    counter += 1"
   ]
  },
  {
   "cell_type": "markdown",
   "id": "82a2325c-241e-4a55-9244-d6d766fcc728",
   "metadata": {},
   "source": [
    "A fulfillment of the guideline(s)."
   ]
  },
  {
   "cell_type": "code",
   "execution_count": null,
   "id": "e716b8d7-33cc-4f90-b571-1f262d2e7086",
   "metadata": {},
   "outputs": [],
   "source": [
    "list_of_numbers = [100, 252, 829, 111, 399, 401]\n",
    "\n",
    "for position, number in enumerate(list_of_numbers):\n",
    "    print(f\"#{position + 1}: {number}\")"
   ]
  },
  {
   "cell_type": "markdown",
   "id": "b0261f94-c1c1-407a-9b0d-0b97be54ed40",
   "metadata": {},
   "source": [
    "### Code should follow best practices."
   ]
  },
  {
   "cell_type": "markdown",
   "id": "7af88a07-9a81-4897-8d9b-df360ac6384d",
   "metadata": {},
   "source": [
    "**Flat is better than nested.**\n",
    "\n",
    "**Special cases aren't enough to break the rules...**\n",
    "\n",
    "**...although practicality beats purity.**\n",
    "\n",
    "**Namespaces are one honking great idea... let's do more of those!**"
   ]
  },
  {
   "cell_type": "markdown",
   "id": "609e2e39-6366-4dc2-af08-9198a76b8c05",
   "metadata": {},
   "source": [
    "A violation of the guideline(s)."
   ]
  },
  {
   "cell_type": "code",
   "execution_count": null,
   "id": "95cb201a-416a-4207-8615-b5ce3737583f",
   "metadata": {},
   "outputs": [],
   "source": [
    "sample = open(\"sample.txt\", \"w\")\n",
    "\n",
    "total_funds, allowable_spending = 100, 50\n",
    "prices_of_items_in_cart = [10, 15, 20]\n",
    "\n",
    "if total_funds > allowable_spending:\n",
    "    if sum(prices_of_items_in_cart) <= allowable_spending:\n",
    "        sample.write(\"Checkout and Purchase\")\n",
    "    else:\n",
    "        sample.write(\"Save Cart for Later\")\n",
    "else:\n",
    "    sample.write(\"Save Cart for Later\")\n",
    "\n",
    "sample.close()"
   ]
  },
  {
   "cell_type": "markdown",
   "id": "226c691b-5fca-4760-ace9-5a4069865351",
   "metadata": {},
   "source": [
    "A fulfillment of the guideline(s)."
   ]
  },
  {
   "cell_type": "code",
   "execution_count": null,
   "id": "bfb8fbf0-df5b-4f46-8cd4-8958f8d34556",
   "metadata": {},
   "outputs": [],
   "source": [
    "total_funds, allowable_spending = 100, 50\n",
    "prices_of_items_in_cart = [10, 15, 20]\n",
    "\n",
    "with open(\"sample.txt\", \"w\") as sample:\n",
    "    if sum(prices_of_items_in_cart) <= allowable_spending < total_funds:\n",
    "        sample.write(\"Checkout and Purchase\")\n",
    "    else:\n",
    "        sample.write(\"Save Cart for Later\")"
   ]
  },
  {
   "cell_type": "markdown",
   "id": "e0910454-c0a8-4906-9bf2-f2ac11bdc5ab",
   "metadata": {},
   "source": [
    "### Code should handle errors."
   ]
  },
  {
   "cell_type": "markdown",
   "id": "20f25c8b-b899-4122-9a90-fe1fc7b0735e",
   "metadata": {},
   "source": [
    "**Explicit is better than implicit.**\n",
    "\n",
    "**Errors should never pass silently...**\n",
    "\n",
    "**...unless explicitly silenced.**\n",
    "\n",
    "**In the face of ambiguity, refuse the temptation to guess.**"
   ]
  },
  {
   "cell_type": "markdown",
   "id": "b42856f2-155e-45b4-8d07-15a2038d4377",
   "metadata": {},
   "source": [
    "A violation of the guideline(s)."
   ]
  },
  {
   "cell_type": "code",
   "execution_count": null,
   "id": "0834cf8e-b366-4503-b4d7-5a1d889ffb13",
   "metadata": {},
   "outputs": [],
   "source": [
    "number = input(\"Enter a number:\\n\\t >> \")\n",
    "\n",
    "inverse = round(1.0 / float(number), 3)\n",
    "\n",
    "print(f\"\\nThe inverse of {number} is {inverse}.\")"
   ]
  },
  {
   "cell_type": "markdown",
   "id": "15ae860a-e26d-48c9-9c26-f1a9e668d5fd",
   "metadata": {},
   "source": [
    "A fulfillment of the guideline(s)."
   ]
  },
  {
   "cell_type": "code",
   "execution_count": null,
   "id": "50c04808-a347-4f05-921e-0d2cffe8d534",
   "metadata": {},
   "outputs": [],
   "source": [
    "CAUGHT_ERRORS = 0\n",
    "try:\n",
    "    number = float(input(\"Enter a number:\\n\\t >> \"))\n",
    "    inverse = round(1.0 / number, 3)\n",
    "    print(f\"\\nThe inverse of {number} is {inverse}.\")\n",
    "except (ValueError, ZeroDivisionError):\n",
    "    print(f\"\\nCaught error. Continuing program...\")\n",
    "    CAUGHT_ERRORS += 1\n",
    "finally:\n",
    "    print(f\"\\nExecution completed with {CAUGHT_ERRORS} error(s).\")"
   ]
  },
  {
   "cell_type": "markdown",
   "id": "c9e0238b-2f95-462a-9a0f-8334aa5748fb",
   "metadata": {},
   "source": [
    "### Code should be concise."
   ]
  },
  {
   "cell_type": "markdown",
   "id": "07c37fa1-4c03-428b-be9c-15e72788957b",
   "metadata": {},
   "source": [
    "**There should be one – and preferably only one – obvious way to do it...**\n",
    "\n",
    "**...although that way may not be obvious at first unless you're Dutch.**"
   ]
  },
  {
   "cell_type": "markdown",
   "id": "8a343bf6-4a88-48a9-8b72-e5a062a1f6f0",
   "metadata": {},
   "source": [
    "A violation of the guideline(s)."
   ]
  },
  {
   "cell_type": "code",
   "execution_count": null,
   "id": "736dba1e-23c2-4ee0-ba1b-115d0fa61929",
   "metadata": {},
   "outputs": [],
   "source": [
    "list_of_numbers, even_numbers = list(range(20)), []\n",
    "\n",
    "for number in list_of_numbers:\n",
    "    if number % 2 == 0:\n",
    "        even_numbers.append(number)\n",
    "\n",
    "even_numbers"
   ]
  },
  {
   "cell_type": "markdown",
   "id": "171608bb-1b6e-4b40-aebc-60ffd8af177b",
   "metadata": {},
   "source": [
    "A fulfillment of the guideline(s)."
   ]
  },
  {
   "cell_type": "code",
   "execution_count": null,
   "id": "369e375a-f14e-4678-9f50-71c38092c298",
   "metadata": {},
   "outputs": [],
   "source": [
    "even_numbers = [number for number in range(20) if number % 2 == 0]\n",
    "\n",
    "even_numbers"
   ]
  },
  {
   "cell_type": "markdown",
   "id": "16e11059-d14e-4129-ae39-7bd2bf9f2832",
   "metadata": {},
   "source": [
    "### Code should be clean."
   ]
  },
  {
   "cell_type": "markdown",
   "id": "b0837643-a567-449c-9ac8-488118b539e5",
   "metadata": {},
   "source": [
    "**Now is better than never...**\n",
    "\n",
    "**...although never is often better than _right_ now.**"
   ]
  },
  {
   "cell_type": "markdown",
   "id": "e0b91991-9a94-4154-a821-bfeddc8a2ed8",
   "metadata": {},
   "source": [
    "A violation of the guideline(s)."
   ]
  },
  {
   "cell_type": "code",
   "execution_count": 3,
   "id": "5e1c1251-4775-4815-9f73-72b952fafbc8",
   "metadata": {},
   "outputs": [],
   "source": [
    "# First Attempt? Maybe, but probably not.\n",
    "def fibonacci(n):\n",
    "    a, b = 0, 1\n",
    "    sequence = [0]\n",
    "    for _ in range(n):\n",
    "        sequence.append(b)\n",
    "        a, b = b, a + b\n",
    "    return sequence[-1]"
   ]
  },
  {
   "cell_type": "code",
   "execution_count": 5,
   "id": "411bd8de-7943-43c2-bfed-102a25090bc8",
   "metadata": {},
   "outputs": [
    {
     "data": {
      "text/plain": [
       "354224848179261915075"
      ]
     },
     "execution_count": 5,
     "metadata": {},
     "output_type": "execute_result"
    }
   ],
   "source": [
    "fibonacci(100)"
   ]
  },
  {
   "cell_type": "markdown",
   "id": "ac55e2b3-639c-4028-bced-e780937dcf2c",
   "metadata": {},
   "source": [
    "A fulfillment of the guideline(s)."
   ]
  },
  {
   "cell_type": "code",
   "execution_count": 6,
   "id": "c1059aa4-3811-4cee-9f6c-b45d8f9f230b",
   "metadata": {},
   "outputs": [],
   "source": [
    "# First Attempt.\n",
    "def simple_fibonacci(n):\n",
    "    if n in (0, 1):\n",
    "        return n\n",
    "    else:\n",
    "        return simple_fibonacci(n - 1) + simple_fibonacci(n - 2)"
   ]
  },
  {
   "cell_type": "code",
   "execution_count": 9,
   "id": "99e1cb10-897b-4d48-8f4c-3a2c06035e51",
   "metadata": {},
   "outputs": [
    {
     "data": {
      "text/plain": [
       "9227465"
      ]
     },
     "execution_count": 9,
     "metadata": {},
     "output_type": "execute_result"
    }
   ],
   "source": [
    "simple_fibonacci(35)"
   ]
  },
  {
   "cell_type": "code",
   "execution_count": 10,
   "id": "6a8d2dd5-579b-411f-9d05-9f0bf26ebcf8",
   "metadata": {},
   "outputs": [],
   "source": [
    "# Second Attempt to Improve on Time.\n",
    "def dynamic_fibonacci(n, sequence=[1, 1]):\n",
    "    if n == 0:\n",
    "        return 0\n",
    "    elif n <= len(sequence):\n",
    "        return sequence[n - 1]\n",
    "    else:\n",
    "        next_number = dynamic_fibonacci(n - 1) + dynamic_fibonacci(n - 2)\n",
    "        sequence.append(next_number)\n",
    "        return next_number"
   ]
  },
  {
   "cell_type": "code",
   "execution_count": 11,
   "id": "736a1a0e-4214-43ff-81a8-814e0682e9f5",
   "metadata": {},
   "outputs": [
    {
     "data": {
      "text/plain": [
       "102334155"
      ]
     },
     "execution_count": 11,
     "metadata": {},
     "output_type": "execute_result"
    }
   ],
   "source": [
    "dynamic_fibonacci(40)"
   ]
  },
  {
   "cell_type": "code",
   "execution_count": 12,
   "id": "bc2a4ca5-cf21-42ee-9c19-927e37aa83d7",
   "metadata": {},
   "outputs": [],
   "source": [
    "# Third Attempt to Improve on Memory.\n",
    "def tabulated_fibonacci(n):\n",
    "    current_number, next_number = 0, 1\n",
    "    sequence = [0]\n",
    "    for _ in range(n):\n",
    "        sequence.append(next_number)\n",
    "        current_number, next_number = next_number, current_number + next_number\n",
    "    return sequence[-1]"
   ]
  },
  {
   "cell_type": "code",
   "execution_count": 13,
   "id": "5e7086cd-ea7c-4e86-abc6-13eb817bd915",
   "metadata": {},
   "outputs": [
    {
     "data": {
      "text/plain": [
       "102334155"
      ]
     },
     "execution_count": 13,
     "metadata": {},
     "output_type": "execute_result"
    }
   ],
   "source": [
    "tabulated_fibonacci(40)"
   ]
  },
  {
   "cell_type": "markdown",
   "id": "4b69d456-05de-41cd-ae02-4238e9da064e",
   "metadata": {},
   "source": [
    "### Code should be easy-to-explain."
   ]
  },
  {
   "cell_type": "markdown",
   "id": "ae08f112-2ff5-413a-b1f3-bd4d2ff07106",
   "metadata": {},
   "source": [
    "**If the implementation is hard to explain, it's a bad idea.**\n",
    "\n",
    "**If the implementation is easy to explain, it may be a good idea.**"
   ]
  },
  {
   "cell_type": "markdown",
   "id": "dcfd0bc4-9ffd-42cc-afb8-95c10c9aa471",
   "metadata": {},
   "source": [
    "A violation of the guideline(s)."
   ]
  },
  {
   "cell_type": "code",
   "execution_count": null,
   "id": "2b20e05c-f6e4-418d-8db7-701e452ada58",
   "metadata": {},
   "outputs": [],
   "source": [
    "with open(\"story.txt\", \"r\") as story:\n",
    "    tokens = story.read().split()\n",
    "    types = set(tokens)\n",
    "    frequencies = dict.fromkeys(types)\n",
    "    for key in frequencies:\n",
    "        frequencies[key] = tokens.count(key)\n",
    "\n",
    "for word_type, word_frequency in frequencies.items():\n",
    "    print(f\"{word_type.upper()}:\\t{word_frequency} occurrence(s).\")"
   ]
  },
  {
   "cell_type": "markdown",
   "id": "007a2b16-a53d-4b5c-9726-97b51c46a597",
   "metadata": {},
   "source": [
    "A fulfillment of the guideline(s)."
   ]
  },
  {
   "cell_type": "code",
   "execution_count": null,
   "id": "1afaf24b-1b73-4915-9fc6-8a4a9e73d87d",
   "metadata": {},
   "outputs": [],
   "source": [
    "# Frequency counter for unique elements in iterable\n",
    "from collections import Counter\n",
    "\n",
    "# Open text file and count word frequencies per word in file\n",
    "with open(\"story.txt\", \"r\") as story:\n",
    "    words = story.read().split()\n",
    "    word_count = Counter(words)\n",
    "\n",
    "for word, count in word_count.items():\n",
    "    print(f\"{word.upper()}:\\t{count} occurrence(s).\")"
   ]
  },
  {
   "cell_type": "markdown",
   "id": "658d0b7d-e678-4128-9df7-7d92c0bb7fa5",
   "metadata": {},
   "source": [
    "---\n",
    "---\n",
    "---"
   ]
  }
 ],
 "metadata": {
  "kernelspec": {
   "display_name": "Python 3 (ipykernel)",
   "language": "python",
   "name": "python3"
  },
  "language_info": {
   "codemirror_mode": {
    "name": "ipython",
    "version": 3
   },
   "file_extension": ".py",
   "mimetype": "text/x-python",
   "name": "python",
   "nbconvert_exporter": "python",
   "pygments_lexer": "ipython3",
   "version": "3.8.13"
  }
 },
 "nbformat": 4,
 "nbformat_minor": 5
}

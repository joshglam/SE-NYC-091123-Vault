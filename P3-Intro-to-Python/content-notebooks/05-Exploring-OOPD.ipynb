{
 "cells": [
  {
   "cell_type": "markdown",
   "id": "f3ecc767-6568-4c51-a742-dceddcb32b2a",
   "metadata": {},
   "source": [
    "---\n",
    "---\n",
    "---"
   ]
  },
  {
   "cell_type": "markdown",
   "id": "f7e8bd0c-3463-4eb0-8887-b487a6bcccd3",
   "metadata": {},
   "source": [
    "# Exploring Object-Oriented Programming Design"
   ]
  },
  {
   "cell_type": "markdown",
   "id": "436be955-088d-4cab-b5c3-b9ee650ec0b2",
   "metadata": {},
   "source": [
    "|Term                           | Definition\n",
    "|-------------------------------|-----------------------------|\n",
    "|**Abstraction**                | A core concept in OOPD referring to the process of hiding unnecessary code complexity from the user or the developer by scoping them within relevant objects and classes. |\n",
    "|**Polymorphism**               | A core concept in OOPD referring to the process of allowing a class or object to have many forms using inheritance or overriding. |\n",
    "|**Inheritance**                | A core concept in OOPD referring to the process of reusing relevant code by allowing some classes to pass down code to other classes, or vice versa. |\n",
    "|**Encapsulation**              | A core concept in OOPD referring to the process of tethering relevant variables (called attributes) and functions (called methods) together in the same class scope due to their relationships with one another. |\n",
    "|**Subclass (Child)**           | A blueprint for an object with its **instructions derived from another class**, usually referred to as its \"parent\" or \"superclass\". |\n",
    "|**Superclass (Parent)**        | A blueprint for an object with its **instructions intended to be inherited by another class**, usually referred to as its \"child\" or \"subclass\". |\n",
    "|**Dunder (Magic) Method**      | A special type of automatically inherited method that can be explicitly overwritten to provide deeper functionality to classes and their corresponding object instances. |\n",
    "|**Property**                   | A programmatic way of allowing safe modification of a class's attributes/methods without exposing the class's architecture to users; also known as **\"managed attributes\"**. |\n",
    "|**Getter**                     | A property syntax (reserved by `@property`) that enables finer control of **creating an object attribute** (or method). |\n",
    "|**Setter**                     | A property syntax (reserved by `@{PROPERTY_NAME}.setter` that enables finer control of **modifying an object attribute** (or method). |\n",
    "|**Deleter**                    | A property syntax (reserved by `@{PROPERTY_NAME}.deleter` that enables finer control of **destroying an object attribute** (or method). |\n",
    "|**`__init__()`**               | A reserved dunder method that allows for control over **which attributes and methods a particular object is configured with upon initialization**; commonly referred to as the **constructor**. |\n",
    "|**`__repr__()`**               | A reserved dunder method that allows for control over **how an object is physically represented to the console** when invoked to either the user or machine; sometimes referred to as the **representative**. |\n",
    "|**`__call__()`**               | A reserved dunder method that allows for control over **additional operability** that an object instance can perform when **called after initialization** (like a function); sometimes referred to as the **invoker**. |"
   ]
  },
  {
   "cell_type": "markdown",
   "id": "9d71cdd3-ef1a-4f3e-880e-7b1b09f702ae",
   "metadata": {},
   "source": [
    "## Conceptually Baking \"A PIE\""
   ]
  },
  {
   "cell_type": "markdown",
   "id": "4b463ef3-c498-41f1-a2e0-5efedebd799b",
   "metadata": {},
   "source": [
    "![](https://assets.website-files.com/5c7536fc6fa90e7dbc27598f/5d8350501fa9f72a27a893bf_Oo65m_6e_qkDzypQAEMmPHMgn_mbbZo492Zf-qLCs1Rw1gc6CUAZqLxgmawjN1qdAiIrSqtRU5PpkEYlM2MAhUYjt1SwuvUialeWk2c6mIu0Vwt5F97USlsy1lmLTy_XsHjH5GK0U2BPhz3TEA.png)"
   ]
  },
  {
   "cell_type": "markdown",
   "id": "cff6df00-a481-49a0-9805-20083d757ba2",
   "metadata": {},
   "source": [
    "### OOPD: Abstraction"
   ]
  },
  {
   "cell_type": "markdown",
   "id": "554909e9-6a00-48f5-a9c6-e8c50949f1de",
   "metadata": {},
   "source": [
    "A violation of abstraction."
   ]
  },
  {
   "cell_type": "code",
   "execution_count": null,
   "id": "df76ba08-c560-4b9d-93bc-1f309871d543",
   "metadata": {},
   "outputs": [],
   "source": [
    "bablu = {\n",
    "    \"name\": \"Bablu\",\n",
    "    \"age\": 5,\n",
    "    \"is_good_dog\": True\n",
    "}\n",
    "\n",
    "print(f\"{bablu['name']} is {bablu['age']} years old!\")"
   ]
  },
  {
   "cell_type": "markdown",
   "id": "fc0fe87f-9817-4adf-b318-4d1f43dc94b6",
   "metadata": {},
   "source": [
    "A fulfillment of abstraction."
   ]
  },
  {
   "cell_type": "code",
   "execution_count": null,
   "id": "7451d454-280b-456e-ae23-2259e8671957",
   "metadata": {},
   "outputs": [],
   "source": [
    "class Dog:\n",
    "    def __init__(self, name, age):\n",
    "        self.name = name\n",
    "        self.age = age\n",
    "        self.good_dog = True\n",
    "\n",
    "    def __repr__(self):\n",
    "        return f\"{self.name} is {self.age} years old!\""
   ]
  },
  {
   "cell_type": "code",
   "execution_count": null,
   "id": "3b0ce40a-2495-4a54-af78-448da83ac3da",
   "metadata": {},
   "outputs": [],
   "source": [
    "bablu = Dog(\"Bablu\", 5)\n",
    "\n",
    "bablu"
   ]
  },
  {
   "cell_type": "markdown",
   "id": "c9c32a57-8142-472f-b3c8-3f8f74497f9b",
   "metadata": {},
   "source": [
    "### OOPD: Polymorphism"
   ]
  },
  {
   "cell_type": "code",
   "execution_count": null,
   "id": "1660e483-3851-409e-9ec6-5c80161a192d",
   "metadata": {},
   "outputs": [],
   "source": [
    "class Pitbull(Dog):\n",
    "    def __init__(self):\n",
    "        pass\n",
    "\n",
    "class Rottweiler(Dog):\n",
    "    def __init__(self):\n",
    "        pass\n",
    "\n",
    "class Poodle(Dog):\n",
    "    def __init__(self):\n",
    "        pass\n",
    "\n",
    "class GreatDane(Dog):\n",
    "    def __init__(self):\n",
    "        pass\n",
    "\n",
    "class GermanShepherd(Dog):\n",
    "    def __init__(self):\n",
    "        pass"
   ]
  },
  {
   "cell_type": "code",
   "execution_count": null,
   "id": "0c1f61e4-3346-4ee8-85b7-b1fd9f29cda1",
   "metadata": {},
   "outputs": [],
   "source": [
    "class Wolf:\n",
    "    def __init__(self):\n",
    "        pass\n",
    "\n",
    "class GrayWolf(Wolf):\n",
    "    def __init__(self):\n",
    "        pass"
   ]
  },
  {
   "cell_type": "code",
   "execution_count": null,
   "id": "fad0df57-c4f3-400b-9f73-74e920620b10",
   "metadata": {},
   "outputs": [],
   "source": [
    "class WolfDog(Wolf, Dog):\n",
    "    def __init__(self):\n",
    "        pass"
   ]
  },
  {
   "cell_type": "markdown",
   "id": "0ca734ac-911b-4261-88a7-3f3ccb87c561",
   "metadata": {},
   "source": [
    "### OOPD: Inheritance"
   ]
  },
  {
   "cell_type": "markdown",
   "id": "9fc73087-124e-4e14-883b-74465540c378",
   "metadata": {},
   "source": [
    "Defining a parent class (superclass)."
   ]
  },
  {
   "cell_type": "code",
   "execution_count": null,
   "id": "14ac8138-9376-4153-9aca-aaeea4114467",
   "metadata": {},
   "outputs": [],
   "source": [
    "class Dog:\n",
    "    def __init__(self, name, age):\n",
    "        self.name = name\n",
    "        self.age = age\n",
    "        self.good_dog = True\n",
    "\n",
    "    def __repr__(self):\n",
    "        return f\"{self.name} is {self.age} years old!\"\n",
    "\n",
    "    def speak(self, expression=\"Woof\"):\n",
    "        return print(expression)"
   ]
  },
  {
   "cell_type": "markdown",
   "id": "abf4ca2a-d472-4505-a48d-1f973d450f28",
   "metadata": {},
   "source": [
    "Defining a child class (subclass) with implicit (implied) inheritance."
   ]
  },
  {
   "cell_type": "code",
   "execution_count": null,
   "id": "0c9cab34-ecbf-4737-9454-60cb9f4ac4f7",
   "metadata": {},
   "outputs": [],
   "source": [
    "class Pitbull(Dog):\n",
    "    def __init__(self):\n",
    "        self.size = \"kinda big\""
   ]
  },
  {
   "cell_type": "markdown",
   "id": "ea8a1f26-7881-42aa-b951-7c52b14d77ff",
   "metadata": {},
   "source": [
    "Creating an instance of the subclass with inherited methods."
   ]
  },
  {
   "cell_type": "code",
   "execution_count": null,
   "id": "054ed985-607e-4ef0-bed8-010bf458e540",
   "metadata": {},
   "outputs": [],
   "source": [
    "jaanu = Pitbull()"
   ]
  },
  {
   "cell_type": "code",
   "execution_count": null,
   "id": "6933c75e-b059-41c3-9d70-1ef3e0fe83fb",
   "metadata": {},
   "outputs": [],
   "source": [
    "jaanu.size"
   ]
  },
  {
   "cell_type": "code",
   "execution_count": null,
   "id": "cc396c8c-42d9-4d68-b2e1-f9a914fea122",
   "metadata": {},
   "outputs": [],
   "source": [
    "jaanu.name"
   ]
  },
  {
   "cell_type": "code",
   "execution_count": null,
   "id": "cfef0c7b-35e1-478e-8ddb-63574ef95686",
   "metadata": {},
   "outputs": [],
   "source": [
    "jaanu.speak()"
   ]
  },
  {
   "cell_type": "markdown",
   "id": "d27855f3-3069-444a-8c55-f08626421593",
   "metadata": {},
   "source": [
    "Redefining our child class (subclass) with explicit (declarative) inheritance."
   ]
  },
  {
   "cell_type": "code",
   "execution_count": null,
   "id": "b0dd10e2-9eb3-4b4d-a7ea-adc9c1b1f9f6",
   "metadata": {},
   "outputs": [],
   "source": [
    "class Pitbull(Dog):\n",
    "    def __init__(self, name, age):\n",
    "        self.size = \"kinda big\"\n",
    "        super().__init__(name, age)"
   ]
  },
  {
   "cell_type": "markdown",
   "id": "9f3c398f-2af1-48b8-b768-059a2d07e5c3",
   "metadata": {},
   "source": [
    "Creating an instance of the subclass with fully inherited attributes and methods."
   ]
  },
  {
   "cell_type": "code",
   "execution_count": null,
   "id": "90259d8c-7ae0-4493-9526-e93d76a6d362",
   "metadata": {},
   "outputs": [],
   "source": [
    "jaanu = Pitbull(\"Jaanu\", 14)"
   ]
  },
  {
   "cell_type": "code",
   "execution_count": null,
   "id": "2e816fbe-b204-412f-b037-606f9f97af79",
   "metadata": {},
   "outputs": [],
   "source": [
    "jaanu.size"
   ]
  },
  {
   "cell_type": "code",
   "execution_count": null,
   "id": "fcd23d94-b5f4-4a86-961f-aaa6f9479de4",
   "metadata": {},
   "outputs": [],
   "source": [
    "jaanu.age"
   ]
  },
  {
   "cell_type": "code",
   "execution_count": null,
   "id": "f151e212-72af-46af-946e-493d392d394e",
   "metadata": {},
   "outputs": [],
   "source": [
    "jaanu.good_dog"
   ]
  },
  {
   "cell_type": "code",
   "execution_count": null,
   "id": "30fac745-0777-42fe-bdf0-4586f87b3092",
   "metadata": {},
   "outputs": [],
   "source": [
    "jaanu.speak(\"Bark\")"
   ]
  },
  {
   "cell_type": "markdown",
   "id": "12462e91-92f6-4284-a74a-27ef739cbbfb",
   "metadata": {},
   "source": [
    "### OOPD: Encapsulation"
   ]
  },
  {
   "cell_type": "code",
   "execution_count": null,
   "id": "8a349bf0-4fb5-47ed-ae82-bcd9cabf23ef",
   "metadata": {},
   "outputs": [],
   "source": [
    "class Dog:\n",
    "    def __init__(self, name, age):\n",
    "        self.name = name\n",
    "        self.age = age\n",
    "        self.good_dog = True\n",
    "\n",
    "    def __repr__(self):\n",
    "        return f\"{self.name} is {self.age} years old!\"\n",
    "\n",
    "    def speak(self, expression=\"Woof\"):\n",
    "        return expression"
   ]
  },
  {
   "cell_type": "code",
   "execution_count": null,
   "id": "fafad3b9-6212-4da8-9748-48702b4ecd33",
   "metadata": {},
   "outputs": [],
   "source": [
    "class Human:\n",
    "    def __init__(self, name):\n",
    "        self.name = name\n",
    "\n",
    "    def pet(self, dog: Dog):\n",
    "        if dog.good_dog is True:\n",
    "            print(f\"{self.name}: 'What a good dog you are, {dog.name}!'\")\n",
    "            print(f\"{dog.name}: '{dog.speak()}! *happily wags tail*'\")"
   ]
  },
  {
   "cell_type": "code",
   "execution_count": null,
   "id": "324d5677-a1f7-4a31-80a1-fccebde61965",
   "metadata": {},
   "outputs": [],
   "source": [
    "sakib = Human(\"Sakib\")\n",
    "benji = Dog(\"Benji\", 3)\n",
    "\n",
    "sakib.pet(benji)"
   ]
  },
  {
   "cell_type": "markdown",
   "id": "0d9b0824-2e5b-4ce0-9901-d32014ab4a78",
   "metadata": {},
   "source": [
    "## Dunder (Magic) Methods"
   ]
  },
  {
   "cell_type": "markdown",
   "id": "36cb72d8-aefa-4c04-8754-70fee1693707",
   "metadata": {},
   "source": [
    "### `__init__()`, the Constructor"
   ]
  },
  {
   "cell_type": "code",
   "execution_count": null,
   "id": "f0695130-8362-4576-82fc-5135bbff68b4",
   "metadata": {},
   "outputs": [],
   "source": [
    "class MyConstructedObject:\n",
    "    def __init__(self, name, favorite_languages):\n",
    "        self.name = name\n",
    "        self.favorite_languages = favorite_languages"
   ]
  },
  {
   "cell_type": "code",
   "execution_count": null,
   "id": "b73bc2f2-b87b-40a9-85f1-50cfac3c00dd",
   "metadata": {},
   "outputs": [],
   "source": [
    "constructed_instance = MyConstructedObject(\"Kash\", [\"Python\", \"Lua\"])"
   ]
  },
  {
   "cell_type": "code",
   "execution_count": null,
   "id": "ca310853-a2f4-43b3-b944-64325f11a35f",
   "metadata": {},
   "outputs": [],
   "source": [
    "constructed_instance.name"
   ]
  },
  {
   "cell_type": "code",
   "execution_count": null,
   "id": "f8a9d4d9-c0f1-4b0c-875e-e5494115c218",
   "metadata": {},
   "outputs": [],
   "source": [
    "constructed_instance.favorite_languages"
   ]
  },
  {
   "cell_type": "markdown",
   "id": "ba32003f-f54f-4ef5-bd08-d3d6754495b5",
   "metadata": {},
   "source": [
    "### `__repr__()`, the Representative"
   ]
  },
  {
   "cell_type": "code",
   "execution_count": null,
   "id": "0df91630-2249-45dc-bdfd-a7c787b87742",
   "metadata": {},
   "outputs": [],
   "source": [
    "class MyRepresentationalObject:\n",
    "    def __repr__(self):\n",
    "        return \"I am an object. Fear me!\""
   ]
  },
  {
   "cell_type": "code",
   "execution_count": null,
   "id": "eceaaad3-de30-4201-a3b9-69a9b975c1b7",
   "metadata": {},
   "outputs": [],
   "source": [
    "represented_instance = MyRepresentationalObject()"
   ]
  },
  {
   "cell_type": "code",
   "execution_count": null,
   "id": "e4dc1bb6-e21a-4306-b7c5-5f987693ffe5",
   "metadata": {},
   "outputs": [],
   "source": [
    "represented_instance"
   ]
  },
  {
   "cell_type": "markdown",
   "id": "44de0ff8-34b5-4178-acd4-2b3b2216387d",
   "metadata": {},
   "source": [
    "### `__call__()`, the Functional Invoker"
   ]
  },
  {
   "cell_type": "code",
   "execution_count": null,
   "id": "a1948c37-6d0f-4ac4-a809-56b530c88911",
   "metadata": {},
   "outputs": [],
   "source": [
    "class MyCallableObject:\n",
    "    def __call__(self):\n",
    "        print(\"I awaken, my leige. What is thy command?\")"
   ]
  },
  {
   "cell_type": "code",
   "execution_count": null,
   "id": "fb1a6812-e765-46ff-8f3e-95a424294c9a",
   "metadata": {},
   "outputs": [],
   "source": [
    "callable_instance = MyCallableObject()"
   ]
  },
  {
   "cell_type": "code",
   "execution_count": null,
   "id": "25e3d146-519f-4559-8961-b1158168295d",
   "metadata": {},
   "outputs": [],
   "source": [
    "callable_instance()"
   ]
  },
  {
   "cell_type": "markdown",
   "id": "7ee8a3b8-d105-47d4-a94e-e8189c6fa6c2",
   "metadata": {},
   "source": [
    "## Properties and Advanced Object Attribution"
   ]
  },
  {
   "cell_type": "markdown",
   "id": "12abbae6-826f-4673-8395-b6c00378fbe4",
   "metadata": {},
   "source": [
    "### The `@property` Decorator"
   ]
  },
  {
   "cell_type": "code",
   "execution_count": null,
   "id": "0373cd03-5b28-46d4-b9aa-28c6eb023835",
   "metadata": {},
   "outputs": [],
   "source": [
    "@property?"
   ]
  },
  {
   "cell_type": "markdown",
   "id": "7d496be3-c240-4c46-801d-c1f9664fbda7",
   "metadata": {},
   "source": [
    "### Getting Properties with `@property`"
   ]
  },
  {
   "cell_type": "code",
   "execution_count": null,
   "id": "8fffaf2c-a072-47d2-80a5-04d68300d486",
   "metadata": {},
   "outputs": [],
   "source": [
    "class SliceOfPizza:\n",
    "    def __init__(self, price):\n",
    "        self._price = price\n",
    "\n",
    "    @property\n",
    "    def price(self):\n",
    "        return self._price"
   ]
  },
  {
   "cell_type": "code",
   "execution_count": null,
   "id": "6b651743-9968-4500-9588-b5d7fc2edf40",
   "metadata": {},
   "outputs": [],
   "source": [
    "cheese = SliceOfPizza(0.99)"
   ]
  },
  {
   "cell_type": "code",
   "execution_count": null,
   "id": "00f22ab9-a537-40ed-9cbe-7f81816019c3",
   "metadata": {},
   "outputs": [],
   "source": [
    "cheese.price"
   ]
  },
  {
   "cell_type": "code",
   "execution_count": null,
   "id": "4f664169-be1c-47b2-950c-6b4a5d9480fa",
   "metadata": {},
   "outputs": [],
   "source": [
    "cheese.price = 1.99"
   ]
  },
  {
   "cell_type": "code",
   "execution_count": null,
   "id": "0ce99b52-2454-4431-8e5e-1bd53c480c2d",
   "metadata": {},
   "outputs": [],
   "source": [
    "del cheese.price"
   ]
  },
  {
   "cell_type": "markdown",
   "id": "6115dd5c-033b-4cc5-a5ab-0a107574ab68",
   "metadata": {},
   "source": [
    "### Setting Properties with `@{PROPERTY_NAME}.setter`"
   ]
  },
  {
   "cell_type": "code",
   "execution_count": null,
   "id": "aa2230bd-9586-46fe-a20c-7152a0eda3cb",
   "metadata": {},
   "outputs": [],
   "source": [
    "class SliceOfPizza:\n",
    "    def __init__(self, price):\n",
    "        self._price = price\n",
    "\n",
    "    @property\n",
    "    def price(self):\n",
    "        return self._price\n",
    "\n",
    "    @price.setter\n",
    "    def price(self, new_price):\n",
    "        if new_price >= 0 and isinstance(new_price, float):\n",
    "            self._price = new_price\n",
    "        else:\n",
    "            print(\"Please enter a valid price.\")"
   ]
  },
  {
   "cell_type": "code",
   "execution_count": null,
   "id": "87b0b290-e084-44f8-8807-0e539b8986a5",
   "metadata": {},
   "outputs": [],
   "source": [
    "pepperoni = SliceOfPizza(1.49)"
   ]
  },
  {
   "cell_type": "code",
   "execution_count": null,
   "id": "32571dfd-9dd8-4bd3-b3b1-b0937249ff1a",
   "metadata": {},
   "outputs": [],
   "source": [
    "pepperoni.price"
   ]
  },
  {
   "cell_type": "code",
   "execution_count": null,
   "id": "6e0d1532-4d59-4718-baaa-7beedc304d75",
   "metadata": {},
   "outputs": [],
   "source": [
    "pepperoni.price = 1.79"
   ]
  },
  {
   "cell_type": "code",
   "execution_count": null,
   "id": "b09e832e-2dbc-4bf3-ad22-9d433f658383",
   "metadata": {},
   "outputs": [],
   "source": [
    "pepperoni.price"
   ]
  },
  {
   "cell_type": "code",
   "execution_count": null,
   "id": "0142a92c-95b7-4126-8703-7aeb5b2f96cf",
   "metadata": {},
   "outputs": [],
   "source": [
    "pepperoni.price = -0.79"
   ]
  },
  {
   "cell_type": "code",
   "execution_count": null,
   "id": "8234576d-b326-4ac3-a273-8c0ba045c3c0",
   "metadata": {},
   "outputs": [],
   "source": [
    "del pepperoni.price"
   ]
  },
  {
   "cell_type": "markdown",
   "id": "36a20deb-0447-47ed-afb2-cb08782378bd",
   "metadata": {},
   "source": [
    "### Deleting Properties with `@{PROPERTY_NAME}.deleter`"
   ]
  },
  {
   "cell_type": "code",
   "execution_count": null,
   "id": "817755c3-ee52-4f76-a735-fae28023ab77",
   "metadata": {},
   "outputs": [],
   "source": [
    "class SliceOfPizza:\n",
    "    def __init__(self, price):\n",
    "        self._price = price\n",
    "\n",
    "    @property\n",
    "    def price(self):\n",
    "        return self._price\n",
    "\n",
    "    @price.setter\n",
    "    def price(self, new_price):\n",
    "        if new_price >= 0 and isinstance(new_price, float):\n",
    "            self._price = new_price\n",
    "        else:\n",
    "            print(\"Please enter a valid price.\")\n",
    "\n",
    "    @price.deleter\n",
    "    def price(self):\n",
    "        del self._price\n",
    "        print(\"Property `price` has been deleted.\")"
   ]
  },
  {
   "cell_type": "code",
   "execution_count": null,
   "id": "9c66dade-1ebc-4755-be4b-60af7d76906b",
   "metadata": {},
   "outputs": [],
   "source": [
    "sicilian = SliceOfPizza(1.39)"
   ]
  },
  {
   "cell_type": "code",
   "execution_count": null,
   "id": "cc9caba3-cb9f-4ab9-91d1-c5af63854c06",
   "metadata": {},
   "outputs": [],
   "source": [
    "sicilian.price"
   ]
  },
  {
   "cell_type": "code",
   "execution_count": null,
   "id": "5b228a9d-b9de-4a7f-a73b-9ac310a0eb46",
   "metadata": {},
   "outputs": [],
   "source": [
    "sicilian.price = 1.29"
   ]
  },
  {
   "cell_type": "code",
   "execution_count": null,
   "id": "5a5f7b3d-b2b6-4877-8d64-d591ed51574a",
   "metadata": {},
   "outputs": [],
   "source": [
    "sicilian.price = -0.49"
   ]
  },
  {
   "cell_type": "code",
   "execution_count": null,
   "id": "683bdc49-857c-491d-81bc-447867049a94",
   "metadata": {},
   "outputs": [],
   "source": [
    "del sicilian.price"
   ]
  },
  {
   "cell_type": "markdown",
   "id": "438e3f39-2641-4696-ad6c-d9c793e71d5b",
   "metadata": {},
   "source": [
    "## Object Interactivity and Management"
   ]
  },
  {
   "cell_type": "markdown",
   "id": "3feaa8d6-fbac-4c6b-90f6-7ec3a15008cc",
   "metadata": {},
   "source": [
    "### Scoping and Handling Multiple Objects"
   ]
  },
  {
   "cell_type": "code",
   "execution_count": null,
   "id": "89f82d4e-de39-4b73-9b75-6f22cbfefda5",
   "metadata": {},
   "outputs": [],
   "source": [
    "class Pizza:\n",
    "    def __init__(self, name):\n",
    "        self._name = name\n",
    "        self._orders = []\n",
    "        self._customers = []\n",
    "\n",
    "    @property\n",
    "    def name(self):\n",
    "        return self._name\n",
    "\n",
    "    @name.setter\n",
    "    def name(self, name):\n",
    "        NAME_IS_STR = isinstance(name, str)\n",
    "        NAME_EXISTS = (not hasattr(self, \"name\"))\n",
    "        if NAME_IS_STR and NAME_EXISTS:\n",
    "            self._name = name\n",
    "        else:\n",
    "            raise Exception(\"`Pizza.name` already exists!\")\n",
    "\n",
    "    def orders(self, new_order=None):\n",
    "        ORDER_ALREADY_CREATED = (new_order is not None)\n",
    "        ORDER_TYPE_IS_VALID = isinstance(new_order, Order)\n",
    "        if ORDER_ALREADY_CREATED and ORDER_TYPE_IS_VALID:\n",
    "            self._orders.append(new_order)\n",
    "        return self._orders\n",
    "\n",
    "    def customers(self, new_customer=None):\n",
    "        CUSTOMER_IS_UNIQUE = (new_customer not in self._customers)\n",
    "        CUSTOMER_TYPE_IS_VALID = isinstance(new_customer, Customer)\n",
    "        if CUSTOMER_IS_UNIQUE and CUSTOMER_TYPE_IS_VALID:\n",
    "            self._customers.append(new_customer)\n",
    "        return self._customers\n",
    "\n",
    "    def total_orders(self):\n",
    "        return len(self._orders)\n",
    "\n",
    "    def average_price(self):\n",
    "        return round(sum([order.price for order in self._orders]) / self.total_orders(), 2)"
   ]
  },
  {
   "cell_type": "code",
   "execution_count": null,
   "id": "aa246a37-c921-4c42-97c4-316cb762eb9d",
   "metadata": {},
   "outputs": [],
   "source": [
    "class Customer:\n",
    "    def __init__(self, name):\n",
    "        self._name = name\n",
    "        self._orders = []\n",
    "        self._pizzas = []\n",
    "\n",
    "    @property\n",
    "    def name(self):\n",
    "        return self._name\n",
    "\n",
    "    @name.setter\n",
    "    def name(self, name):\n",
    "        NAME_IS_STR = isinstance(name, str)\n",
    "        NAME_WITHIN_ACCEPTABLE_LENGTH = (1 <= len(name) <= 15)\n",
    "        if NAME_IS_STR and NAME_WITHIN_ACCEPTABLE_LENGTH:\n",
    "            self._name = name\n",
    "        else:\n",
    "            raise Exception(\"Unacceptable data format for `Customer.name`!\")\n",
    "\n",
    "    def orders(self, new_order=None):\n",
    "        ORDER_ALREADY_CREATED = (new_order is not None)\n",
    "        ORDER_TYPE_IS_VALID = isinstance(new_order, Order)\n",
    "        if ORDER_ALREADY_CREATED and ORDER_TYPE_IS_VALID:\n",
    "            self._orders.append(new_order)\n",
    "        return self._orders\n",
    "\n",
    "    def pizzas(self, new_pizza=None):\n",
    "        PIZZA_ALREADY_CREATED = (new_pizza is not None)\n",
    "        PIZZA_TYPE_IS_VALID = isinstance(new_pizza, Pizza)\n",
    "        PIZZA_IS_UNIQUE = (new_pizza not in self._pizzas)\n",
    "        if PIZZA_ALREADY_CREATED and PIZZA_TYPE_IS_VALID and PIZZA_IS_UNIQUE:\n",
    "            self._pizzas.append(new_pizza)\n",
    "        return self._pizzas"
   ]
  },
  {
   "cell_type": "code",
   "execution_count": null,
   "id": "f721f3ee-796f-4fa7-b85d-be595ef0db69",
   "metadata": {},
   "outputs": [],
   "source": [
    "class Order:\n",
    "    catalog = []\n",
    "\n",
    "    def __init__(self, customer, pizza, price):\n",
    "        self._customer = customer\n",
    "        self._pizza = pizza\n",
    "        self._price = price\n",
    "\n",
    "        Order.catalog.append(self)\n",
    "\n",
    "        pizza.orders(self)\n",
    "        pizza.customers(customer)\n",
    "        \n",
    "        customer.orders(self)\n",
    "        customer.pizzas(pizza)\n",
    "\n",
    "    def __repr__(self):\n",
    "        return f\"{self.customer.name} ordered a {self.pizza.name}.\"\n",
    "\n",
    "    @property\n",
    "    def price(self):\n",
    "        return self._price\n",
    "\n",
    "    @price.setter\n",
    "    def price(self, price):\n",
    "        PRICE_IS_NUMERICAL = (type(price) in (int, float))\n",
    "        PRICE_WITHIN_ACCEPTABLE_RANGE = (0.25 <= price <= 20)\n",
    "        if PRICE_IS_NUMERICAL and PRICE_WITHIN_ACCEPTABLE_RANGE:\n",
    "            self._price = price\n",
    "        else:\n",
    "            raise Exception(\"Unacceptable data format for `Order.price`!\")\n",
    "\n",
    "    @property\n",
    "    def customer(self):\n",
    "        return self._customer\n",
    "\n",
    "    @customer.setter\n",
    "    def customer(self, customer):\n",
    "        CUSTOMER_TYPE_IS_VALID = isinstance(customer, Customer)\n",
    "        if CUSTOMER_TYPE_IS_VALID:\n",
    "            self._customer = customer\n",
    "        else:\n",
    "            raise Exception(\"Unacceptable data type for `Order.customer`!\")\n",
    "\n",
    "    @property\n",
    "    def pizza(self):\n",
    "        return self._pizza\n",
    "\n",
    "    @pizza.setter\n",
    "    def pizza(self, pizza):\n",
    "        PIZZA_TYPE_IS_VALID = isinstance(pizza, Pizza)\n",
    "        if PIZZA_TYPE_IS_VALID:\n",
    "            self._pizza = pizza\n",
    "        else:\n",
    "            raise Exception(\"Unacceptable data type for `Order.pizza`!\")"
   ]
  },
  {
   "cell_type": "code",
   "execution_count": null,
   "id": "6afc89ba-9fe7-42cc-bc2a-ce9be253cddc",
   "metadata": {},
   "outputs": [],
   "source": [
    "class Pizzeria: \n",
    "    def __call__(self):\n",
    "        print(\"HELLO! :) Let's test and debug!\\n\")\n",
    "\n",
    "        customer1 = Customer(\"Kash\")\n",
    "        customer2 = Customer(\"Sakib\")\n",
    "        customer3 = Customer(\"Chett\")\n",
    "        customer4 = Customer(\"Chelsea\")\n",
    "\n",
    "        pizza1 = Pizza(\"Cheese Slice\")\n",
    "        pizza2 = Pizza(\"Pepperoni Pie\")\n",
    "\n",
    "        Order.catalog = []\n",
    "        order1 = Order(customer1, pizza1, 0.99)\n",
    "        order2 = Order(customer2, pizza1, 1.99)\n",
    "        order3 = Order(customer2, pizza1, 1.79)\n",
    "        order4 = Order(customer3, pizza2, 10.99)\n",
    "        order5 = Order(customer4, pizza2, 11.99)\n",
    "\n",
    "        for order in Order.catalog:\n",
    "            print(f\"\\t>> {order}\")\n",
    "        \n",
    "        print(f\"\\n\\t>> Total Orders for {pizza1.name}: {pizza1.total_orders()}.\")\n",
    "        print(f\"\\t>> Average Price for {pizza1.name}: ${pizza1.average_price()}.\")\n",
    "\n",
    "        print(f\"\\n\\t>> Total Orders for {pizza2.name}: {pizza2.total_orders()}.\")\n",
    "        print(f\"\\t>> Average Price for {pizza2.name}: ${pizza2.average_price()}.\")"
   ]
  },
  {
   "cell_type": "code",
   "execution_count": null,
   "id": "0bc2afd4-bc00-4cd3-946e-79c7df5f3121",
   "metadata": {},
   "outputs": [],
   "source": [
    "pizza_time = Pizzeria()\n",
    "\n",
    "pizza_time()"
   ]
  },
  {
   "cell_type": "markdown",
   "id": "67444fce-e940-4b7b-ae54-847f3104991d",
   "metadata": {},
   "source": [
    "---\n",
    "---\n",
    "---"
   ]
  }
 ],
 "metadata": {
  "kernelspec": {
   "display_name": "Python 3 (ipykernel)",
   "language": "python",
   "name": "python3"
  },
  "language_info": {
   "codemirror_mode": {
    "name": "ipython",
    "version": 3
   },
   "file_extension": ".py",
   "mimetype": "text/x-python",
   "name": "python",
   "nbconvert_exporter": "python",
   "pygments_lexer": "ipython3",
   "version": "3.8.13"
  }
 },
 "nbformat": 4,
 "nbformat_minor": 5
}

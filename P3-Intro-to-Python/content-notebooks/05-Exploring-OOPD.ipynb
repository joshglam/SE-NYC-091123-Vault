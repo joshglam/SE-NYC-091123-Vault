{
 "cells": [
  {
   "cell_type": "markdown",
   "id": "f3ecc767-6568-4c51-a742-dceddcb32b2a",
   "metadata": {},
   "source": [
    "---\n",
    "---\n",
    "---"
   ]
  },
  {
   "cell_type": "markdown",
   "id": "f7e8bd0c-3463-4eb0-8887-b487a6bcccd3",
   "metadata": {},
   "source": [
    "# Exploring Object-Oriented Programming Design"
   ]
  },
  {
   "cell_type": "markdown",
   "id": "436be955-088d-4cab-b5c3-b9ee650ec0b2",
   "metadata": {},
   "source": [
    "|Term                           | Definition\n",
    "|-------------------------------|-----------------------------|\n",
    "|**Abstraction**                | A core concept in OOPD referring to the process of hiding unnecessary code complexity from the user or the developer by scoping them within relevant objects and classes. |\n",
    "|**Polymorphism**               | A core concept in OOPD referring to the process of allowing a class or object to have many forms using inheritance or overriding. |\n",
    "|**Inheritance**                | A core concept in OOPD referring to the process of reusing relevant code by allowing some classes to pass down code to other classes, or vice versa. |\n",
    "|**Encapsulation**              | A core concept in OOPD referring to the process of tethering relevant variables (called attributes) and functions (called methods) together in the same class scope due to their relationships with one another. |\n",
    "|**Subclass (Child)**           | A blueprint for an object with its **instructions derived from another class**, usually referred to as its \"parent\" or \"superclass\". |\n",
    "|**Superclass (Parent)**        | A blueprint for an object with its **instructions intended to be inherited by another class**, usually referred to as its \"child\" or \"subclass\". |\n",
    "|**Dunder (Magic) Method**      | A special type of automatically inherited method that can be explicitly overwritten to provide deeper functionality to classes and their corresponding object instances. |\n",
    "|**Property**                   | A programmatic way of allowing safe modification of a class's attributes/methods without exposing the class's architecture to users; also known as **\"managed attributes\"**. |\n",
    "|**Getter**                     | A property syntax (reserved by `@property`) that enables finer control of **creating an object attribute** (or method). |\n",
    "|**Setter**                     | A property syntax (reserved by `@{PROPERTY_NAME}.setter` that enables finer control of **modifying an object attribute** (or method). |\n",
    "|**Deleter**                    | A property syntax (reserved by `@{PROPERTY_NAME}.deleter` that enables finer control of **destroying an object attribute** (or method). |\n",
    "|**`__init__()`**               | A reserved dunder method that allows for control over **which attributes and methods a particular object is configured with upon initialization**; commonly referred to as the **constructor**. |\n",
    "|**`__repr__()`**               | A reserved dunder method that allows for control over **how an object is physically represented to the console** when invoked to either the user or machine; sometimes referred to as the **representative**. |\n",
    "|**`__call__()`**               | A reserved dunder method that allows for control over **additional operability** that an object instance can perform when **called after initialization** (like a function); sometimes referred to as the **invoker**. |"
   ]
  },
  {
   "cell_type": "markdown",
   "id": "9d71cdd3-ef1a-4f3e-880e-7b1b09f702ae",
   "metadata": {},
   "source": [
    "## Conceptually Baking \"A PIE\""
   ]
  },
  {
   "cell_type": "markdown",
   "id": "4b463ef3-c498-41f1-a2e0-5efedebd799b",
   "metadata": {},
   "source": [
    "![](https://assets.website-files.com/5c7536fc6fa90e7dbc27598f/5d8350501fa9f72a27a893bf_Oo65m_6e_qkDzypQAEMmPHMgn_mbbZo492Zf-qLCs1Rw1gc6CUAZqLxgmawjN1qdAiIrSqtRU5PpkEYlM2MAhUYjt1SwuvUialeWk2c6mIu0Vwt5F97USlsy1lmLTy_XsHjH5GK0U2BPhz3TEA.png)"
   ]
  },
  {
   "cell_type": "markdown",
   "id": "cff6df00-a481-49a0-9805-20083d757ba2",
   "metadata": {},
   "source": [
    "### OOPD: Abstraction"
   ]
  },
  {
   "cell_type": "markdown",
   "id": "554909e9-6a00-48f5-a9c6-e8c50949f1de",
   "metadata": {},
   "source": [
    "A violation of abstraction."
   ]
  },
  {
   "cell_type": "code",
   "execution_count": 132,
   "id": "df76ba08-c560-4b9d-93bc-1f309871d543",
   "metadata": {},
   "outputs": [
    {
     "name": "stdout",
     "output_type": "stream",
     "text": [
      "Bablu is 5 years old!\n"
     ]
    }
   ],
   "source": [
    "bablu = {\n",
    "    \"name\": \"Bablu\",\n",
    "    \"age\": 5,\n",
    "    \"is_good_dog\": True\n",
    "}\n",
    "\n",
    "print(f\"{bablu['name']} is {bablu['age']} years old!\")"
   ]
  },
  {
   "cell_type": "markdown",
   "id": "fc0fe87f-9817-4adf-b318-4d1f43dc94b6",
   "metadata": {},
   "source": [
    "A fulfillment of abstraction."
   ]
  },
  {
   "cell_type": "code",
   "execution_count": 133,
   "id": "7451d454-280b-456e-ae23-2259e8671957",
   "metadata": {},
   "outputs": [],
   "source": [
    "class Dog:\n",
    "    def __init__(self, name, age):\n",
    "        self.name = name\n",
    "        self.age = age\n",
    "        self.good_dog = True\n",
    "\n",
    "    def __repr__(self):\n",
    "        return f\"{self.name} is {self.age} years old!\""
   ]
  },
  {
   "cell_type": "code",
   "execution_count": 134,
   "id": "3b0ce40a-2495-4a54-af78-448da83ac3da",
   "metadata": {},
   "outputs": [
    {
     "data": {
      "text/plain": [
       "Bablu is 5 years old!"
      ]
     },
     "execution_count": 134,
     "metadata": {},
     "output_type": "execute_result"
    }
   ],
   "source": [
    "bablu = Dog(\"Bablu\", 5)\n",
    "\n",
    "bablu"
   ]
  },
  {
   "cell_type": "code",
   "execution_count": 135,
   "id": "6ec52913-436b-4198-832f-4136782bf6f7",
   "metadata": {},
   "outputs": [],
   "source": [
    "stewart = Dog(\"Stewart\", 10)"
   ]
  },
  {
   "cell_type": "code",
   "execution_count": 136,
   "id": "cd97111a-8a76-4d4a-8cce-103cacfd9e15",
   "metadata": {},
   "outputs": [
    {
     "data": {
      "text/plain": [
       "Stewart is 10 years old!"
      ]
     },
     "execution_count": 136,
     "metadata": {},
     "output_type": "execute_result"
    }
   ],
   "source": [
    "stewart"
   ]
  },
  {
   "cell_type": "markdown",
   "id": "c9c32a57-8142-472f-b3c8-3f8f74497f9b",
   "metadata": {},
   "source": [
    "### OOPD: Polymorphism"
   ]
  },
  {
   "cell_type": "code",
   "execution_count": null,
   "id": "1660e483-3851-409e-9ec6-5c80161a192d",
   "metadata": {},
   "outputs": [],
   "source": [
    "class Pitbull(Dog):\n",
    "    def __init__(self):\n",
    "        pass\n",
    "\n",
    "class Rottweiler(Dog):\n",
    "    def __init__(self):\n",
    "        pass\n",
    "\n",
    "class Poodle(Dog):\n",
    "    def __init__(self):\n",
    "        pass\n",
    "\n",
    "class GreatDane(Dog):\n",
    "    def __init__(self):\n",
    "        pass\n",
    "\n",
    "class GermanShepherd(Dog):\n",
    "    def __init__(self):\n",
    "        pass"
   ]
  },
  {
   "cell_type": "code",
   "execution_count": null,
   "id": "0c1f61e4-3346-4ee8-85b7-b1fd9f29cda1",
   "metadata": {},
   "outputs": [],
   "source": [
    "class Wolf:\n",
    "    def __init__(self):\n",
    "        pass\n",
    "\n",
    "class GrayWolf(Wolf):\n",
    "    def __init__(self):\n",
    "        pass"
   ]
  },
  {
   "cell_type": "code",
   "execution_count": null,
   "id": "fad0df57-c4f3-400b-9f73-74e920620b10",
   "metadata": {},
   "outputs": [],
   "source": [
    "class WolfDog(Wolf, Dog):\n",
    "    def __init__(self):\n",
    "        pass"
   ]
  },
  {
   "cell_type": "markdown",
   "id": "0ca734ac-911b-4261-88a7-3f3ccb87c561",
   "metadata": {},
   "source": [
    "### OOPD: Inheritance"
   ]
  },
  {
   "cell_type": "markdown",
   "id": "9fc73087-124e-4e14-883b-74465540c378",
   "metadata": {},
   "source": [
    "Defining a parent class (superclass)."
   ]
  },
  {
   "cell_type": "code",
   "execution_count": 158,
   "id": "7022793c-bfef-4923-b428-b71ce918be54",
   "metadata": {},
   "outputs": [],
   "source": [
    "class SomeOtherClass():\n",
    "    def __init__(self):\n",
    "        pass"
   ]
  },
  {
   "cell_type": "code",
   "execution_count": 159,
   "id": "c0edca08-76dd-4d91-8634-d45729d06003",
   "metadata": {},
   "outputs": [
    {
     "data": {
      "text/plain": [
       "<__main__.SomeOtherClass at 0x10c810390>"
      ]
     },
     "execution_count": 159,
     "metadata": {},
     "output_type": "execute_result"
    }
   ],
   "source": [
    "this_is_my_object = SomeOtherClass()\n",
    "\n",
    "this_is_my_object"
   ]
  },
  {
   "cell_type": "code",
   "execution_count": 160,
   "id": "14ac8138-9376-4153-9aca-aaeea4114467",
   "metadata": {},
   "outputs": [],
   "source": [
    "class Dog:\n",
    "    def __init__(self, name=\"some dog\", age=1):\n",
    "        self.name = name\n",
    "        self.age = age\n",
    "        self.good_dog = True\n",
    "\n",
    "    def __repr__(self):\n",
    "        return f\"{self.name} is {self.age} years old!\"\n",
    "\n",
    "    def speak(self, expression=\"Woof\"):\n",
    "        return print(expression)"
   ]
  },
  {
   "cell_type": "code",
   "execution_count": 161,
   "id": "b4c0c92d-9c9f-4dc7-84e5-5193966eb5f7",
   "metadata": {},
   "outputs": [
    {
     "data": {
      "text/plain": [
       "Bablu is 5 years old!"
      ]
     },
     "execution_count": 161,
     "metadata": {},
     "output_type": "execute_result"
    }
   ],
   "source": [
    "my_dog = Dog(\"Bablu\", 5)\n",
    "\n",
    "my_dog"
   ]
  },
  {
   "cell_type": "markdown",
   "id": "abf4ca2a-d472-4505-a48d-1f973d450f28",
   "metadata": {},
   "source": [
    "Defining a child class (subclass) with implicit (implied) inheritance."
   ]
  },
  {
   "cell_type": "code",
   "execution_count": 157,
   "id": "0c9cab34-ecbf-4737-9454-60cb9f4ac4f7",
   "metadata": {},
   "outputs": [],
   "source": [
    "class Bloodhound(Dog):\n",
    "    def __init__(self):\n",
    "        self.size = \"big\"\n",
    "\n",
    "    def hunt(self):\n",
    "        print(f\"This bloodhound caught a rabbit!\")"
   ]
  },
  {
   "cell_type": "markdown",
   "id": "ea8a1f26-7881-42aa-b951-7c52b14d77ff",
   "metadata": {},
   "source": [
    "Creating an instance of the subclass with inherited methods."
   ]
  },
  {
   "cell_type": "code",
   "execution_count": 141,
   "id": "054ed985-607e-4ef0-bed8-010bf458e540",
   "metadata": {},
   "outputs": [],
   "source": [
    "hunter = Bloodhound()"
   ]
  },
  {
   "cell_type": "code",
   "execution_count": 142,
   "id": "6933c75e-b059-41c3-9d70-1ef3e0fe83fb",
   "metadata": {},
   "outputs": [
    {
     "data": {
      "text/plain": [
       "'big'"
      ]
     },
     "execution_count": 142,
     "metadata": {},
     "output_type": "execute_result"
    }
   ],
   "source": [
    "hunter.size"
   ]
  },
  {
   "cell_type": "code",
   "execution_count": 143,
   "id": "cc396c8c-42d9-4d68-b2e1-f9a914fea122",
   "metadata": {},
   "outputs": [
    {
     "ename": "AttributeError",
     "evalue": "'Bloodhound' object has no attribute 'name'",
     "output_type": "error",
     "traceback": [
      "\u001b[0;31m---------------------------------------------------------------------------\u001b[0m",
      "\u001b[0;31mAttributeError\u001b[0m                            Traceback (most recent call last)",
      "Cell \u001b[0;32mIn[143], line 1\u001b[0m\n\u001b[0;32m----> 1\u001b[0m \u001b[43mhunter\u001b[49m\u001b[38;5;241;43m.\u001b[39;49m\u001b[43mname\u001b[49m\n",
      "\u001b[0;31mAttributeError\u001b[0m: 'Bloodhound' object has no attribute 'name'"
     ]
    }
   ],
   "source": [
    "hunter.name"
   ]
  },
  {
   "cell_type": "code",
   "execution_count": 144,
   "id": "3ac430a4-1dbb-4a1e-9247-ca2f99a9604b",
   "metadata": {},
   "outputs": [
    {
     "name": "stdout",
     "output_type": "stream",
     "text": [
      "This bloodhound caught a rabbit!\n"
     ]
    }
   ],
   "source": [
    "hunter.hunt()"
   ]
  },
  {
   "cell_type": "code",
   "execution_count": 145,
   "id": "cfef0c7b-35e1-478e-8ddb-63574ef95686",
   "metadata": {},
   "outputs": [
    {
     "name": "stdout",
     "output_type": "stream",
     "text": [
      "Woof\n"
     ]
    }
   ],
   "source": [
    "hunter.speak()"
   ]
  },
  {
   "cell_type": "markdown",
   "id": "d27855f3-3069-444a-8c55-f08626421593",
   "metadata": {},
   "source": [
    "Redefining our child class (subclass) with explicit (declarative) inheritance."
   ]
  },
  {
   "cell_type": "code",
   "execution_count": 147,
   "id": "b0dd10e2-9eb3-4b4d-a7ea-adc9c1b1f9f6",
   "metadata": {},
   "outputs": [],
   "source": [
    "class Bloodhound(Dog):\n",
    "    def __init__(self):\n",
    "        self.size = \"big\"\n",
    "        super().__init__()\n",
    "\n",
    "    def hunt(self):\n",
    "        print(f\"{self.name} caught a rabbit!\")"
   ]
  },
  {
   "cell_type": "markdown",
   "id": "9f3c398f-2af1-48b8-b768-059a2d07e5c3",
   "metadata": {},
   "source": [
    "Creating an instance of the subclass with fully inherited attributes and methods."
   ]
  },
  {
   "cell_type": "code",
   "execution_count": 149,
   "id": "90259d8c-7ae0-4493-9526-e93d76a6d362",
   "metadata": {},
   "outputs": [],
   "source": [
    "hunter = Bloodhound(\"Hunter\", 9)"
   ]
  },
  {
   "cell_type": "code",
   "execution_count": 150,
   "id": "2e816fbe-b204-412f-b037-606f9f97af79",
   "metadata": {},
   "outputs": [
    {
     "data": {
      "text/plain": [
       "'big'"
      ]
     },
     "execution_count": 150,
     "metadata": {},
     "output_type": "execute_result"
    }
   ],
   "source": [
    "hunter.size"
   ]
  },
  {
   "cell_type": "code",
   "execution_count": 151,
   "id": "fcd23d94-b5f4-4a86-961f-aaa6f9479de4",
   "metadata": {},
   "outputs": [
    {
     "data": {
      "text/plain": [
       "9"
      ]
     },
     "execution_count": 151,
     "metadata": {},
     "output_type": "execute_result"
    }
   ],
   "source": [
    "hunter.age"
   ]
  },
  {
   "cell_type": "code",
   "execution_count": 152,
   "id": "f151e212-72af-46af-946e-493d392d394e",
   "metadata": {},
   "outputs": [
    {
     "data": {
      "text/plain": [
       "True"
      ]
     },
     "execution_count": 152,
     "metadata": {},
     "output_type": "execute_result"
    }
   ],
   "source": [
    "hunter.good_dog"
   ]
  },
  {
   "cell_type": "code",
   "execution_count": null,
   "id": "b20a2265-d626-4e26-ad8e-9c0e80b7ebc3",
   "metadata": {},
   "outputs": [],
   "source": [
    "hunter.hunt()"
   ]
  },
  {
   "cell_type": "code",
   "execution_count": null,
   "id": "30fac745-0777-42fe-bdf0-4586f87b3092",
   "metadata": {},
   "outputs": [],
   "source": [
    "hunter.speak(\"Bark\")"
   ]
  },
  {
   "cell_type": "markdown",
   "id": "12462e91-92f6-4284-a74a-27ef739cbbfb",
   "metadata": {},
   "source": [
    "### OOPD: Encapsulation"
   ]
  },
  {
   "cell_type": "code",
   "execution_count": 187,
   "id": "8a349bf0-4fb5-47ed-ae82-bcd9cabf23ef",
   "metadata": {},
   "outputs": [],
   "source": [
    "class Dog:\n",
    "    def __init__(self, name, age):\n",
    "        self.name = name\n",
    "        self.age = age\n",
    "        self.good_dog = True\n",
    "\n",
    "    def __repr__(self):\n",
    "        return f\"{self.name} is {self.age} years old!\"\n",
    "\n",
    "    def speak(self, expression=\"Woof\"):\n",
    "        return expression"
   ]
  },
  {
   "cell_type": "code",
   "execution_count": 190,
   "id": "fafad3b9-6212-4da8-9748-48702b4ecd33",
   "metadata": {},
   "outputs": [],
   "source": [
    "class Human:\n",
    "    def __init__(self, name):\n",
    "        self.name = name\n",
    "        self.dog = Dog(\"Benji\", 3)\n",
    "\n",
    "    def pet(self):\n",
    "        if self.dog.good_dog is True:\n",
    "            print(f\"{self.name}: 'What a good dog you are, {self.dog.name}!'\")\n",
    "            print(f\"{self.dog.name}: '{self.dog.speak()}! *happily wags tail*'\")"
   ]
  },
  {
   "cell_type": "code",
   "execution_count": 191,
   "id": "324d5677-a1f7-4a31-80a1-fccebde61965",
   "metadata": {},
   "outputs": [
    {
     "name": "stdout",
     "output_type": "stream",
     "text": [
      "Sakib: 'What a good dog you are, Benji!'\n",
      "Benji: 'Woof! *happily wags tail*'\n"
     ]
    }
   ],
   "source": [
    "sakib = Human(\"Sakib\")\n",
    "\n",
    "sakib.pet()"
   ]
  },
  {
   "cell_type": "markdown",
   "id": "0d9b0824-2e5b-4ce0-9901-d32014ab4a78",
   "metadata": {},
   "source": [
    "## Dunder (Magic) Methods"
   ]
  },
  {
   "cell_type": "markdown",
   "id": "36cb72d8-aefa-4c04-8754-70fee1693707",
   "metadata": {},
   "source": [
    "### `__init__()`, the Constructor"
   ]
  },
  {
   "cell_type": "code",
   "execution_count": 165,
   "id": "f0695130-8362-4576-82fc-5135bbff68b4",
   "metadata": {},
   "outputs": [],
   "source": [
    "class MyConstructedObject:\n",
    "    def __init__(self, name, favorite_languages):\n",
    "        self.name = name\n",
    "        self.favorite_languages = favorite_languages"
   ]
  },
  {
   "cell_type": "code",
   "execution_count": 166,
   "id": "b73bc2f2-b87b-40a9-85f1-50cfac3c00dd",
   "metadata": {},
   "outputs": [],
   "source": [
    "constructed_instance = MyConstructedObject(\"Kash\", [\"Python\", \"Lua\"])"
   ]
  },
  {
   "cell_type": "code",
   "execution_count": 167,
   "id": "ca310853-a2f4-43b3-b944-64325f11a35f",
   "metadata": {},
   "outputs": [
    {
     "data": {
      "text/plain": [
       "'Kash'"
      ]
     },
     "execution_count": 167,
     "metadata": {},
     "output_type": "execute_result"
    }
   ],
   "source": [
    "constructed_instance.name"
   ]
  },
  {
   "cell_type": "code",
   "execution_count": 168,
   "id": "f8a9d4d9-c0f1-4b0c-875e-e5494115c218",
   "metadata": {},
   "outputs": [
    {
     "data": {
      "text/plain": [
       "['Python', 'Lua']"
      ]
     },
     "execution_count": 168,
     "metadata": {},
     "output_type": "execute_result"
    }
   ],
   "source": [
    "constructed_instance.favorite_languages"
   ]
  },
  {
   "cell_type": "markdown",
   "id": "ba32003f-f54f-4ef5-bd08-d3d6754495b5",
   "metadata": {},
   "source": [
    "### `__repr__()`, the Representative"
   ]
  },
  {
   "cell_type": "code",
   "execution_count": 169,
   "id": "0df91630-2249-45dc-bdfd-a7c787b87742",
   "metadata": {},
   "outputs": [],
   "source": [
    "class MyRepresentationalObject:\n",
    "    def __repr__(self):\n",
    "        return \"I am an object. Fear me!\""
   ]
  },
  {
   "cell_type": "code",
   "execution_count": 170,
   "id": "eceaaad3-de30-4201-a3b9-69a9b975c1b7",
   "metadata": {},
   "outputs": [],
   "source": [
    "represented_instance = MyRepresentationalObject()"
   ]
  },
  {
   "cell_type": "code",
   "execution_count": 171,
   "id": "e4dc1bb6-e21a-4306-b7c5-5f987693ffe5",
   "metadata": {},
   "outputs": [
    {
     "data": {
      "text/plain": [
       "I am an object. Fear me!"
      ]
     },
     "execution_count": 171,
     "metadata": {},
     "output_type": "execute_result"
    }
   ],
   "source": [
    "represented_instance"
   ]
  },
  {
   "cell_type": "markdown",
   "id": "44de0ff8-34b5-4178-acd4-2b3b2216387d",
   "metadata": {},
   "source": [
    "### `__call__()`, the Functional Invoker"
   ]
  },
  {
   "cell_type": "code",
   "execution_count": 1,
   "id": "a1948c37-6d0f-4ac4-a809-56b530c88911",
   "metadata": {},
   "outputs": [],
   "source": [
    "class MyCallableObject:\n",
    "    def __call__(self):\n",
    "        print(\"I awaken, my leige. What is thy command?\")"
   ]
  },
  {
   "cell_type": "code",
   "execution_count": 2,
   "id": "fb1a6812-e765-46ff-8f3e-95a424294c9a",
   "metadata": {},
   "outputs": [],
   "source": [
    "callable_instance = MyCallableObject()"
   ]
  },
  {
   "cell_type": "code",
   "execution_count": 3,
   "id": "25e3d146-519f-4559-8961-b1158168295d",
   "metadata": {},
   "outputs": [
    {
     "name": "stdout",
     "output_type": "stream",
     "text": [
      "I awaken, my leige. What is thy command?\n"
     ]
    }
   ],
   "source": [
    "callable_instance()"
   ]
  },
  {
   "cell_type": "markdown",
   "id": "7ee8a3b8-d105-47d4-a94e-e8189c6fa6c2",
   "metadata": {},
   "source": [
    "## Properties and Advanced Object Attribution"
   ]
  },
  {
   "cell_type": "markdown",
   "id": "12abbae6-826f-4673-8395-b6c00378fbe4",
   "metadata": {},
   "source": [
    "### The `@property` Decorator"
   ]
  },
  {
   "cell_type": "code",
   "execution_count": 197,
   "id": "0373cd03-5b28-46d4-b9aa-28c6eb023835",
   "metadata": {},
   "outputs": [
    {
     "data": {
      "text/plain": [
       "\u001b[0;31mInit signature:\u001b[0m \u001b[0mproperty\u001b[0m\u001b[0;34m(\u001b[0m\u001b[0mfget\u001b[0m\u001b[0;34m=\u001b[0m\u001b[0;32mNone\u001b[0m\u001b[0;34m,\u001b[0m \u001b[0mfset\u001b[0m\u001b[0;34m=\u001b[0m\u001b[0;32mNone\u001b[0m\u001b[0;34m,\u001b[0m \u001b[0mfdel\u001b[0m\u001b[0;34m=\u001b[0m\u001b[0;32mNone\u001b[0m\u001b[0;34m,\u001b[0m \u001b[0mdoc\u001b[0m\u001b[0;34m=\u001b[0m\u001b[0;32mNone\u001b[0m\u001b[0;34m)\u001b[0m\u001b[0;34m\u001b[0m\u001b[0;34m\u001b[0m\u001b[0m\n",
       "\u001b[0;31mDocstring:\u001b[0m     \n",
       "Property attribute.\n",
       "\n",
       "  fget\n",
       "    function to be used for getting an attribute value\n",
       "  fset\n",
       "    function to be used for setting an attribute value\n",
       "  fdel\n",
       "    function to be used for del'ing an attribute\n",
       "  doc\n",
       "    docstring\n",
       "\n",
       "Typical use is to define a managed attribute x:\n",
       "\n",
       "class C(object):\n",
       "    def getx(self): return self._x\n",
       "    def setx(self, value): self._x = value\n",
       "    def delx(self): del self._x\n",
       "    x = property(getx, setx, delx, \"I'm the 'x' property.\")\n",
       "\n",
       "Decorators make defining new properties or modifying existing ones easy:\n",
       "\n",
       "class C(object):\n",
       "    @property\n",
       "    def x(self):\n",
       "        \"I am the 'x' property.\"\n",
       "        return self._x\n",
       "    @x.setter\n",
       "    def x(self, value):\n",
       "        self._x = value\n",
       "    @x.deleter\n",
       "    def x(self):\n",
       "        del self._x\n",
       "\u001b[0;31mType:\u001b[0m           type\n",
       "\u001b[0;31mSubclasses:\u001b[0m     abstractproperty"
      ]
     },
     "metadata": {},
     "output_type": "display_data"
    }
   ],
   "source": [
    "@property?"
   ]
  },
  {
   "cell_type": "markdown",
   "id": "7d496be3-c240-4c46-801d-c1f9664fbda7",
   "metadata": {},
   "source": [
    "### Getting Properties with `@property`"
   ]
  },
  {
   "cell_type": "code",
   "execution_count": 217,
   "id": "8fffaf2c-a072-47d2-80a5-04d68300d486",
   "metadata": {},
   "outputs": [],
   "source": [
    "class SliceOfPizza:\n",
    "    def __init__(self, price, ingredients):\n",
    "        self.price = price\n",
    "        self.ingredients = ingredients\n",
    "\n",
    "    @property\n",
    "    def price(self):\n",
    "        return self._price\n",
    "\n",
    "    @property\n",
    "    def ingredients(self):\n",
    "        return self._ingredients"
   ]
  },
  {
   "cell_type": "code",
   "execution_count": 218,
   "id": "6b651743-9968-4500-9588-b5d7fc2edf40",
   "metadata": {},
   "outputs": [],
   "source": [
    "cheese = SliceOfPizza(0.99, {\"pizza dough\", \"sauce\", \"cheese\"})"
   ]
  },
  {
   "cell_type": "code",
   "execution_count": 205,
   "id": "00f22ab9-a537-40ed-9cbe-7f81816019c3",
   "metadata": {},
   "outputs": [
    {
     "data": {
      "text/plain": [
       "0.99"
      ]
     },
     "execution_count": 205,
     "metadata": {},
     "output_type": "execute_result"
    }
   ],
   "source": [
    "cheese.price"
   ]
  },
  {
   "cell_type": "code",
   "execution_count": 206,
   "id": "4f664169-be1c-47b2-950c-6b4a5d9480fa",
   "metadata": {},
   "outputs": [
    {
     "ename": "AttributeError",
     "evalue": "property 'price' of 'SliceOfPizza' object has no setter",
     "output_type": "error",
     "traceback": [
      "\u001b[0;31m---------------------------------------------------------------------------\u001b[0m",
      "\u001b[0;31mAttributeError\u001b[0m                            Traceback (most recent call last)",
      "Cell \u001b[0;32mIn[206], line 1\u001b[0m\n\u001b[0;32m----> 1\u001b[0m \u001b[43mcheese\u001b[49m\u001b[38;5;241;43m.\u001b[39;49m\u001b[43mprice\u001b[49m \u001b[38;5;241m=\u001b[39m \u001b[38;5;241m1.99\u001b[39m\n",
      "\u001b[0;31mAttributeError\u001b[0m: property 'price' of 'SliceOfPizza' object has no setter"
     ]
    }
   ],
   "source": [
    "cheese.price = 1.99"
   ]
  },
  {
   "cell_type": "code",
   "execution_count": 207,
   "id": "0ce99b52-2454-4431-8e5e-1bd53c480c2d",
   "metadata": {},
   "outputs": [
    {
     "ename": "AttributeError",
     "evalue": "property 'price' of 'SliceOfPizza' object has no deleter",
     "output_type": "error",
     "traceback": [
      "\u001b[0;31m---------------------------------------------------------------------------\u001b[0m",
      "\u001b[0;31mAttributeError\u001b[0m                            Traceback (most recent call last)",
      "Cell \u001b[0;32mIn[207], line 1\u001b[0m\n\u001b[0;32m----> 1\u001b[0m \u001b[38;5;28;01mdel\u001b[39;00m \u001b[43mcheese\u001b[49m\u001b[38;5;241;43m.\u001b[39;49m\u001b[43mprice\u001b[49m\n",
      "\u001b[0;31mAttributeError\u001b[0m: property 'price' of 'SliceOfPizza' object has no deleter"
     ]
    }
   ],
   "source": [
    "del cheese.price"
   ]
  },
  {
   "cell_type": "markdown",
   "id": "6115dd5c-033b-4cc5-a5ab-0a107574ab68",
   "metadata": {},
   "source": [
    "### Setting Properties with `@{PROPERTY_NAME}.setter`"
   ]
  },
  {
   "cell_type": "code",
   "execution_count": 273,
   "id": "aa2230bd-9586-46fe-a20c-7152a0eda3cb",
   "metadata": {},
   "outputs": [],
   "source": [
    "class SliceOfPizza:\n",
    "    def __init__(self, price):\n",
    "        self.price = price\n",
    "\n",
    "    @property\n",
    "    def price(self):\n",
    "        return self._price\n",
    "\n",
    "    @price.setter\n",
    "    def price(self, new_price):\n",
    "        if new_price >= 0 and isinstance(new_price, float) and new_price < 10:\n",
    "            self._price = new_price\n",
    "        else:\n",
    "            print(\"Please enter a valid price.\")"
   ]
  },
  {
   "cell_type": "code",
   "execution_count": 274,
   "id": "87b0b290-e084-44f8-8807-0e539b8986a5",
   "metadata": {},
   "outputs": [],
   "source": [
    "pepperoni = SliceOfPizza(1.49)"
   ]
  },
  {
   "cell_type": "code",
   "execution_count": 275,
   "id": "32571dfd-9dd8-4bd3-b3b1-b0937249ff1a",
   "metadata": {},
   "outputs": [
    {
     "data": {
      "text/plain": [
       "1.49"
      ]
     },
     "execution_count": 275,
     "metadata": {},
     "output_type": "execute_result"
    }
   ],
   "source": [
    "pepperoni.price"
   ]
  },
  {
   "cell_type": "code",
   "execution_count": 276,
   "id": "6e0d1532-4d59-4718-baaa-7beedc304d75",
   "metadata": {},
   "outputs": [],
   "source": [
    "pepperoni.price = 1.79"
   ]
  },
  {
   "cell_type": "code",
   "execution_count": 277,
   "id": "b09e832e-2dbc-4bf3-ad22-9d433f658383",
   "metadata": {},
   "outputs": [
    {
     "data": {
      "text/plain": [
       "1.79"
      ]
     },
     "execution_count": 277,
     "metadata": {},
     "output_type": "execute_result"
    }
   ],
   "source": [
    "pepperoni.price"
   ]
  },
  {
   "cell_type": "code",
   "execution_count": 278,
   "id": "0142a92c-95b7-4126-8703-7aeb5b2f96cf",
   "metadata": {},
   "outputs": [
    {
     "name": "stdout",
     "output_type": "stream",
     "text": [
      "Please enter a valid price.\n"
     ]
    }
   ],
   "source": [
    "pepperoni.price = -0.79"
   ]
  },
  {
   "cell_type": "code",
   "execution_count": 279,
   "id": "b8e56b49-4b81-4f87-bbaa-f19a98321858",
   "metadata": {},
   "outputs": [
    {
     "name": "stdout",
     "output_type": "stream",
     "text": [
      "Please enter a valid price.\n"
     ]
    }
   ],
   "source": [
    "pepperoni.price = 18.99"
   ]
  },
  {
   "cell_type": "code",
   "execution_count": 280,
   "id": "8234576d-b326-4ac3-a273-8c0ba045c3c0",
   "metadata": {},
   "outputs": [
    {
     "ename": "AttributeError",
     "evalue": "property 'price' of 'SliceOfPizza' object has no deleter",
     "output_type": "error",
     "traceback": [
      "\u001b[0;31m---------------------------------------------------------------------------\u001b[0m",
      "\u001b[0;31mAttributeError\u001b[0m                            Traceback (most recent call last)",
      "Cell \u001b[0;32mIn[280], line 1\u001b[0m\n\u001b[0;32m----> 1\u001b[0m \u001b[38;5;28;01mdel\u001b[39;00m \u001b[43mpepperoni\u001b[49m\u001b[38;5;241;43m.\u001b[39;49m\u001b[43mprice\u001b[49m\n",
      "\u001b[0;31mAttributeError\u001b[0m: property 'price' of 'SliceOfPizza' object has no deleter"
     ]
    }
   ],
   "source": [
    "del pepperoni.price"
   ]
  },
  {
   "cell_type": "markdown",
   "id": "36a20deb-0447-47ed-afb2-cb08782378bd",
   "metadata": {},
   "source": [
    "### Deleting Properties with `@{PROPERTY_NAME}.deleter`"
   ]
  },
  {
   "cell_type": "code",
   "execution_count": 265,
   "id": "817755c3-ee52-4f76-a735-fae28023ab77",
   "metadata": {},
   "outputs": [],
   "source": [
    "class SliceOfPizza:\n",
    "    def __init__(self, price):\n",
    "        self.price = price\n",
    "\n",
    "    @property\n",
    "    def price(self):\n",
    "        return self._price\n",
    "\n",
    "    @price.setter\n",
    "    def price(self, new_price):\n",
    "        if new_price >= 0 and isinstance(new_price, float):\n",
    "            self._price = new_price\n",
    "        else:\n",
    "            print(\"Please enter a valid price.\")\n",
    "\n",
    "    @price.deleter\n",
    "    def price(self):\n",
    "        del self._price\n",
    "        print(\"Property `price` has been deleted.\")"
   ]
  },
  {
   "cell_type": "code",
   "execution_count": 266,
   "id": "9c66dade-1ebc-4755-be4b-60af7d76906b",
   "metadata": {},
   "outputs": [],
   "source": [
    "sicilian = SliceOfPizza(1.39)"
   ]
  },
  {
   "cell_type": "code",
   "execution_count": 272,
   "id": "cc9caba3-cb9f-4ab9-91d1-c5af63854c06",
   "metadata": {},
   "outputs": [
    {
     "ename": "AttributeError",
     "evalue": "'SliceOfPizza' object has no attribute '_price'",
     "output_type": "error",
     "traceback": [
      "\u001b[0;31m---------------------------------------------------------------------------\u001b[0m",
      "\u001b[0;31mAttributeError\u001b[0m                            Traceback (most recent call last)",
      "Cell \u001b[0;32mIn[272], line 1\u001b[0m\n\u001b[0;32m----> 1\u001b[0m \u001b[43msicilian\u001b[49m\u001b[38;5;241;43m.\u001b[39;49m\u001b[43mprice\u001b[49m\n",
      "Cell \u001b[0;32mIn[265], line 8\u001b[0m, in \u001b[0;36mSliceOfPizza.price\u001b[0;34m(self)\u001b[0m\n\u001b[1;32m      6\u001b[0m \u001b[38;5;129m@property\u001b[39m\n\u001b[1;32m      7\u001b[0m \u001b[38;5;28;01mdef\u001b[39;00m \u001b[38;5;21mprice\u001b[39m(\u001b[38;5;28mself\u001b[39m):\n\u001b[0;32m----> 8\u001b[0m     \u001b[38;5;28;01mreturn\u001b[39;00m \u001b[38;5;28;43mself\u001b[39;49m\u001b[38;5;241;43m.\u001b[39;49m\u001b[43m_price\u001b[49m\n",
      "\u001b[0;31mAttributeError\u001b[0m: 'SliceOfPizza' object has no attribute '_price'"
     ]
    }
   ],
   "source": [
    "sicilian.price"
   ]
  },
  {
   "cell_type": "code",
   "execution_count": 271,
   "id": "5b228a9d-b9de-4a7f-a73b-9ac310a0eb46",
   "metadata": {},
   "outputs": [
    {
     "name": "stdout",
     "output_type": "stream",
     "text": [
      "Please enter a valid price.\n"
     ]
    }
   ],
   "source": [
    "sicilian.price = 1.29"
   ]
  },
  {
   "cell_type": "code",
   "execution_count": 254,
   "id": "5a5f7b3d-b2b6-4877-8d64-d591ed51574a",
   "metadata": {},
   "outputs": [
    {
     "name": "stdout",
     "output_type": "stream",
     "text": [
      "Please enter a valid price.\n"
     ]
    }
   ],
   "source": [
    "sicilian.price = -0.49"
   ]
  },
  {
   "cell_type": "code",
   "execution_count": 270,
   "id": "683bdc49-857c-491d-81bc-447867049a94",
   "metadata": {},
   "outputs": [
    {
     "name": "stdout",
     "output_type": "stream",
     "text": [
      "Property `price` has been deleted.\n"
     ]
    }
   ],
   "source": [
    "del sicilian.price"
   ]
  },
  {
   "cell_type": "markdown",
   "id": "438e3f39-2641-4696-ad6c-d9c793e71d5b",
   "metadata": {},
   "source": [
    "## Object Interactivity and Management"
   ]
  },
  {
   "cell_type": "markdown",
   "id": "3feaa8d6-fbac-4c6b-90f6-7ec3a15008cc",
   "metadata": {},
   "source": [
    "### Scoping and Handling Multiple Objects"
   ]
  },
  {
   "cell_type": "markdown",
   "id": "e3beb98c-2738-4ebc-b56e-4994914e3a7f",
   "metadata": {},
   "source": [
    "Pizzeria!"
   ]
  },
  {
   "cell_type": "markdown",
   "id": "67444fce-e940-4b7b-ae54-847f3104991d",
   "metadata": {},
   "source": [
    "---\n",
    "---\n",
    "---"
   ]
  }
 ],
 "metadata": {
  "kernelspec": {
   "display_name": "Python 3 (ipykernel)",
   "language": "python",
   "name": "python3"
  },
  "language_info": {
   "codemirror_mode": {
    "name": "ipython",
    "version": 3
   },
   "file_extension": ".py",
   "mimetype": "text/x-python",
   "name": "python",
   "nbconvert_exporter": "python",
   "pygments_lexer": "ipython3",
   "version": "3.8.13"
  }
 },
 "nbformat": 4,
 "nbformat_minor": 5
}

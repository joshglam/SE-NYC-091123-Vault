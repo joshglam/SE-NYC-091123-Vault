{
 "cells": [
  {
   "cell_type": "markdown",
   "id": "27385ba5-0171-449f-a304-2898451f4674",
   "metadata": {},
   "source": [
    "Iterable means something that can be changed like a list or string or anything that can be iteratedb"
   ]
  },
  {
   "cell_type": "markdown",
   "id": "a52ecc59-a790-4c02-8ee4-40da9684c278",
   "metadata": {},
   "source": [
    "# Iterator \n",
    "is a magic function that is like applying turbo charge to an iterable\n",
    "it will make the list faster by changing how its stored. which makes it faster to loop through and \n",
    "        \n",
    "Iterator grabs a iterable and makes a copy of it. This allows you to make changes to this copy without having it stored in memory\n",
    "\n",
    "remember the example of the orchard. it's like grabbing the apples and then destroyin them without putting them in your bag."
   ]
  },
  {
   "cell_type": "raw",
   "id": "197f05e9-38c5-4717-bf23-4a959baaf2d7",
   "metadata": {},
   "source": [
    "Iterator grabs a iterable and makes a copy of it. This allows you to make changes to this copy without having it stored in memory\n",
    "\n",
    "remember the example of the orchard. it's like grabbing the apples and then destroyin them without putting them in your bag."
   ]
  },
  {
   "cell_type": "markdown",
   "id": "d6e5927e-d897-428f-ad5d-763d088dcc10",
   "metadata": {},
   "source": [
    "# Generators\n",
    "\n",
    "this will replace the need for creating a list and appending all of the information in their to allow you to play with it.\n",
    "\n",
    "yield - its the physical process of grabbing the apple in the tree and throwing it into the ether.\n",
    "\n",
    "    yield doesn't have a return so it doesnt end the execution. Instead it constructs a generator that allows you to pick that apple until your done with the list. What is being returned is an item that is like an iterator\n",
    "\n",
    "the difference between this and iter, is the fact that the list wasnt created to begin with. Iter is used on an existin list\n",
    "\n",
    "Generator will be as if I told kash, when you go to the orchard grab the apple and then throw it.\n",
    "Iter will be as if I was with kash at the orchard and said grab the apple and then throw it."
   ]
  },
  {
   "cell_type": "markdown",
   "id": "94a1b3e1-8b64-4716-b4ba-96e58fa43cde",
   "metadata": {},
   "source": [
    "# File-Manipulation\n",
    "\n",
    "-Open\n",
    "this will allow you to open a file, if there isnt a file it will create one for you.\n",
    "\n",
    "-Read/Write\n",
    "there's many syntax letters that show different information. We covererd \"r\" which makes it read only. and \"w\" which allows you to write\n",
    "\n",
    "-Close\n",
    "when you write stuff on an open file, it wont be updated or saved until it is closed. It's like having a promise waiting for it to finish.\n",
    "\n",
    "\n",
    "\n"
   ]
  },
  {
   "cell_type": "markdown",
   "id": "3cdb6fb9-01d2-42e6-bd5f-a980c74c6c1c",
   "metadata": {
    "jp-MarkdownHeadingCollapsed": true
   },
   "source": [
    "# Try Except Finally\n",
    "\n",
    "-Try\n",
    "this will run almost like an if statement but wont crash if there's no match\n",
    "-Except\n",
    "this will happen if the event happens similar to an else: or value error however it wont crash the code\n",
    "-Finally\n",
    "this will wrap the code up and close out\n",
    "\n",
    "-With\n",
    "this allows you to open a file make some changes(write/read/...) and then close it. It's justs faster than the above alternative."
   ]
  },
  {
   "cell_type": "markdown",
   "id": "6ee11047-6c96-4b0f-8d26-ef9a9e8b60ad",
   "metadata": {},
   "source": [
    "# lambda\n",
    "\n",
    "Use when we want to work with higher order functions like map or filter. Since we'll be taking an operation and applying it to some data.\n",
    "\n",
    "##higher-order functions\n",
    "\n",
    "they generally accept arguements as functions. an example would be map or sorted. You can enter the function in as an argument using the key= syntax. You can hit help to get that. You can use the lambda when you don't plan on using the function again.\n",
    "\n",
    "kash made a light comparison of lambda's to javascript onclick functions. they only get called when they're needed, thats why some people don't like to create a full function since it wont be reused elsewhere"
   ]
  },
  {
   "cell_type": "markdown",
   "id": "44f9f2fa-6716-497c-99d7-01c66f015503",
   "metadata": {},
   "source": [
    "# Quality Assurance\n",
    "\n",
    "## assert\n",
    "\n",
    "value = 1\n",
    "\n",
    "assert value == 2, f\"Test failed | Expected 2, Got: {value}"
   ]
  },
  {
   "cell_type": "markdown",
   "id": "6bea2dd9-db99-457d-a308-d0beeb2f1e85",
   "metadata": {},
   "source": [
    "# 04 Intro to OOP\n",
    "\n",
    "## Object\n",
    "\n",
    "high level concept of storing data and functionality. Objects are built into python. \n",
    "\n",
    "## Class\n",
    "\n",
    "this is a blueprint of code, whenever you see class think blueprint. Its the \"recipe\" but we havent cooked yet.\n",
    "when you name it, you want to be specific but not too specific. Also use pasquel case.\n",
    "\n"
   ]
  },
  {
   "cell_type": "markdown",
   "id": "e405b736-a780-439b-a012-ac4e810092c1",
   "metadata": {},
   "source": [
    "# Exploring OOPD Day 4\n",
    "\n",
    "## Terms\n",
    "\n",
    "\"baking A PIE\"\n",
    "\n",
    "### Abstraction \n",
    "\n",
    "Hiding unescessary code from the users. Think about the code that checks the banking information for their page. You don't want people to be able to access passwords in react. Sometimes its easier to put the code into the \"dog\" away from the owner. In building a game you wont see the code that sets the frame rate. you want the code to handle it in abstraction. If we build and abstract the righ way we can build it once and never have to build it again. It's similar to react in that reusibility way.\n",
    "\n",
    "### Polymorphism\n",
    "\n",
    "Often thought as the most confusing but its actually pretty simple. Poly = many morph = forms. a concept that a class or object can have many forms using inheritance or overriding. The way that works usually involves inheritance.\n",
    "\n",
    "\n",
    "### Inheritance\n",
    "\n",
    "inherting or reusing code by allowing some classes to passs down code to other code. For example, let me create a Dog class.\n",
    "But maybe i want a bloodhound class. I want it to inherit the things about the Dog class but there are other properties that are specific to other types of dogs. for example bloodhounds are big but a chihuahua isnt. So the subclass bloodhound can have the attribute self.size = \"big\" which isnt on the Dog class.\n",
    "\n",
    "!!!! By default it only passes down methods !!!!\n",
    "\n",
    "to pass down you'll need to use\n",
    "super().__init__(name, age)\n",
    "\n",
    "super()goes to all of the parents of all time\n",
    ".__init__ pulls all of the initializers\n",
    "(name,age) or only required if there isn't defualts at the parent levels\n",
    "\n",
    "\n",
    "### Encapsulation\n",
    "\n",
    "The idea of \"where does this go?\". If I'm eating my cake, do i call cake.eat? probably not, i would call human.eat.cake. this makes a litlle more sense.\n",
    "\n",
    "\n",
    "# Dunder(magic) Methods\n",
    "\n",
    "## _ _ repr _ _ ()\n",
    "\n",
    "\n",
    "it is the representative, it's one of the three most commonly used dunder methods or magic methods. This is what will be shown when the class is called.\n",
    "\n",
    "this will make sure we dont see the weird return with the memory address\n",
    "\n",
    "## _ _ call _ _ ()\n",
    "\n",
    "it treats an object like a function. if i overwrite its call method it will run this function when you call it. We dont normally use it. This would be useful in a game so that its constantly calling a method as the screen updates. It's a really fast way of calling method from an object. say for example youre in a game and the player moves fwd. you would want the method for rendering to be a call to be extremely fast.\n",
    "\n",
    "# Properties and Advanced object attribution\n",
    "\n",
    "@property "
   ]
  },
  {
   "cell_type": "code",
   "execution_count": 1,
   "id": "2791ccce-bf28-4e67-b7f6-ea947adf293d",
   "metadata": {
    "scrolled": true
   },
   "outputs": [
    {
     "data": {
      "text/plain": [
       "\u001b[0;31mInit signature:\u001b[0m \u001b[0mproperty\u001b[0m\u001b[0;34m(\u001b[0m\u001b[0mfget\u001b[0m\u001b[0;34m=\u001b[0m\u001b[0;32mNone\u001b[0m\u001b[0;34m,\u001b[0m \u001b[0mfset\u001b[0m\u001b[0;34m=\u001b[0m\u001b[0;32mNone\u001b[0m\u001b[0;34m,\u001b[0m \u001b[0mfdel\u001b[0m\u001b[0;34m=\u001b[0m\u001b[0;32mNone\u001b[0m\u001b[0;34m,\u001b[0m \u001b[0mdoc\u001b[0m\u001b[0;34m=\u001b[0m\u001b[0;32mNone\u001b[0m\u001b[0;34m)\u001b[0m\u001b[0;34m\u001b[0m\u001b[0;34m\u001b[0m\u001b[0m\n",
       "\u001b[0;31mDocstring:\u001b[0m     \n",
       "Property attribute.\n",
       "\n",
       "  fget\n",
       "    function to be used for getting an attribute value\n",
       "  fset\n",
       "    function to be used for setting an attribute value\n",
       "  fdel\n",
       "    function to be used for del'ing an attribute\n",
       "  doc\n",
       "    docstring\n",
       "\n",
       "Typical use is to define a managed attribute x:\n",
       "\n",
       "class C(object):\n",
       "    def getx(self): return self._x\n",
       "    def setx(self, value): self._x = value\n",
       "    def delx(self): del self._x\n",
       "    x = property(getx, setx, delx, \"I'm the 'x' property.\")\n",
       "\n",
       "Decorators make defining new properties or modifying existing ones easy:\n",
       "\n",
       "class C(object):\n",
       "    @property\n",
       "    def x(self):\n",
       "        \"I am the 'x' property.\"\n",
       "        return self._x\n",
       "    @x.setter\n",
       "    def x(self, value):\n",
       "        self._x = value\n",
       "    @x.deleter\n",
       "    def x(self):\n",
       "        del self._x\n",
       "\u001b[0;31mType:\u001b[0m           type\n",
       "\u001b[0;31mSubclasses:\u001b[0m     abstractproperty"
      ]
     },
     "metadata": {},
     "output_type": "display_data"
    }
   ],
   "source": [
    "@property?"
   ]
  },
  {
   "cell_type": "markdown",
   "id": "341e958c-aec0-48d7-8f00-6e2f3013892e",
   "metadata": {},
   "source": [
    "All we need to know now is, when you see @ think decorator.\n",
    "\n",
    "this is a reserved keyword, property means something to python. we can never use property as a variable.\n",
    "\n",
    "the @ is hugging whatever you put under it in extra instructions.\n",
    "\n",
    "conceptually\n",
    "\n",
    "@burger_buns\n",
    "def burger_patty():\n",
    "    return tasty_food\n",
    "\n",
    "is like\n",
    "\n",
    "burger_buns(\n",
    "    burger patty()\n",
    "    )\n",
    "\n",
    "this is important because every script in flask uses decorators.\n",
    "\n",
    "THE Most FRUSTRATING PART is the _ in properties and where to put them.\n",
    "\n",
    "class SliceOfPizza:\n",
    "    def _ _ init _ _(self, price)\n",
    "        self._price = price\n",
    "\n",
    "    @property\n",
    "    def price(self):\n",
    "        return self._price\n",
    "\n",
    "in this case the _ is actually telling python that the attribute self._price is private. It's a way that python recognizes that we're going to do some behavior that restricts it somehow\n",
    "\n",
    "If you use @property you need to let the original method know about it\n",
    "\n",
    "## @attribute.setter\n",
    "\n",
    "this will creat a prperty for setting it and you can add logic to make sure it passes through\n",
    "\n",
    "## @attribute.deleter\n",
    "\n",
    "then you'll put logic in to delete price\n",
    "\n",
    "@price.deleter\n",
    "def price(self):\n",
    "    del self._price\n",
    "\n",
    "\n",
    "!! Using properties is using a different way of catching and sharing the information. The initiator is actually a completely different variable and the decorators work to be on the front end.\n"
   ]
  },
  {
   "cell_type": "markdown",
   "id": "309b0cc8-310c-4231-bf0c-d77e1d855c28",
   "metadata": {},
   "source": [
    "# Day 5 Mock ccod echallenge review pizzeria\n",
    "\n",
    "OOP - object oriented programing\n",
    "\n",
    "DBMS - Data base management systems\n",
    "\n",
    "P3 talks about objects and how to build them\n",
    "\n",
    "P4 goes into models where we'll use objects\n",
    "\n",
    "## One-to-one\n",
    "\n",
    "one object is associated with one object\n",
    "example: a user and a vault\n",
    "the bank limits you to only having one vault. therefore you can only have one vault and there is only one user\n",
    "\n",
    "\n",
    "## One-to-many\n",
    "\n",
    "one object associated with many is like the human and dog\n",
    "a human can have multiple dogs but in that example the dog couldn't have more than one human\n",
    "\n",
    "\n",
    "## Many-to many\n",
    "\n",
    "imagine a scenario of 5 bakers and 3 ovens. Bakers can use and own multiple ovens at one point and ovens can own multiple bakers at one point\n",
    "\n",
    "### Associator Object\n",
    "\n",
    "It's the bridge between two items, so it'll be a little weirder to build. This will follow different design patterns both here and in flask. Sometimes called an emergent object"
   ]
  },
  {
   "cell_type": "code",
   "execution_count": 5,
   "id": "ea381958-5228-44f3-8fba-6cc1229cc4f1",
   "metadata": {},
   "outputs": [],
   "source": [
    "class Dog:\n",
    "    def __init__(self, important, not_important):\n",
    "        self.important = important\n",
    "        self.not_important = not_important\n",
    "\n",
    "    @property\n",
    "    def important(self):\n",
    "        return self._important\n",
    "\n",
    "    @important.setter\n",
    "    def important(self, important):\n",
    "        if 0 <= len(important) <= 20:\n",
    "            self._important = important\n",
    "        else:\n",
    "            raise ValueError(\"You messed up\")"
   ]
  },
  {
   "cell_type": "code",
   "execution_count": 6,
   "id": "ec82d005-d3fb-4d93-96f5-7b344ba15200",
   "metadata": {},
   "outputs": [],
   "source": [
    "josh = Dog(\"imp\", \"notimp\")"
   ]
  },
  {
   "cell_type": "code",
   "execution_count": 7,
   "id": "16db0625-7d02-40a2-b5e0-02da1ff93e52",
   "metadata": {},
   "outputs": [],
   "source": [
    "josh.important = \"uhoh\""
   ]
  },
  {
   "cell_type": "code",
   "execution_count": 8,
   "id": "876d06fc-d8f2-4ce8-9f8a-de305f390ff8",
   "metadata": {},
   "outputs": [
    {
     "data": {
      "text/plain": [
       "'uhoh'"
      ]
     },
     "execution_count": 8,
     "metadata": {},
     "output_type": "execute_result"
    }
   ],
   "source": [
    "josh.important"
   ]
  },
  {
   "cell_type": "code",
   "execution_count": null,
   "id": "043f7a76-30b5-4e24-984a-951892123b35",
   "metadata": {},
   "outputs": [],
   "source": []
  }
 ],
 "metadata": {
  "kernelspec": {
   "display_name": "Python 3 (ipykernel)",
   "language": "python",
   "name": "python3"
  },
  "language_info": {
   "codemirror_mode": {
    "name": "ipython",
    "version": 3
   },
   "file_extension": ".py",
   "mimetype": "text/x-python",
   "name": "python",
   "nbconvert_exporter": "python",
   "pygments_lexer": "ipython3",
   "version": "3.8.13"
  }
 },
 "nbformat": 4,
 "nbformat_minor": 5
}

{
 "cells": [
  {
   "cell_type": "markdown",
   "id": "2eaea13d-5fc4-4642-8ef0-da061d4f6d3a",
   "metadata": {},
   "source": [
    "---\n",
    "---\n",
    "---"
   ]
  },
  {
   "cell_type": "markdown",
   "id": "93e001ab-cae5-4752-bb98-bf62ad88ea2c",
   "metadata": {},
   "source": [
    "# Introduction to Object-Oriented Programming"
   ]
  },
  {
   "cell_type": "markdown",
   "id": "0aba3cae-50c6-4271-b8c2-a41c439b6db4",
   "metadata": {},
   "source": [
    "|Term                           | Definition\n",
    "|-------------------------------|-----------------------------|\n",
    "|**Object**                     | A powerful and higher-order data structure that can **contextually store data and functionality** to handle that data. |\n",
    "|**Class**                      | A type of **blueprint** by which to construct objects. |\n",
    "|**Instance**                   | A **physically created copy of an object**, created from \"instantiating\" a class. |\n",
    "|**Attribute**                  | A **special type of variable** owned by a class or object. |\n",
    "|**Method**                     | A **special type of function** owned by a class or object. |\n",
    "|**`self`**                     | A Python **keyword that refers to an instance** of an object; `self` is generally used to instruct classes on how to work with its attributes and methods. |\n",
    "|**`__init__()`**               | A unique object method called a **constructor** that – when an object instance is created – is automatically executed; commonly used to **set up an object's attributes** and even its methods. |"
   ]
  },
  {
   "cell_type": "markdown",
   "id": "091f53e4-f23c-4b62-a8b9-8b46dfcf7a7e",
   "metadata": {},
   "source": [
    "## Introducing Objects"
   ]
  },
  {
   "cell_type": "markdown",
   "id": "749e6c10-c224-4b54-b694-50c58d4e8584",
   "metadata": {},
   "source": [
    "## Classes and Instances"
   ]
  },
  {
   "cell_type": "markdown",
   "id": "59c3aa7d-06c1-4e5a-b998-d0ca74507170",
   "metadata": {},
   "source": [
    "**Understanding Objects.**"
   ]
  },
  {
   "cell_type": "code",
   "execution_count": null,
   "id": "719b364b-eaee-4a00-b41f-cfb0ee0560c4",
   "metadata": {},
   "outputs": [],
   "source": [
    "object()"
   ]
  },
  {
   "cell_type": "code",
   "execution_count": null,
   "id": "ab72abb0-6bb6-43c8-936b-b8ccafe13c3b",
   "metadata": {},
   "outputs": [],
   "source": [
    "object?"
   ]
  },
  {
   "cell_type": "markdown",
   "id": "c6038368-a19c-4f5a-a691-807b39a2bcbe",
   "metadata": {},
   "source": [
    "**Understanding Classes.**"
   ]
  },
  {
   "cell_type": "code",
   "execution_count": null,
   "id": "6dff4ee6-054f-417d-b65b-5bfbbb392ad3",
   "metadata": {},
   "outputs": [],
   "source": [
    "class BakedGood:\n",
    "    \"\"\" This is my class for defining baked good objects. \"\"\"\n",
    "    pass"
   ]
  },
  {
   "cell_type": "code",
   "execution_count": null,
   "id": "95cbb466-0e68-44fc-9aff-51d8d7ff7619",
   "metadata": {},
   "outputs": [],
   "source": [
    "BakedGood"
   ]
  },
  {
   "cell_type": "code",
   "execution_count": null,
   "id": "516ea3d1-c3a4-405f-92d9-bbdbc57c6edb",
   "metadata": {},
   "outputs": [],
   "source": [
    "BakedGood()"
   ]
  },
  {
   "cell_type": "code",
   "execution_count": null,
   "id": "fd1f409a-21bb-4334-bf24-c74bd1cefad6",
   "metadata": {},
   "outputs": [],
   "source": [
    "BakedGood?"
   ]
  },
  {
   "cell_type": "markdown",
   "id": "a42c0daf-f9cf-47ae-9d09-661b7355cbde",
   "metadata": {},
   "source": [
    "**Understanding Object Instances.**"
   ]
  },
  {
   "cell_type": "code",
   "execution_count": null,
   "id": "a772dff9-e341-4e1f-a0d8-c12671428799",
   "metadata": {},
   "outputs": [],
   "source": [
    "sweet_roll = BakedGood()\n",
    "cookie = BakedGood()\n",
    "cake = BakedGood()"
   ]
  },
  {
   "cell_type": "code",
   "execution_count": null,
   "id": "6ac0290d-4f0e-4b9a-986c-6b3b55a34db7",
   "metadata": {},
   "outputs": [],
   "source": [
    "sweet_roll"
   ]
  },
  {
   "cell_type": "code",
   "execution_count": null,
   "id": "6dcadc0d-769e-4a1a-8837-93853abab240",
   "metadata": {},
   "outputs": [],
   "source": [
    "type(sweet_roll)"
   ]
  },
  {
   "cell_type": "code",
   "execution_count": null,
   "id": "f70da198-ef91-471e-bb95-7a58a8254572",
   "metadata": {},
   "outputs": [],
   "source": [
    "sweet_roll?"
   ]
  },
  {
   "cell_type": "markdown",
   "id": "64db1849-5196-4978-b7f1-939deb88327f",
   "metadata": {},
   "source": [
    "## Being More `self` Aware"
   ]
  },
  {
   "cell_type": "markdown",
   "id": "a1d71315-46e7-4b56-a4bc-9ab392bd7b99",
   "metadata": {},
   "source": [
    "### `__init__()`, the Constructor"
   ]
  },
  {
   "cell_type": "code",
   "execution_count": null,
   "id": "e4f69c34-e4b0-4622-a9d7-fdf1eda363ee",
   "metadata": {},
   "outputs": [],
   "source": [
    "class BakedGood:\n",
    "    \"\"\" Class used to instantiate baked goods (like cakes). \"\"\"\n",
    "    def __init__(self):\n",
    "        # This method sets up our instance of BakedGood\n",
    "        self.ingredients = []"
   ]
  },
  {
   "cell_type": "markdown",
   "id": "0aec2b00-5f98-40e7-9ef3-33f19908860f",
   "metadata": {},
   "source": [
    "### Instance Attributes"
   ]
  },
  {
   "cell_type": "markdown",
   "id": "9a74736c-8e7b-43d5-918c-3ba7361373af",
   "metadata": {},
   "source": [
    "Defining a class with hardcoded object attributes."
   ]
  },
  {
   "cell_type": "code",
   "execution_count": null,
   "id": "e58aa56c-02af-4f91-8419-5e5595082804",
   "metadata": {},
   "outputs": [],
   "source": [
    "class BakedGood:\n",
    "    def __init__(self):\n",
    "        self.servings = 8\n",
    "        self.has_chocolate = True"
   ]
  },
  {
   "cell_type": "code",
   "execution_count": null,
   "id": "bc4d33ad-f74f-408a-a347-1894fb54011d",
   "metadata": {},
   "outputs": [],
   "source": [
    "donut = BakedGood() # BakedGood.__init__()"
   ]
  },
  {
   "cell_type": "code",
   "execution_count": null,
   "id": "8cce7dd9-a975-43cf-be2e-5699178ea6a0",
   "metadata": {},
   "outputs": [],
   "source": [
    "BakedGood.servings"
   ]
  },
  {
   "cell_type": "code",
   "execution_count": null,
   "id": "035dab31-bb21-4651-b976-8eaa3bb8d6dd",
   "metadata": {},
   "outputs": [],
   "source": [
    "donut.servings"
   ]
  },
  {
   "cell_type": "code",
   "execution_count": null,
   "id": "8501ea40-a926-40af-be57-f0560ddd4cec",
   "metadata": {},
   "outputs": [],
   "source": [
    "donut.has_chocolate"
   ]
  },
  {
   "cell_type": "markdown",
   "id": "5c4b5d39-b108-4a2a-ae25-1a42799a6e5f",
   "metadata": {},
   "source": [
    "Defining a class with initializable parameters for object attributes."
   ]
  },
  {
   "cell_type": "code",
   "execution_count": null,
   "id": "a79d3ccc-d951-42ad-b964-2f2bbcaf1bbb",
   "metadata": {},
   "outputs": [],
   "source": [
    "class BakedGood:\n",
    "    def __init__(self, name, has_chocolate, size=\"big\", servings=1, is_cake=False):\n",
    "        self.name = name\n",
    "        self.servings = servings\n",
    "        self.has_chocolate = has_chocolate\n",
    "        self.size = size\n",
    "        self.is_cake = is_cake"
   ]
  },
  {
   "cell_type": "markdown",
   "id": "42f57965-fe2c-4e3a-aa56-8bc472c917c7",
   "metadata": {},
   "source": [
    "Leaning on default arguments for object instantiation."
   ]
  },
  {
   "cell_type": "markdown",
   "id": "e56e7c6f-7fad-4312-a99a-59ab2e686196",
   "metadata": {},
   "source": [
    "**Variable** -> **Parameter** -> **Attribute**"
   ]
  },
  {
   "cell_type": "code",
   "execution_count": null,
   "id": "6537d9ab-152b-406c-97bc-507163e87320",
   "metadata": {},
   "outputs": [],
   "source": [
    "name = \"Chocolate Donut\"\n",
    "\n",
    "donut_instance_chocolate = BakedGood(name=name, has_chocolate=True)"
   ]
  },
  {
   "cell_type": "code",
   "execution_count": null,
   "id": "dfeac2a9-5f73-4d5b-8bce-63307350a41f",
   "metadata": {},
   "outputs": [],
   "source": [
    "donut_instance_chocolate.name"
   ]
  },
  {
   "cell_type": "code",
   "execution_count": null,
   "id": "0a5e7370-5cdc-484a-9da8-fadc77a95450",
   "metadata": {},
   "outputs": [],
   "source": [
    "donut_instance_chocolate.has_chocolate"
   ]
  },
  {
   "cell_type": "code",
   "execution_count": null,
   "id": "ab6f4d92-5184-41b6-8f9e-23c856e80bff",
   "metadata": {},
   "outputs": [],
   "source": [
    "orders = [\"Chocolate Donut\", \"Vanilla Donut\", \"Strawberry Donut\"]"
   ]
  },
  {
   "cell_type": "code",
   "execution_count": null,
   "id": "d307e903-5a65-4fd1-aaa8-fdb28b37748f",
   "metadata": {},
   "outputs": [],
   "source": [
    "list_of_baked_goods = []\n",
    "\n",
    "for order in orders:\n",
    "    completed_order = BakedGood(name=order)\n",
    "    list_of_baked_goods.append(completed_order)"
   ]
  },
  {
   "cell_type": "code",
   "execution_count": null,
   "id": "d22669a9-ca44-4823-8029-922ba4e35cbe",
   "metadata": {},
   "outputs": [],
   "source": [
    "for my_baked_good in list_of_baked_goods:\n",
    "    print(my_baked_good.name)"
   ]
  },
  {
   "cell_type": "code",
   "execution_count": null,
   "id": "0d9eccd3-59dc-4375-b2b9-d3e3e3934220",
   "metadata": {},
   "outputs": [],
   "source": [
    "my_baked_good.name"
   ]
  },
  {
   "cell_type": "code",
   "execution_count": null,
   "id": "30fc88d1-ffaf-4610-80a1-c0ec87b2439b",
   "metadata": {},
   "outputs": [],
   "source": [
    "order = input(\"What's your order?\\n\\t>> \")\n",
    "\n",
    "completed_order = BakedGood(name=order)\n",
    "\n",
    "print(f\"Here's your order!\\n\\nYou ordered a {completed_order.name}. It serves {completed_order.servings} people.\")"
   ]
  },
  {
   "cell_type": "code",
   "execution_count": null,
   "id": "dff19634-6d2f-480f-8365-85ba74914611",
   "metadata": {},
   "outputs": [],
   "source": [
    "order = input(\"What's your order?\\n\\t>> \")\n",
    "\n",
    "if \"Chocolate\" in order:\n",
    "    completed_order = BakedGood(name=order, has_chocolate=True)\n",
    "    print(f\"Here's your order!\\n\\nYou ordered a {completed_order.name}. It serves {completed_order.servings} people and has chocolate.\")\n",
    "else:\n",
    "    completed_order = BakedGood(name=order)\n",
    "    print(f\"Here's your order!\\n\\nYou ordered a {completed_order.name}. It serves {completed_order.servings} people and does not have any chocolate.\")"
   ]
  },
  {
   "cell_type": "code",
   "execution_count": null,
   "id": "e883487c-579f-4eb2-aea3-1c566305028b",
   "metadata": {},
   "outputs": [],
   "source": [
    "two_chocolate_donuts = BakedGood(name=\"Donut\", \n",
    "                                 size=\"big\")"
   ]
  },
  {
   "cell_type": "code",
   "execution_count": null,
   "id": "1e78e577-038c-4240-94a4-112ce9e262f7",
   "metadata": {},
   "outputs": [],
   "source": [
    "two_chocolate_donuts.has_chocolate"
   ]
  },
  {
   "cell_type": "code",
   "execution_count": null,
   "id": "0f034001-f101-4988-a6bc-d918b8324279",
   "metadata": {},
   "outputs": [],
   "source": [
    "donut.name"
   ]
  },
  {
   "cell_type": "code",
   "execution_count": null,
   "id": "cb3964c6-9784-4b5c-bc3e-47a2ed9b9a15",
   "metadata": {},
   "outputs": [],
   "source": [
    "donut.servings"
   ]
  },
  {
   "cell_type": "code",
   "execution_count": null,
   "id": "bf91c485-6147-49ff-b394-342f4fa8035f",
   "metadata": {},
   "outputs": [],
   "source": [
    "donut.has_chocolate"
   ]
  },
  {
   "cell_type": "markdown",
   "id": "6dbbff9f-43ab-4725-9a8e-b61f7a3035bb",
   "metadata": {},
   "source": [
    "Manually overriding defaulted arguments for object instantiation."
   ]
  },
  {
   "cell_type": "code",
   "execution_count": null,
   "id": "c6c15217-9395-465f-a273-22cdb0f93b57",
   "metadata": {},
   "outputs": [],
   "source": [
    "two_chocolate_donuts = BakedGood(\"Two Chocolate Donuts\", 2, True)"
   ]
  },
  {
   "cell_type": "code",
   "execution_count": null,
   "id": "8be00709-8aab-4d24-aac9-c6a4111beb2c",
   "metadata": {},
   "outputs": [],
   "source": [
    "two_chocolate_donuts.name"
   ]
  },
  {
   "cell_type": "code",
   "execution_count": null,
   "id": "64157a96-3ab6-4dab-831f-e02fe284aff9",
   "metadata": {},
   "outputs": [],
   "source": [
    "two_chocolate_donuts.servings"
   ]
  },
  {
   "cell_type": "code",
   "execution_count": null,
   "id": "008e611f-6173-410b-a378-62ebb1b2ce25",
   "metadata": {},
   "outputs": [],
   "source": [
    "two_chocolate_donuts.has_chocolate"
   ]
  },
  {
   "cell_type": "markdown",
   "id": "af97e636-4506-4dbb-a03e-8585dffc4a7a",
   "metadata": {},
   "source": [
    "### Class Attributes"
   ]
  },
  {
   "cell_type": "code",
   "execution_count": null,
   "id": "e16af2ea-3cbd-4933-8e16-8682f1b5af12",
   "metadata": {},
   "outputs": [],
   "source": [
    "class BakedGood:\n",
    "    \n",
    "    total_goods_baked = 0\n",
    "    \n",
    "    def __init__(self, name, servings=1, has_chocolate=False):\n",
    "        self.name = name\n",
    "        self.servings = servings\n",
    "        self.has_chocolate = has_chocolate\n",
    "        \n",
    "        BakedGood.total_goods_baked += 1"
   ]
  },
  {
   "cell_type": "code",
   "execution_count": null,
   "id": "d24e102b-5f12-413a-816d-9abc54ff361a",
   "metadata": {},
   "outputs": [],
   "source": [
    "frosted_donut = BakedGood(name=\"Frosted Donut\", has_chocolate=False, servings=1)\n",
    "chocolate_donut = BakedGood(name=\"Chocolate Donut\", has_chocolate=False, servings=1)\n",
    "super_donut = BakedGood(name=\"Super Donut\", has_chocolate=False, servings=4)"
   ]
  },
  {
   "cell_type": "code",
   "execution_count": null,
   "id": "9f842fce-9353-42c2-97d2-2f8c89a3e076",
   "metadata": {},
   "outputs": [],
   "source": [
    "BakedGood.total_goods_baked"
   ]
  },
  {
   "cell_type": "code",
   "execution_count": null,
   "id": "4b95a8dd-13b5-488c-a11c-8b48e4319231",
   "metadata": {},
   "outputs": [],
   "source": [
    "class BakedGood:\n",
    "    \n",
    "    all_goods_baked = []\n",
    "    \n",
    "    def __init__(self, name, servings=1, has_chocolate=False):\n",
    "        self.name = name\n",
    "        self.servings = servings\n",
    "        self.has_chocolate = has_chocolate\n",
    "        \n",
    "        BakedGood.all_goods_baked.append(self)"
   ]
  },
  {
   "cell_type": "code",
   "execution_count": null,
   "id": "278205d4-7800-422c-9349-544ca06a4ba6",
   "metadata": {},
   "outputs": [],
   "source": [
    "frosted_donut = BakedGood(name=\"Frosted Donut\", has_chocolate=False, servings=1)\n",
    "chocolate_donut = BakedGood(name=\"Chocolate Donut\", has_chocolate=False, servings=1)\n",
    "super_donut = BakedGood(name=\"Super Donut\", has_chocolate=False, servings=4)"
   ]
  },
  {
   "cell_type": "code",
   "execution_count": null,
   "id": "b46e62c9-ab2e-431d-9562-f2e39ee7e297",
   "metadata": {},
   "outputs": [],
   "source": [
    "BakedGood.all_goods_baked"
   ]
  },
  {
   "cell_type": "code",
   "execution_count": null,
   "id": "0a2de2e7-28a9-4f0b-8234-67086e41eefd",
   "metadata": {},
   "outputs": [],
   "source": [
    "BakedGood.all_goods_baked[0].name"
   ]
  },
  {
   "cell_type": "markdown",
   "id": "244892f3-ff3b-41d1-a731-e92b87bf7d85",
   "metadata": {},
   "source": [
    "## Defining Functionality with Methods"
   ]
  },
  {
   "cell_type": "code",
   "execution_count": null,
   "id": "8c2bc68f-96e1-4ea4-8a33-1a1e2b396bf3",
   "metadata": {},
   "outputs": [],
   "source": [
    "class BakedGood:\n",
    "    def __init__(self, name, size=\"medium\", servings=1, has_chocolate=True, is_cake=False):\n",
    "        self.name = name\n",
    "        self.servings = servings\n",
    "        self.has_chocolate = has_chocolate\n",
    "        self.size = size\n",
    "        self.is_cake = is_cake"
   ]
  },
  {
   "cell_type": "code",
   "execution_count": null,
   "id": "27f9a132-e43e-4edd-aec0-eb9fbd161176",
   "metadata": {},
   "outputs": [],
   "source": [
    "chocolate_donut = BakedGood(\"Chocolate Donut\")"
   ]
  },
  {
   "cell_type": "code",
   "execution_count": null,
   "id": "044f2fd7-bb6c-4a37-a33e-1a2a6ff17a94",
   "metadata": {},
   "outputs": [],
   "source": [
    "chocolate_donut.name"
   ]
  },
  {
   "cell_type": "code",
   "execution_count": null,
   "id": "1b7737d5-8c1b-4ac5-9210-9b3014bd60dc",
   "metadata": {},
   "outputs": [],
   "source": [
    "def get_my_donut_name(donut_obj: BakedGood):\n",
    "    print(donut_obj.name)"
   ]
  },
  {
   "cell_type": "code",
   "execution_count": null,
   "id": "b40f6425-40c7-43ef-b0a1-81d8aaaa89dc",
   "metadata": {},
   "outputs": [],
   "source": [
    "get_my_donut_name(chocolate_donut)"
   ]
  },
  {
   "cell_type": "code",
   "execution_count": null,
   "id": "5ce3988c-ec21-4123-bfe3-7ba4f5088f98",
   "metadata": {},
   "outputs": [],
   "source": [
    "class BakedGood:\n",
    "    def __init__(self, name, size=\"medium\", servings=1, has_chocolate=True, is_cake=False):\n",
    "        self.name = name\n",
    "        self.servings = servings\n",
    "        self.has_chocolate = has_chocolate\n",
    "        self.size = size\n",
    "        self.is_cake = is_cake\n",
    "\n",
    "    def eat(self, was_yummy):\n",
    "        print(f\"Eating {self.name}...\")\n",
    "        if was_yummy is True:\n",
    "            print(\"Yum! That tasted great.\")\n",
    "        else:\n",
    "            print(\"Yuck! That was pretty gross.\")"
   ]
  },
  {
   "cell_type": "code",
   "execution_count": null,
   "id": "23f22e73-4baa-4321-8976-b38ae45e2702",
   "metadata": {},
   "outputs": [],
   "source": [
    "chocolate_donut = BakedGood(\"Chocolate Donut\")"
   ]
  },
  {
   "cell_type": "code",
   "execution_count": null,
   "id": "9c5a0932-dc55-4bf9-a251-6f04c421a06e",
   "metadata": {},
   "outputs": [],
   "source": [
    "chocolate_donut.name"
   ]
  },
  {
   "cell_type": "code",
   "execution_count": null,
   "id": "d384fd86-76a0-4c3a-a7b5-15387d1f6523",
   "metadata": {},
   "outputs": [],
   "source": [
    "chocolate_donut.eat(was_yummy=True)"
   ]
  },
  {
   "cell_type": "markdown",
   "id": "d4d92d86-4676-4390-aa61-7c4b69bb3ce2",
   "metadata": {},
   "source": [
    "### Instance Methods"
   ]
  },
  {
   "cell_type": "markdown",
   "id": "758d0266-0a96-48df-aa0b-033ee8618c1c",
   "metadata": {},
   "source": [
    "---\n",
    "---"
   ]
  },
  {
   "cell_type": "code",
   "execution_count": null,
   "id": "5c0a5a71-53d4-4fb5-ae3e-da3cfae0f750",
   "metadata": {},
   "outputs": [],
   "source": [
    "class BakedGood:\n",
    "    \"\"\" Class (recipe) to create baked good instances. \"\"\"\n",
    "    # NOTE: Don't edit these two lines.\n",
    "    total_goods_baked = 0\n",
    "    all_goods_baked = []\n",
    "    \n",
    "    \"\"\" ATTRIBUTES \"\"\"\n",
    "    def __init__(self):\n",
    "        # TODO: Extend `BakedGood().__init__()` to work with future scripts.\n",
    "        pass\n",
    "\n",
    "    \"\"\" INSTANCE METHODS (STEPS TO COOK AND SET THINGS UP) \"\"\"\n",
    "    def get_ingredients(self):\n",
    "        # TODO: Extend `BakedGood().get_ingredients()` to work with future scripts.\n",
    "        pass\n",
    "\n",
    "    def preheat_oven(self):\n",
    "        # TODO: Extend `BakedGood().preheat_oven()` to work with future scripts.\n",
    "        pass\n",
    "\n",
    "    def bake(self):\n",
    "        # TODO: Extend `BakedGood().bake()` to work with future scripts.\n",
    "        # NOTE: Don't edit these next two lines.\n",
    "        BakedGood.total_goods_baked += 1\n",
    "        BakedGood.all_goods_baked.append(self)\n",
    "        # NOTE: You can edit past this line.\n",
    "        pass\n",
    "\n",
    "    def eat(self):\n",
    "        # TODO: Extend `BakedGood().eat()` to work with future scripts.\n",
    "        # NOTE: Don't edit these next two lines.\n",
    "        BakedGood.total_goods_baked -= 1\n",
    "        BakedGood.all_goods_baked.remove(self)\n",
    "        # NOTE: You can edit past this line.\n",
    "        pass"
   ]
  },
  {
   "cell_type": "code",
   "execution_count": null,
   "id": "c707af95-c4a4-4ad6-a9ec-b7bcbc023518",
   "metadata": {},
   "outputs": [],
   "source": [
    "# TODO: Create a baked good instance for making a chocolate cake\n",
    "#       with relevant parameters for its name, number of servings,\n",
    "#       and whether or not it has chocolate\n",
    "# NOTE: It's helpful to have something printed from within this method \n",
    "#       to know this works independently of other methods!\n",
    "chocolate_cake = BakedGood(name=\"Chocolate Cake\",\n",
    "                           servings=12,\n",
    "                           has_chocolate=True)\n",
    "\n",
    "# TODO: Call an instance method to get a list of ingredients and set\n",
    "#       them as our chocolate cake's required ingredients\n",
    "# NOTE: It's helpful to have something printed from within this method \n",
    "#       to know this works independently of other methods!\n",
    "chocolate_cake.get_ingredients([\"Flour\", \"Eggs\", \"Vanilla Extract\", \"Chocolate Chips\"])\n",
    "\n",
    "# TODO: Call an instance method to preheat the oven at 375 degrees\n",
    "# NOTE: It's helpful to have something printed from within this method \n",
    "#       to know this works independently of other methods!\n",
    "chocolate_cake.preheat_oven(375)\n",
    "\n",
    "# TODO: Call an instance method to bake the chocolate cake for 45 minutes\n",
    "#       at 375 degrees. Note that this function should only successfully run\n",
    "#       if the oven is already preheated.\n",
    "# NOTE: It's helpful to have something printed from within this method \n",
    "#       to know this works independently of other methods!\n",
    "chocolate_cake.bake(45, 375)\n",
    "\n",
    "# NOTE: This should print out the total number of currently baked goods as well\n",
    "#       as each of their names. At this point in time, this should return a `1` \n",
    "#       and a `[Chocolate Cake]`, respectively.\n",
    "print(f\"\\n >> Current Number of Baked Goods: {BakedGood.total_goods_baked}\")\n",
    "print(f\" >> All Baked Goods: {[baked_good.name for baked_good in BakedGood.all_goods_baked]}\\n\")\n",
    "\n",
    "# TODO: Call an instance method to eat the chocolate cake that we've just made.\n",
    "# NOTE: It's helpful to have something printed from within this method \n",
    "#       to know this works independently of other methods!\n",
    "chocolate_cake.eat()\n",
    "\n",
    "# NOTE: This should print out the total number of currently baked goods as well\n",
    "#       as each of their names. At this point in time, this should return a `0` \n",
    "#       and a `[]`, respectively.\n",
    "print(f\"\\n >> Current Number of Baked Goods: {BakedGood.total_goods_baked}\")\n",
    "print(f\" >> All Baked Goods: {[baked_good.name for baked_good in BakedGood.all_goods_baked]}\\n\")"
   ]
  },
  {
   "cell_type": "markdown",
   "id": "357ae68a-83e7-4d60-93ea-8c8d4dd7cef3",
   "metadata": {},
   "source": [
    "---\n",
    "---"
   ]
  },
  {
   "cell_type": "code",
   "execution_count": null,
   "id": "6f835de7-bbcd-458e-ad81-f7f06043c37e",
   "metadata": {},
   "outputs": [],
   "source": [
    "chocolate_cake = BakedGood(name=\"Chocolate Cake\", servings=12, has_chocolate=True)"
   ]
  },
  {
   "cell_type": "code",
   "execution_count": null,
   "id": "d851104e-4e93-4d90-b699-e7cdd1a8ddfd",
   "metadata": {},
   "outputs": [],
   "source": [
    "chocolate_cake.eat()"
   ]
  },
  {
   "cell_type": "code",
   "execution_count": null,
   "id": "7a5818da-cea1-4402-85e1-24fab55e9a08",
   "metadata": {},
   "outputs": [],
   "source": [
    "chocolate_cake.ready_to_serve"
   ]
  },
  {
   "cell_type": "code",
   "execution_count": null,
   "id": "e1c778bc-4c5f-46fe-8d61-cc2d4736e7e0",
   "metadata": {},
   "outputs": [],
   "source": [
    "chocolate_cake.ingredients"
   ]
  },
  {
   "cell_type": "code",
   "execution_count": null,
   "id": "251714a1-ffc3-4c78-9580-203dbda56908",
   "metadata": {},
   "outputs": [],
   "source": [
    "chocolate_cake.temperature_of_oven"
   ]
  },
  {
   "cell_type": "code",
   "execution_count": null,
   "id": "357fcd02-1c21-439e-94a8-3954a49273e2",
   "metadata": {},
   "outputs": [],
   "source": [
    "chocolate_cake.get_ingredients([\"Flour\", \"Eggs\", \"Vanilla Extract\", \"Chocolate Chips\"])"
   ]
  },
  {
   "cell_type": "code",
   "execution_count": null,
   "id": "84724dff-1c04-47ee-af41-97d74c01a72c",
   "metadata": {},
   "outputs": [],
   "source": [
    "chocolate_cake.get_ingredients([\"Chocolate Frosting\", \"Food Coloring\"])"
   ]
  },
  {
   "cell_type": "code",
   "execution_count": null,
   "id": "ed52491f-929b-4b44-a5c5-bc2fef91d955",
   "metadata": {},
   "outputs": [],
   "source": [
    "chocolate_cake.ingredients"
   ]
  },
  {
   "cell_type": "code",
   "execution_count": null,
   "id": "be0b70e7-6e81-48ea-b26c-71521744dd08",
   "metadata": {},
   "outputs": [],
   "source": [
    "chocolate_cake.eat()"
   ]
  },
  {
   "cell_type": "code",
   "execution_count": null,
   "id": "c901bde3-ffd9-43e6-ad47-b939adbd18fd",
   "metadata": {},
   "outputs": [],
   "source": [
    "chocolate_cake.ready_to_serve"
   ]
  },
  {
   "cell_type": "code",
   "execution_count": null,
   "id": "301b2c78-6f71-481d-be4f-0e37c8109b83",
   "metadata": {},
   "outputs": [],
   "source": [
    "chocolate_cake.bake()"
   ]
  },
  {
   "cell_type": "code",
   "execution_count": null,
   "id": "7d642f45-4ee3-4e37-94c7-ace174692bb9",
   "metadata": {},
   "outputs": [],
   "source": [
    "chocolate_cake.preheat_oven(375)"
   ]
  },
  {
   "cell_type": "code",
   "execution_count": null,
   "id": "7fda66b7-c0d4-41d1-9f49-e039a35d3797",
   "metadata": {},
   "outputs": [],
   "source": [
    "chocolate_cake.bake()"
   ]
  },
  {
   "cell_type": "code",
   "execution_count": null,
   "id": "3cdd2e05-4b34-4c60-a561-5b93f87eb5d2",
   "metadata": {},
   "outputs": [],
   "source": [
    "BakedGood.all_goods_baked, BakedGood.total_goods_baked"
   ]
  },
  {
   "cell_type": "code",
   "execution_count": null,
   "id": "d5974057-8f8d-4a73-bb45-38df85a0d2b5",
   "metadata": {},
   "outputs": [],
   "source": [
    "chocolate_cake.ready_to_serve"
   ]
  },
  {
   "cell_type": "code",
   "execution_count": null,
   "id": "f59b7da2-ba31-40a2-b9ae-696f775a5510",
   "metadata": {},
   "outputs": [],
   "source": [
    "chocolate_cake.eat()"
   ]
  },
  {
   "cell_type": "code",
   "execution_count": null,
   "id": "e68eb0a1-7db0-41ec-b153-a64a4ed1ebf8",
   "metadata": {},
   "outputs": [],
   "source": [
    "BakedGood.all_goods_baked, BakedGood.total_goods_baked"
   ]
  },
  {
   "cell_type": "code",
   "execution_count": null,
   "id": "a3ba2ed0-520d-45b9-8980-e7d576e2434b",
   "metadata": {},
   "outputs": [],
   "source": [
    "class BakedGood:\n",
    "    total_goods_baked, all_goods_baked = 0, []\n",
    "    # ATTRIBUTES (INGREDIENTS AND INSTRUCTIONS)\n",
    "    def __init__(self, name, servings=1, has_chocolate=False):\n",
    "        self.name = name\n",
    "        self.servings = servings\n",
    "        self.has_chocolate = has_chocolate\n",
    "        self.ingredients = []\n",
    "        self.temperature_of_oven = 0\n",
    "        self.ready_to_serve = False\n",
    "        return print(f\"Set up an instance of `BakedGood` called {self.name}.\")\n",
    "\n",
    "    # METHODS (STEPS TO COOK AND SET THINGS UP)\n",
    "    def get_ingredients(self, ingredient_list: list):\n",
    "        self.ingredients.extend(ingredient_list)\n",
    "        return print(f\"Total Ingredients: {self.ingredients}\")\n",
    "\n",
    "    def preheat_oven(self, temperature: int = 350):\n",
    "        self.temperature_of_oven = temperature\n",
    "        return print(f\"Oven Temperature is currently {self.temperature_of_oven} degrees.\")\n",
    "\n",
    "    def bake(self, time=60, temperature=350):\n",
    "        if temperature == self.temperature_of_oven:\n",
    "            BakedGood.total_goods_baked += 1\n",
    "            BakedGood.all_goods_baked.append(self)\n",
    "            self.ready_to_serve = True\n",
    "            return print(f\"Just baked a {self.name} at {temperature} degrees for {time} minutes!\")\n",
    "        else:\n",
    "            return print(f\"Oven Temperature is not ready! Attempting to bake {self.name} at {temperature} degrees but oven is currently at {self.temperature_of_oven} degrees.\")\n",
    "\n",
    "    def eat(self):\n",
    "        if self.ready_to_serve is True:\n",
    "            print(f\"Let's eat our {self.name}!\")\n",
    "            BakedGood.total_goods_baked -= 1\n",
    "            BakedGood.all_goods_baked.remove(self)\n",
    "            self.ready_to_serve = False\n",
    "            print(f\"Yum! Delicious! That could've filled {self.servings} people but I ate it all by myself!\")\n",
    "        else:\n",
    "            return print(f\"{self.name} is not ready to eat yet!\")"
   ]
  },
  {
   "cell_type": "markdown",
   "id": "9408ec5a-faa3-43c9-b7e2-11552cedc959",
   "metadata": {},
   "source": [
    "## Object Interactivity and Management"
   ]
  },
  {
   "cell_type": "markdown",
   "id": "108fa360-18e3-4e64-9dbd-ea5c5a6d8cd6",
   "metadata": {},
   "source": [
    "### Scoping and Handling Multiple Objects"
   ]
  },
  {
   "cell_type": "markdown",
   "id": "5b9416bf-33e6-4cc5-b9c3-34828a6f44de",
   "metadata": {},
   "source": [
    "**Tutorial.**"
   ]
  },
  {
   "cell_type": "markdown",
   "id": "2f35e30c-95f1-493a-a7fa-7ddd798a62ac",
   "metadata": {},
   "source": [
    "Execution code to reverse-engineer from."
   ]
  },
  {
   "cell_type": "code",
   "execution_count": null,
   "id": "549f07a1-3659-479b-bdb3-0aff064ad819",
   "metadata": {},
   "outputs": [],
   "source": [
    "# TODO: Instantiate an instance of `Baker` named `caker`.\n",
    "# NOTE: This instantiation will automatically create \n",
    "#       an instance of a `Kitchen()` object and \n",
    "#       associate it with the baker.\n",
    "caker = Baker(\"Caker\")\n",
    "\n",
    "# Predefine servings and ingredient list to be used for \n",
    "# invoking `Baker().purchase_ingredients_for()` method.\n",
    "servings_for_chocolate_cake = 8\n",
    "ingredients_for_chocolate_cake = [\"Flour\", \"Eggs\", \"Butter\", \"Chocolate\", \"Vanilla Extract\", \"Sugar\"]\n",
    "\n",
    "# TODO: Have the baker get a list of ingredients.\n",
    "# NOTE: This list of ingredients will automatically\n",
    "#       go into the baker's kitchen pantry.\n",
    "caker.purchase_ingredients_for(\"Chocolate Cake\",\n",
    "                               servings=servings_for_chocolate_cake,\n",
    "                               ingredients=ingredients_for_chocolate_cake)\n",
    "\n",
    "# TODO: Have the baker preheat the oven to a set temperature of 375°F.\n",
    "caker.preheat_oven(375)\n",
    "\n",
    "# TODO: Have the baker bake the chocolate cake at 375°F for 45 min.\n",
    "# NOTE: When the chocolate cake has been fully baked, two class attributes\n",
    "#       owned by the baker class are updated. One is an integer tracking\n",
    "#       number of total goods baked that should be incremented. The other\n",
    "#       is a list tracking each existing instance of a baked good that \n",
    "#       should be appended to. \n",
    "caker.bake_in_oven(45)\n",
    "\n",
    "# TODO: Have the baker eat the chocolate cake.\n",
    "#       This will remove the instance of the chocolate cake from the class\n",
    "#       attribute list tracking each existing instance of a baked good.\n",
    "#       However, this will NOT decrement the integer class attribute \n",
    "#       tracking the total number of goods baked by the baker.\n",
    "caker.eat(\"Chocolate Cake\")"
   ]
  },
  {
   "cell_type": "code",
   "execution_count": null,
   "id": "9df38c01-a0f1-4959-9b23-01c95abfeac9",
   "metadata": {},
   "outputs": [],
   "source": [
    "Baker.all_goods_baked"
   ]
  },
  {
   "cell_type": "code",
   "execution_count": null,
   "id": "bbacb21e-6a52-415a-a764-cba7fb67f01f",
   "metadata": {},
   "outputs": [],
   "source": [
    "Baker.total_num_of_goods_baked"
   ]
  },
  {
   "cell_type": "code",
   "execution_count": null,
   "id": "b36c4121-fb6a-4ae1-b7a4-4c06c34c2649",
   "metadata": {},
   "outputs": [],
   "source": [
    "caker.current_item_to_bake"
   ]
  },
  {
   "cell_type": "code",
   "execution_count": null,
   "id": "784f678f-7e17-4a2e-8938-eee8361b659a",
   "metadata": {},
   "outputs": [],
   "source": [
    "Baker.all_goods_baked"
   ]
  },
  {
   "cell_type": "code",
   "execution_count": null,
   "id": "0e09dbfc-76ec-423c-b920-855a3bf0f55e",
   "metadata": {},
   "outputs": [],
   "source": [
    "Baker.total_num_of_goods_baked"
   ]
  },
  {
   "cell_type": "code",
   "execution_count": null,
   "id": "f88edd8c-ac2d-4fdc-81e8-70dfc115e87c",
   "metadata": {},
   "outputs": [],
   "source": [
    "caker.kitchen.oven.temperature"
   ]
  },
  {
   "cell_type": "code",
   "execution_count": null,
   "id": "47214e5b-01f2-445a-a49c-9df6545f3293",
   "metadata": {},
   "outputs": [],
   "source": [
    "class Baker:\n",
    "    all_goods_baked = []\n",
    "    total_num_of_goods_baked = 0\n",
    "    \n",
    "    def __init__(self, name):\n",
    "        self.name = name\n",
    "        self.kitchen = Kitchen()\n",
    "        self.current_item_to_bake = None\n",
    "\n",
    "    def purchase_ingredients_for(self,\n",
    "                                 name_of_item_to_bake: str,\n",
    "                                 servings: int,\n",
    "                                 ingredients: list):\n",
    "        self.kitchen.pantry.extend(ingredients)\n",
    "        self.current_item_to_bake = name_of_item_to_bake\n",
    "\n",
    "    def preheat_oven(self, temperature: int):\n",
    "        self.kitchen.oven.temperature = temperature\n",
    "\n",
    "    def bake_in_oven(self, cooking_time: int):\n",
    "        item_to_bake = BakedGood(name=self.current_item_to_bake,\n",
    "                                 cooking_time=0)\n",
    "        Baker.all_goods_baked.append(item_to_bake)\n",
    "        Baker.total_num_of_goods_baked += 1\n",
    "\n",
    "    def eat(self, name_of_item_to_eat: str):\n",
    "        for baked_good in Baker.all_goods_baked:\n",
    "            if name_of_item_to_eat == baked_good.name:\n",
    "                Baker.all_goods_baked.remove(baked_good)"
   ]
  },
  {
   "cell_type": "code",
   "execution_count": null,
   "id": "c16b9ca1-06c3-407f-9998-5d255bbe890d",
   "metadata": {},
   "outputs": [],
   "source": [
    "class Kitchen:\n",
    "    def __init__(self):\n",
    "        self.pantry = []\n",
    "        self.oven = Oven()"
   ]
  },
  {
   "cell_type": "code",
   "execution_count": null,
   "id": "69cdc186-0cf3-44d1-8c12-3ebf039a7ba8",
   "metadata": {},
   "outputs": [],
   "source": [
    "class Oven:\n",
    "    def __init__(self):\n",
    "        self.temperature = 0"
   ]
  },
  {
   "cell_type": "code",
   "execution_count": null,
   "id": "2fabdd2c-2314-4ff6-a56f-d245ceaa8c84",
   "metadata": {},
   "outputs": [],
   "source": [
    "class BakedGood:\n",
    "    def __init__(self, name: str, cooking_time: int):\n",
    "        self.name = name\n",
    "        self.cooking_time = cooking_time"
   ]
  },
  {
   "cell_type": "markdown",
   "id": "0fe941cc-0d22-4a73-a348-e7ebbea933f9",
   "metadata": {},
   "source": [
    "Object architecture code to engineer."
   ]
  },
  {
   "cell_type": "code",
   "execution_count": null,
   "id": "887a47ea-0cfe-4d75-9671-0bfbf6d1538d",
   "metadata": {},
   "outputs": [],
   "source": [
    "class Kitchen:\n",
    "    def __init__(self):\n",
    "        self.pantry = set()\n",
    "        self.oven = Oven()\n",
    "\n",
    "class Oven:\n",
    "    def __init__(self):\n",
    "        self.is_preheated = False\n",
    "        self.temperature = 0         # Degrees Fahrenheit\n",
    "        self.time_to_cook = 0        # Minutes\n",
    "\n",
    "    def preheat(self, temperature: int):\n",
    "        self.temperature = temperature\n",
    "        self.is_preheated = True\n",
    "\n",
    "    def bake(self, item_to_bake: str, cook_time: int):\n",
    "        self.time_to_cook = cook_time\n",
    "        return BakedGood(name=item_to_bake)"
   ]
  },
  {
   "cell_type": "code",
   "execution_count": null,
   "id": "51be74a7-0326-4842-9ae4-3f1584d256da",
   "metadata": {},
   "outputs": [],
   "source": [
    "class BakedGood:\n",
    "    def __init__(self, name: str, servings: int = 8):\n",
    "        self.name = name\n",
    "        self.servings = servings"
   ]
  },
  {
   "cell_type": "code",
   "execution_count": null,
   "id": "70c85213-7868-4aab-9776-a110b8076011",
   "metadata": {},
   "outputs": [],
   "source": [
    "class Baker:\n",
    "    all_goods_baked, total_number_of_goods_baked = [], 0\n",
    "    \n",
    "    def __init__(self, name):\n",
    "        self.name = name\n",
    "        self.kitchen = Kitchen()\n",
    "        self.name_of_item_to_bake = None\n",
    "        self.servings = None\n",
    "\n",
    "    def purchase_ingredients_for(self, name_of_item_to_bake: str, servings: int, ingredients: list):\n",
    "        self.kitchen.pantry.update(ingredients)\n",
    "        self.name_of_item_to_bake = name_of_item_to_bake\n",
    "        self.servings = servings\n",
    "\n",
    "    def preheat_oven(self, temperature: int):\n",
    "        self.kitchen.oven.preheat(temperature=temperature)\n",
    "\n",
    "    def bake_in_oven(self, cook_time: int):\n",
    "        baked_good = self.kitchen.oven.bake(item_to_bake=self.name_of_item_to_bake, \n",
    "                                            cook_time=cook_time)\n",
    "        Baker.all_goods_baked.append(baked_good)\n",
    "        Baker.total_number_of_goods_baked += 1\n",
    "        self.name_of_item_to_bake = None\n",
    "\n",
    "    def eat(self, name_of_baked_good_to_eat: str):\n",
    "        for baked_good in Baker.all_goods_baked:\n",
    "            if baked_good.name == name_of_baked_good_to_eat:\n",
    "                Baker.all_goods_baked.remove(baked_good)"
   ]
  },
  {
   "cell_type": "markdown",
   "id": "ea2451eb-74d2-4655-b9ab-e0423cf39b83",
   "metadata": {},
   "source": [
    "**Breakout Activity.**"
   ]
  },
  {
   "cell_type": "markdown",
   "id": "d823285f-c6db-4c83-87ec-fbaffbc73432",
   "metadata": {},
   "source": [
    "Using our experience's with the starter tutorial code, try extending the functionality of some of these other classes to give rise to a more multi-object functional script! \n",
    "\n",
    "Be creative and have fun with it! "
   ]
  },
  {
   "cell_type": "markdown",
   "id": "0f6e4020-c635-454c-8691-22092b50e613",
   "metadata": {},
   "source": [
    "Execution code to reverse-engineer from."
   ]
  },
  {
   "cell_type": "code",
   "execution_count": null,
   "id": "fee6724e-cbc3-44d7-a9cf-588279c73529",
   "metadata": {},
   "outputs": [],
   "source": [
    "# TODO: Create an instance of a human.\n",
    "# NOTE: When a human is initialized, we should\n",
    "#       pass enough relevant data to it to also\n",
    "#       initialize an instance of its pet dog.\n",
    "owner = Human(name=\"Kash\",\n",
    "              age=27,\n",
    "              name_of_dog=\"Bablu\",\n",
    "              breed_of_dog=\"Australian Shepherd\",\n",
    "              age_of_dog=5)\n",
    "\n",
    "# TODO: Have the human walk the dog.\n",
    "# NOTE: The dog should be happy and tired.\n",
    "# NOTE: The dog should bark.\n",
    "owner.walk_dog()\n",
    "\n",
    "# TODO: Have the human feed the dog.\n",
    "# NOTE: The dog should be happy and active.\n",
    "# NOTE: The dog should woof.\n",
    "owner.feed_dog()\n",
    "\n",
    "# TODO: Have the human take the dog to the vet.\n",
    "# NOTE: The dog should be sad and active.\n",
    "# NOTE: The dog should whine.\n",
    "owner.take_dog_to_vet()\n",
    "\n",
    "# TODO: Have the human get another dog. There should\n",
    "#       now be two dogs associated with the owner.\n",
    "# NOTE: This will mandate utilizing class attribute code.\n",
    "#       Check the object architecture notes for more info.\n",
    "owner.get_new_dog(name_of_dog=\"Cashew\",\n",
    "                  breed_of_dog=\"Floofygirl\",\n",
    "                  age_of_dog=3)"
   ]
  },
  {
   "cell_type": "markdown",
   "id": "4b00c877-703f-48d2-906f-a781aace101c",
   "metadata": {},
   "source": [
    "Object architecture code to engineer."
   ]
  },
  {
   "cell_type": "code",
   "execution_count": null,
   "id": "c1b385c5-a1f8-4d7c-920e-ff9e0ddd8ee7",
   "metadata": {},
   "outputs": [],
   "source": [
    "# Write your object integration code here!\n",
    "class Human:\n",
    "    def __init__(self, name, age, name_of_dog, breed_of_dog, age_of_dog):\n",
    "        self.name = name\n",
    "        self.age = age\n",
    "        # TODO: Modify this to instantiate an instance of `Dog` and add to list.\n",
    "        self.dog = Dog(name_of_dog, \n",
    "                         breed_of_dog, \n",
    "                         age_of_dog)\n",
    "        # self.dogs = []\n",
    "        # self.dogs = [Dog(name_of_dog, \n",
    "        #                  breed_of_dog, \n",
    "        #                  age_of_dog)]\n",
    "\n",
    "    def walk_dog(self):\n",
    "        self.dog.walk()\n",
    "        # for dog in self.dogs:\n",
    "        #     dog.walk()\n",
    "\n",
    "    def feed_dog(self):\n",
    "        for dog in self.dogs:\n",
    "            dog.eat()\n",
    "\n",
    "    def take_dog_to_vet(self):\n",
    "        for dog in self.dogs:\n",
    "            dog.go_to_vet()\n",
    "\n",
    "    def get_new_dog(self, name_of_dog, breed_of_dog, age_of_dog):\n",
    "        # TODO: Modify this to add an instance of a new `Dog` to owner's list.\n",
    "        self.dogs.append(Dog(name_of_dog, breed_of_dog, age_of_dog))"
   ]
  },
  {
   "cell_type": "code",
   "execution_count": null,
   "id": "ebaf2f99-9142-4a32-8298-e9fa5e0fc994",
   "metadata": {},
   "outputs": [],
   "source": [
    "# Write your object integration code here!\n",
    "class Dog:\n",
    "    all_dogs, num_of_dogs = [], 0\n",
    "    \n",
    "    def __init__(self, name, breed, age):\n",
    "        self.name = name\n",
    "        self.breed = breed\n",
    "        self.age = age\n",
    "        self.is_happy = False\n",
    "        self.is_tired = False\n",
    "        # TODO: Increment and extend class attributes for tracking total number of dogs and all dog instances.\n",
    "        Dog.all_dogs.append(self)\n",
    "        Dog.num_of_dogs += 1\n",
    "\n",
    "    def walk(self):\n",
    "        self.is_happy = True\n",
    "        self.is_tired = True\n",
    "        self.speak(command=\"bark\")\n",
    "\n",
    "    def eat(self):\n",
    "        self.is_happy, self.is_tired = True, False\n",
    "        self.speak(command=\"woof\")\n",
    "\n",
    "    def go_to_vet(self):\n",
    "        self.is_happy, self.is_tired = False, False\n",
    "        self.speak(command=\"whine\")\n",
    "\n",
    "    def speak(self, command=\"woof\", intensity=True):\n",
    "        print(command)"
   ]
  },
  {
   "cell_type": "markdown",
   "id": "234fa904-19e7-429a-89a8-b178e1f36d33",
   "metadata": {},
   "source": [
    "---\n",
    "---\n",
    "---"
   ]
  }
 ],
 "metadata": {
  "kernelspec": {
   "display_name": "Python 3 (ipykernel)",
   "language": "python",
   "name": "python3"
  },
  "language_info": {
   "codemirror_mode": {
    "name": "ipython",
    "version": 3
   },
   "file_extension": ".py",
   "mimetype": "text/x-python",
   "name": "python",
   "nbconvert_exporter": "python",
   "pygments_lexer": "ipython3",
   "version": "3.11.3"
  }
 },
 "nbformat": 4,
 "nbformat_minor": 5
}
